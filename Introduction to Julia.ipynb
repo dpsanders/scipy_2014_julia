{
 "cells": [
  {
   "cell_type": "markdown",
   "metadata": {},
   "source": [
    "# Introduction to Julia"
   ]
  },
  {
   "cell_type": "markdown",
   "metadata": {},
   "source": [
    "Let's start with a quick overview of the basic syntax, emphasising differences with Python."
   ]
  },
  {
   "cell_type": "markdown",
   "metadata": {},
   "source": [
    "# Variables and arithmetic"
   ]
  },
  {
   "cell_type": "markdown",
   "metadata": {},
   "source": [
    "Numeric values in Julia work similarly to Python:"
   ]
  },
  {
   "cell_type": "markdown",
   "metadata": {},
   "source": [
    "Variables in Julia are created as in Python, with a simple assignment operation; variable names can be *arbitrary unicode characters*. Many may be entered in LaTeX notation, using tab substitution: type `\\alpha<TAB>`. There is also tab completion on partial names: `\\alp<TAB>`"
   ]
  },
  {
   "cell_type": "code",
   "execution_count": 2,
   "metadata": {
    "collapsed": false
   },
   "outputs": [
    {
     "data": {
      "text/plain": [
       "3"
      ]
     },
     "execution_count": 2,
     "metadata": {},
     "output_type": "execute_result"
    }
   ],
   "source": [
    "x = 3"
   ]
  },
  {
   "cell_type": "code",
   "execution_count": 3,
   "metadata": {
    "collapsed": false
   },
   "outputs": [
    {
     "data": {
      "text/plain": [
       "5"
      ]
     },
     "execution_count": 3,
     "metadata": {},
     "output_type": "execute_result"
    }
   ],
   "source": [
    "y = 5"
   ]
  },
  {
   "cell_type": "code",
   "execution_count": 5,
   "metadata": {
    "collapsed": false
   },
   "outputs": [
    {
     "data": {
      "text/plain": [
       "10"
      ]
     },
     "execution_count": 5,
     "metadata": {},
     "output_type": "execute_result"
    }
   ],
   "source": [
    "α = 3; ℵ = 10"
   ]
  },
  {
   "cell_type": "code",
   "execution_count": null,
   "metadata": {
    "collapsed": false
   },
   "outputs": [],
   "source": []
  },
  {
   "cell_type": "markdown",
   "metadata": {},
   "source": [
    "Functions use parentheses (round brackets, `()`) around the arguments being passed. `println` prints its arguments, followed by a new line. [`print` omits the new line.] "
   ]
  },
  {
   "cell_type": "code",
   "execution_count": 6,
   "metadata": {
    "collapsed": false
   },
   "outputs": [
    {
     "name": "stdout",
     "output_type": "stream",
     "text": [
      "α = 3\n"
     ]
    }
   ],
   "source": [
    "println(\"α = \", α)"
   ]
  },
  {
   "cell_type": "markdown",
   "metadata": {},
   "source": [
    "Simple functions may be defined with a nice mathematical syntax; `*` is not needed in simple expressions:"
   ]
  },
  {
   "cell_type": "code",
   "execution_count": 12,
   "metadata": {
    "collapsed": false
   },
   "outputs": [
    {
     "data": {
      "text/plain": [
       "g (generic function with 1 method)"
      ]
     },
     "execution_count": 12,
     "metadata": {},
     "output_type": "execute_result"
    }
   ],
   "source": [
    "f(x) = 2x^2 + 3x + 1\n",
    "g(x) = f(x) - (2x+1)*(x+1)"
   ]
  },
  {
   "cell_type": "code",
   "execution_count": 9,
   "metadata": {
    "collapsed": false
   },
   "outputs": [
    {
     "data": {
      "text/plain": [
       "28"
      ]
     },
     "execution_count": 9,
     "metadata": {},
     "output_type": "execute_result"
    }
   ],
   "source": [
    "f(3)"
   ]
  },
  {
   "cell_type": "code",
   "execution_count": 11,
   "metadata": {
    "collapsed": false
   },
   "outputs": [
    {
     "ename": "LoadError",
     "evalue": "type: g: in apply, expected Function, got Float64\nwhile loading In[11], in expression starting on line 1",
     "output_type": "error",
     "traceback": [
      "type: g: in apply, expected Function, got Float64\nwhile loading In[11], in expression starting on line 1",
      " in g at In[10]:2"
     ]
    }
   ],
   "source": [
    "g(3.5)"
   ]
  },
  {
   "cell_type": "markdown",
   "metadata": {},
   "source": [
    "## Variable substitution"
   ]
  },
  {
   "cell_type": "markdown",
   "metadata": {},
   "source": [
    "The values of variables may be substituted into strings in a simple way using the `$` operator:"
   ]
  },
  {
   "cell_type": "code",
   "execution_count": 17,
   "metadata": {
    "collapsed": false
   },
   "outputs": [
    {
     "name": "stdout",
     "output_type": "stream",
     "text": [
      "Hello, David\n"
     ]
    }
   ],
   "source": [
    "# Variable substitution with $:\n",
    "name = \"David\"\n",
    "greeting = \"Hello, $name\"\n",
    "println(greeting)"
   ]
  },
  {
   "cell_type": "markdown",
   "metadata": {},
   "source": [
    "More complicated expressions are wrapped in parentheses:"
   ]
  },
  {
   "cell_type": "code",
   "execution_count": 13,
   "metadata": {
    "collapsed": false
   },
   "outputs": [
    {
     "name": "stdout",
     "output_type": "stream",
     "text": [
      "The sine of 3 is 0.1411200080598672\n"
     ]
    }
   ],
   "source": [
    "μ = 3\n",
    "println(\"The sine of $μ is $(sin(μ))\")"
   ]
  },
  {
   "cell_type": "markdown",
   "metadata": {},
   "source": [
    "## Numerical types"
   ]
  },
  {
   "cell_type": "markdown",
   "metadata": {},
   "source": [
    "There are numerical types with different precisions: typing `Float<TAB>` or `Int<TAB>` will provide a list. Currently, in arithmetic calculations types are promoted to the machine type. (This looks likely to change soon.)"
   ]
  },
  {
   "cell_type": "markdown",
   "metadata": {},
   "source": [
    "Machine integers!"
   ]
  },
  {
   "cell_type": "code",
   "execution_count": 15,
   "metadata": {
    "collapsed": false
   },
   "outputs": [
    {
     "data": {
      "text/plain": [
       "100000000000000000"
      ]
     },
     "execution_count": 15,
     "metadata": {},
     "output_type": "execute_result"
    }
   ],
   "source": [
    "a = int(1e16)\n",
    "a * 10"
   ]
  },
  {
   "cell_type": "code",
   "execution_count": 5,
   "metadata": {
    "collapsed": false
   },
   "outputs": [
    {
     "data": {
      "text/plain": [
       "3"
      ]
     },
     "execution_count": 5,
     "metadata": {},
     "output_type": "execute_result"
    }
   ],
   "source": [
    "a = int8(1)\n",
    "b = int8(2)\n",
    "a + b"
   ]
  },
  {
   "cell_type": "code",
   "execution_count": 6,
   "metadata": {
    "collapsed": false
   },
   "outputs": [
    {
     "data": {
      "text/plain": [
       "Int64"
      ]
     },
     "execution_count": 6,
     "metadata": {},
     "output_type": "execute_result"
    }
   ],
   "source": [
    "typeof(ans)"
   ]
  },
  {
   "cell_type": "markdown",
   "metadata": {},
   "source": [
    "These promotion rules are defined in `int.jl`."
   ]
  },
  {
   "cell_type": "markdown",
   "metadata": {},
   "source": [
    "## Arbitrary-precision arithmetic"
   ]
  },
  {
   "cell_type": "markdown",
   "metadata": {},
   "source": [
    "Arbitrary-precision integers and floating points are available through the types `BigInt` and `BigFloat`. The function `big` converts a number into the corresponding `Big` type:"
   ]
  },
  {
   "cell_type": "code",
   "execution_count": 16,
   "metadata": {
    "collapsed": false
   },
   "outputs": [
    {
     "data": {
      "text/plain": [
       "10"
      ]
     },
     "execution_count": 16,
     "metadata": {},
     "output_type": "execute_result"
    }
   ],
   "source": [
    "big(10)"
   ]
  },
  {
   "cell_type": "code",
   "execution_count": 17,
   "metadata": {
    "collapsed": false
   },
   "outputs": [
    {
     "data": {
      "text/plain": [
       "BigInt (constructor with 10 methods)"
      ]
     },
     "execution_count": 17,
     "metadata": {},
     "output_type": "execute_result"
    }
   ],
   "source": [
    "typeof(ans)"
   ]
  },
  {
   "cell_type": "markdown",
   "metadata": {},
   "source": [
    "Note that, unlike in Python, integers *are not* automatically promoted to arbitrary-precision integers."
   ]
  },
  {
   "cell_type": "markdown",
   "metadata": {},
   "source": [
    "----\n",
    "**Exercise**: Calculate powers of 10 using standard integers and `BigInt`s\n",
    "\n",
    "----"
   ]
  },
  {
   "cell_type": "code",
   "execution_count": 18,
   "metadata": {
    "collapsed": false
   },
   "outputs": [
    {
     "data": {
      "text/plain": [
       "100000"
      ]
     },
     "execution_count": 18,
     "metadata": {},
     "output_type": "execute_result"
    }
   ],
   "source": [
    "10^5"
   ]
  },
  {
   "cell_type": "code",
   "execution_count": 1,
   "metadata": {
    "collapsed": false
   },
   "outputs": [
    {
     "ename": "LoadError",
     "evalue": "syntax: use \"^\" instead of \"**\"\nwhile loading In[1], in expression starting on line 1",
     "output_type": "error",
     "traceback": [
      "syntax: use \"^\" instead of \"**\"\nwhile loading In[1], in expression starting on line 1",
      ""
     ]
    }
   ],
   "source": [
    "10**5"
   ]
  },
  {
   "cell_type": "code",
   "execution_count": 24,
   "metadata": {
    "collapsed": false
   },
   "outputs": [
    {
     "data": {
      "text/plain": [
       "-8446744073709551616"
      ]
     },
     "execution_count": 24,
     "metadata": {},
     "output_type": "execute_result"
    }
   ],
   "source": [
    "10^19"
   ]
  },
  {
   "cell_type": "code",
   "execution_count": 25,
   "metadata": {
    "collapsed": false
   },
   "outputs": [
    {
     "data": {
      "text/plain": [
       "10"
      ]
     },
     "execution_count": 25,
     "metadata": {},
     "output_type": "execute_result"
    }
   ],
   "source": [
    "ten = big(10)"
   ]
  },
  {
   "cell_type": "code",
   "execution_count": 27,
   "metadata": {
    "collapsed": false
   },
   "outputs": [
    {
     "data": {
      "text/plain": [
       "10000000000000000000"
      ]
     },
     "execution_count": 27,
     "metadata": {},
     "output_type": "execute_result"
    }
   ],
   "source": [
    "ten^19"
   ]
  },
  {
   "cell_type": "code",
   "execution_count": 4,
   "metadata": {
    "collapsed": false
   },
   "outputs": [
    {
     "data": {
      "text/plain": [
       "10"
      ]
     },
     "execution_count": 4,
     "metadata": {},
     "output_type": "execute_result"
    }
   ],
   "source": [
    "i = int8(10)"
   ]
  },
  {
   "cell_type": "code",
   "execution_count": 5,
   "metadata": {
    "collapsed": false
   },
   "outputs": [
    {
     "data": {
      "text/plain": [
       "10"
      ]
     },
     "execution_count": 5,
     "metadata": {},
     "output_type": "execute_result"
    }
   ],
   "source": [
    "i * int8(1)"
   ]
  },
  {
   "cell_type": "code",
   "execution_count": 6,
   "metadata": {
    "collapsed": false
   },
   "outputs": [
    {
     "data": {
      "text/plain": [
       "Int64"
      ]
     },
     "execution_count": 6,
     "metadata": {},
     "output_type": "execute_result"
    }
   ],
   "source": [
    "typeof(ans)"
   ]
  },
  {
   "cell_type": "code",
   "execution_count": 7,
   "metadata": {
    "collapsed": false
   },
   "outputs": [
    {
     "data": {
      "text/plain": [
       "9223372036854775807"
      ]
     },
     "execution_count": 7,
     "metadata": {},
     "output_type": "execute_result"
    }
   ],
   "source": [
    "typemax(Int64)"
   ]
  },
  {
   "cell_type": "code",
   "execution_count": 36,
   "metadata": {
    "collapsed": false
   },
   "outputs": [
    {
     "data": {
      "text/plain": [
       "-9223372036854775808"
      ]
     },
     "execution_count": 36,
     "metadata": {},
     "output_type": "execute_result"
    }
   ],
   "source": [
    "typemin(Int64)"
   ]
  },
  {
   "cell_type": "markdown",
   "metadata": {},
   "source": [
    "## Complex numbers"
   ]
  },
  {
   "cell_type": "markdown",
   "metadata": {},
   "source": [
    "Complex numbers are written using `im` for the imaginary part:"
   ]
  },
  {
   "cell_type": "code",
   "execution_count": 8,
   "metadata": {
    "collapsed": false
   },
   "outputs": [
    {
     "data": {
      "text/plain": [
       "7.0 + 24.5im"
      ]
     },
     "execution_count": 8,
     "metadata": {},
     "output_type": "execute_result"
    }
   ],
   "source": [
    "a = 7\n",
    "c = (1+3.5im) * a"
   ]
  },
  {
   "cell_type": "code",
   "execution_count": 9,
   "metadata": {
    "collapsed": false
   },
   "outputs": [
    {
     "data": {
      "text/plain": [
       "24.5"
      ]
     },
     "execution_count": 9,
     "metadata": {},
     "output_type": "execute_result"
    }
   ],
   "source": [
    "c.im"
   ]
  },
  {
   "cell_type": "code",
   "execution_count": 10,
   "metadata": {
    "collapsed": false
   },
   "outputs": [
    {
     "data": {
      "text/plain": [
       "(7.0,24.5)"
      ]
     },
     "execution_count": 10,
     "metadata": {},
     "output_type": "execute_result"
    }
   ],
   "source": [
    "c.re, c.im"
   ]
  },
  {
   "cell_type": "code",
   "execution_count": 11,
   "metadata": {
    "collapsed": false
   },
   "outputs": [
    {
     "data": {
      "text/plain": [
       "649.25 + 0.0im"
      ]
     },
     "execution_count": 11,
     "metadata": {},
     "output_type": "execute_result"
    }
   ],
   "source": [
    "c * conj(c)  # conj is a function that returns the conjugate of a complex number"
   ]
  },
  {
   "cell_type": "markdown",
   "metadata": {},
   "source": [
    "(Tuples behave similarly to Python.)"
   ]
  },
  {
   "cell_type": "markdown",
   "metadata": {},
   "source": [
    "## Rational numbers"
   ]
  },
  {
   "cell_type": "markdown",
   "metadata": {},
   "source": [
    "Rational numbers are also built into Julia; they are created using the `//` operator:"
   ]
  },
  {
   "cell_type": "code",
   "execution_count": 42,
   "metadata": {
    "collapsed": false
   },
   "outputs": [
    {
     "data": {
      "text/plain": [
       "3//4"
      ]
     },
     "execution_count": 42,
     "metadata": {},
     "output_type": "execute_result"
    }
   ],
   "source": [
    "3//4"
   ]
  },
  {
   "cell_type": "code",
   "execution_count": 43,
   "metadata": {
    "collapsed": false
   },
   "outputs": [
    {
     "data": {
      "text/plain": [
       "Rational{Int64} (constructor with 1 method)"
      ]
     },
     "execution_count": 43,
     "metadata": {},
     "output_type": "execute_result"
    }
   ],
   "source": [
    "typeof(ans)"
   ]
  },
  {
   "cell_type": "code",
   "execution_count": 49,
   "metadata": {
    "collapsed": false
   },
   "outputs": [
    {
     "data": {
      "text/plain": [
       "717897987691852588770249//1267650600228229401496703205376"
      ]
     },
     "execution_count": 49,
     "metadata": {},
     "output_type": "execute_result"
    }
   ],
   "source": [
    "(big(3)//4)^50"
   ]
  },
  {
   "cell_type": "code",
   "execution_count": 50,
   "metadata": {
    "collapsed": false
   },
   "outputs": [
    {
     "data": {
      "text/plain": [
       "Rational{BigInt} (constructor with 1 method)"
      ]
     },
     "execution_count": 50,
     "metadata": {},
     "output_type": "execute_result"
    }
   ],
   "source": [
    "typeof(ans)"
   ]
  },
  {
   "cell_type": "code",
   "execution_count": 58,
   "metadata": {
    "collapsed": false
   },
   "outputs": [
    {
     "data": {
      "text/plain": [
       "19//12"
      ]
     },
     "execution_count": 58,
     "metadata": {},
     "output_type": "execute_result"
    }
   ],
   "source": [
    "3//4 + 5//6"
   ]
  },
  {
   "cell_type": "markdown",
   "metadata": {},
   "source": [
    "Operators are a convenient way of writing functions:"
   ]
  },
  {
   "cell_type": "code",
   "execution_count": 51,
   "metadata": {
    "collapsed": false
   },
   "outputs": [
    {
     "data": {
      "text/plain": [
       "7"
      ]
     },
     "execution_count": 51,
     "metadata": {},
     "output_type": "execute_result"
    }
   ],
   "source": [
    "+(3, 4)"
   ]
  },
  {
   "cell_type": "code",
   "execution_count": 8,
   "metadata": {
    "collapsed": false
   },
   "outputs": [
    {
     "data": {
      "text/plain": [
       "3//4"
      ]
     },
     "execution_count": 8,
     "metadata": {},
     "output_type": "execute_result"
    }
   ],
   "source": [
    "//(3, 4)"
   ]
  },
  {
   "cell_type": "code",
   "execution_count": 52,
   "metadata": {
    "collapsed": false
   },
   "outputs": [
    {
     "data": {
      "text/plain": [
       "// (generic function with 8 methods)"
      ]
     },
     "execution_count": 52,
     "metadata": {},
     "output_type": "execute_result"
    }
   ],
   "source": [
    "//"
   ]
  },
  {
   "cell_type": "markdown",
   "metadata": {},
   "source": [
    "We see that `//` is a *function*, implemented as a series of *methods*. We can see what these methods are:"
   ]
  },
  {
   "cell_type": "code",
   "execution_count": 12,
   "metadata": {
    "collapsed": false
   },
   "outputs": [
    {
     "data": {
      "text/html": [
       "8 methods for generic function <b>//</b>:<ul><li> //(n::<b>Integer</b>,d::<b>Integer</b>) at <a href=\"https://github.com/JuliaLang/julia/tree/31efe690bea1fd8f4e44692e205fb72d34f50ad3/base/rational.jl#L15\" target=\"_blank\">rational.jl:15</a><li> //(x::<b>Rational{T<:Integer}</b>,y::<b>Integer</b>) at <a href=\"https://github.com/JuliaLang/julia/tree/31efe690bea1fd8f4e44692e205fb72d34f50ad3/base/rational.jl#L16\" target=\"_blank\">rational.jl:16</a><li> //(x::<b>Integer</b>,y::<b>Rational{T<:Integer}</b>) at <a href=\"https://github.com/JuliaLang/julia/tree/31efe690bea1fd8f4e44692e205fb72d34f50ad3/base/rational.jl#L17\" target=\"_blank\">rational.jl:17</a><li> //(x::<b>Rational{T<:Integer}</b>,y::<b>Rational{T<:Integer}</b>) at <a href=\"https://github.com/JuliaLang/julia/tree/31efe690bea1fd8f4e44692e205fb72d34f50ad3/base/rational.jl#L18\" target=\"_blank\">rational.jl:18</a><li> //(x::<b>Complex{T<:Real}</b>,y::<b>Real</b>) at <a href=\"https://github.com/JuliaLang/julia/tree/31efe690bea1fd8f4e44692e205fb72d34f50ad3/base/rational.jl#L19\" target=\"_blank\">rational.jl:19</a><li> //(x::<b>Real</b>,y::<b>Complex{T<:Real}</b>) at <a href=\"https://github.com/JuliaLang/julia/tree/31efe690bea1fd8f4e44692e205fb72d34f50ad3/base/rational.jl#L20\" target=\"_blank\">rational.jl:20</a><li> //(x::<b>Complex{T<:Real}</b>,y::<b>Complex{T<:Real}</b>) at <a href=\"https://github.com/JuliaLang/julia/tree/31efe690bea1fd8f4e44692e205fb72d34f50ad3/base/rational.jl#L23\" target=\"_blank\">rational.jl:23</a><li> //(X::<b>AbstractArray{T,N}</b>,y::<b>Number</b>) at <a href=\"https://github.com/JuliaLang/julia/tree/31efe690bea1fd8f4e44692e205fb72d34f50ad3/base/rational.jl#L28\" target=\"_blank\">rational.jl:28</a></ul>"
      ],
      "text/plain": [
       "# 8 methods for generic function \"//\":\n",
       "//(n::Integer,d::Integer) at rational.jl:15\n",
       "//(x::Rational{T<:Integer},y::Integer) at rational.jl:16\n",
       "//(x::Integer,y::Rational{T<:Integer}) at rational.jl:17\n",
       "//(x::Rational{T<:Integer},y::Rational{T<:Integer}) at rational.jl:18\n",
       "//(x::Complex{T<:Real},y::Real) at rational.jl:19\n",
       "//(x::Real,y::Complex{T<:Real}) at rational.jl:20\n",
       "//(x::Complex{T<:Real},y::Complex{T<:Real}) at rational.jl:23\n",
       "//(X::AbstractArray{T,N},y::Number) at rational.jl:28"
      ]
     },
     "execution_count": 12,
     "metadata": {},
     "output_type": "execute_result"
    }
   ],
   "source": [
    "methods(//)"
   ]
  },
  {
   "cell_type": "code",
   "execution_count": 13,
   "metadata": {
    "collapsed": false
   },
   "outputs": [
    {
     "data": {
      "text/plain": [
       "-31"
      ]
     },
     "execution_count": 13,
     "metadata": {},
     "output_type": "execute_result"
    }
   ],
   "source": [
    "3 + -34"
   ]
  },
  {
   "cell_type": "markdown",
   "metadata": {},
   "source": [
    "The expression `n::Integer` is a *type annotation* that specifies that the method applies when its first argument is of type `Integer`."
   ]
  },
  {
   "cell_type": "markdown",
   "metadata": {},
   "source": [
    "Clicking on the file name takes us directly to the Julia standard library source code on GitHub where these functions are defined!"
   ]
  },
  {
   "cell_type": "markdown",
   "metadata": {},
   "source": [
    "# Vectors: an \"equivalent\" of Python lists *and* `numpy` arrays"
   ]
  },
  {
   "cell_type": "markdown",
   "metadata": {},
   "source": [
    "To store several values \"in one variable\", we can try to imitate using a \"list\" as we would in Python:"
   ]
  },
  {
   "cell_type": "code",
   "execution_count": 14,
   "metadata": {
    "collapsed": false
   },
   "outputs": [
    {
     "data": {
      "text/plain": [
       "3-element Array{Int64,1}:\n",
       " 3\n",
       " 4\n",
       " 5"
      ]
     },
     "execution_count": 14,
     "metadata": {},
     "output_type": "execute_result"
    }
   ],
   "source": [
    "l = [3, 4, 5]"
   ]
  },
  {
   "cell_type": "code",
   "execution_count": 15,
   "metadata": {
    "collapsed": false
   },
   "outputs": [
    {
     "data": {
      "text/plain": [
       "Array{Int64,1}"
      ]
     },
     "execution_count": 15,
     "metadata": {},
     "output_type": "execute_result"
    }
   ],
   "source": [
    "typeof(l)"
   ]
  },
  {
   "cell_type": "markdown",
   "metadata": {},
   "source": [
    "In Julia these objects are called `Array`s. The curly braces indicate type parameters of the `Array` type. The first is the type of element contained in the `Array` (all must be of the same type) and the second the number of dimensions."
   ]
  },
  {
   "cell_type": "markdown",
   "metadata": {},
   "source": [
    "----\n",
    "**Exercise**: Try to create an array in this way with elements of different types. What happens?\n",
    "\n",
    "\n",
    "**Exercise**: What does the following syntax do?:  `l = {3, 4, 7.5}`\n",
    "\n",
    "----"
   ]
  },
  {
   "cell_type": "code",
   "execution_count": 16,
   "metadata": {
    "collapsed": false
   },
   "outputs": [
    {
     "data": {
      "text/plain": [
       "3-element Array{Float64,1}:\n",
       " 3.0\n",
       " 4.0\n",
       " 5.0"
      ]
     },
     "execution_count": 16,
     "metadata": {},
     "output_type": "execute_result"
    }
   ],
   "source": [
    "l = [3., 4, 5]"
   ]
  },
  {
   "cell_type": "code",
   "execution_count": 17,
   "metadata": {
    "collapsed": false
   },
   "outputs": [
    {
     "data": {
      "text/plain": [
       "2-element Array{Any,1}:\n",
       " 3.0 \n",
       "  \"a\""
      ]
     },
     "execution_count": 17,
     "metadata": {},
     "output_type": "execute_result"
    }
   ],
   "source": [
    "l = [3., \"a\"]"
   ]
  },
  {
   "cell_type": "code",
   "execution_count": 18,
   "metadata": {
    "collapsed": false
   },
   "outputs": [
    {
     "data": {
      "text/plain": [
       "2-element Array{Float64,1}:\n",
       "  3.0\n",
       " 97.0"
      ]
     },
     "execution_count": 18,
     "metadata": {},
     "output_type": "execute_result"
    }
   ],
   "source": [
    "l = [3., 'a']"
   ]
  },
  {
   "cell_type": "code",
   "execution_count": 66,
   "metadata": {
    "collapsed": false
   },
   "outputs": [
    {
     "data": {
      "text/plain": [
       "4-element Array{Any,1}:\n",
       " 3.0     \n",
       " 4       \n",
       "  \"hello\"\n",
       "  [3,4]  "
      ]
     },
     "execution_count": 66,
     "metadata": {},
     "output_type": "execute_result"
    }
   ],
   "source": [
    "l = {3., 4, \"hello\", [3, 4]}"
   ]
  },
  {
   "cell_type": "markdown",
   "metadata": {},
   "source": [
    "## Indexing"
   ]
  },
  {
   "cell_type": "markdown",
   "metadata": {},
   "source": [
    "The indices of Julia arrays are numbered starting at 1, unlike Python (where they are numbered starting at 0)."
   ]
  },
  {
   "cell_type": "code",
   "execution_count": 67,
   "metadata": {
    "collapsed": false
   },
   "outputs": [
    {
     "data": {
      "text/plain": [
       "3.0"
      ]
     },
     "execution_count": 67,
     "metadata": {},
     "output_type": "execute_result"
    }
   ],
   "source": [
    "l[1]  "
   ]
  },
  {
   "cell_type": "markdown",
   "metadata": {},
   "source": [
    "The syntax for ranges is similar to that for Python:"
   ]
  },
  {
   "cell_type": "code",
   "execution_count": 68,
   "metadata": {
    "collapsed": false
   },
   "outputs": [
    {
     "data": {
      "text/plain": [
       "2-element Array{Any,1}:\n",
       " 3.0\n",
       " 4  "
      ]
     },
     "execution_count": 68,
     "metadata": {},
     "output_type": "execute_result"
    }
   ],
   "source": [
    "l[1:2]"
   ]
  },
  {
   "cell_type": "markdown",
   "metadata": {},
   "source": [
    "However, the limits must be explicitly specified:"
   ]
  },
  {
   "cell_type": "code",
   "execution_count": 69,
   "metadata": {
    "collapsed": false
   },
   "outputs": [
    {
     "data": {
      "text/plain": [
       "3-element Array{Any,1}:\n",
       " 4       \n",
       "  \"hello\"\n",
       "  [3,4]  "
      ]
     },
     "execution_count": 69,
     "metadata": {},
     "output_type": "execute_result"
    }
   ],
   "source": [
    "l[2:end]   # Use `end` explicitly"
   ]
  },
  {
   "cell_type": "code",
   "execution_count": 21,
   "metadata": {
    "collapsed": false
   },
   "outputs": [
    {
     "data": {
      "text/plain": [
       "1-element Array{Float64,1}:\n",
       " 3.0"
      ]
     },
     "execution_count": 21,
     "metadata": {},
     "output_type": "execute_result"
    }
   ],
   "source": [
    "l[1:end-1]"
   ]
  },
  {
   "cell_type": "code",
   "execution_count": 20,
   "metadata": {
    "collapsed": false
   },
   "outputs": [
    {
     "ename": "LoadError",
     "evalue": "BoundsError()\nwhile loading In[20], in expression starting on line 1",
     "output_type": "error",
     "traceback": [
      "BoundsError()\nwhile loading In[20], in expression starting on line 1",
      ""
     ]
    }
   ],
   "source": [
    "l[-1]"
   ]
  },
  {
   "cell_type": "markdown",
   "metadata": {},
   "source": [
    "Julia `Arrays`, like Python lists, but unlike `numpy` arrays, are dynamic. However, the syntax is rather different from Python -- to add an element at the end of the list, we write"
   ]
  },
  {
   "cell_type": "code",
   "execution_count": 22,
   "metadata": {
    "collapsed": false
   },
   "outputs": [
    {
     "data": {
      "text/plain": [
       "3-element Array{Int64,1}:\n",
       "  6\n",
       "  8\n",
       " 10"
      ]
     },
     "execution_count": 22,
     "metadata": {},
     "output_type": "execute_result"
    }
   ],
   "source": [
    "l = [3,4,5]\n",
    "l + l"
   ]
  },
  {
   "cell_type": "code",
   "execution_count": 23,
   "metadata": {
    "collapsed": false
   },
   "outputs": [
    {
     "data": {
      "text/plain": [
       "0-element Array{Any,1}"
      ]
     },
     "execution_count": 23,
     "metadata": {},
     "output_type": "execute_result"
    }
   ],
   "source": [
    "names(l)"
   ]
  },
  {
   "cell_type": "code",
   "execution_count": 25,
   "metadata": {
    "collapsed": false
   },
   "outputs": [
    {
     "data": {
      "text/plain": [
       "4-element Array{Int64,1}:\n",
       " 3\n",
       " 4\n",
       " 5\n",
       " 7"
      ]
     },
     "execution_count": 25,
     "metadata": {},
     "output_type": "execute_result"
    }
   ],
   "source": [
    "l = [3, 4, 5]\n",
    "\n",
    "push!(l, 7)"
   ]
  },
  {
   "cell_type": "code",
   "execution_count": 29,
   "metadata": {
    "collapsed": false
   },
   "outputs": [
    {
     "data": {
      "text/plain": [
       "sizehint (generic function with 13 methods)"
      ]
     },
     "execution_count": 29,
     "metadata": {},
     "output_type": "execute_result"
    }
   ],
   "source": [
    "sizehint"
   ]
  },
  {
   "cell_type": "code",
   "execution_count": 27,
   "metadata": {
    "collapsed": false
   },
   "outputs": [
    {
     "data": {
      "text/plain": [
       "push! (generic function with 41 methods)"
      ]
     },
     "execution_count": 27,
     "metadata": {},
     "output_type": "execute_result"
    }
   ],
   "source": [
    "push!"
   ]
  },
  {
   "cell_type": "code",
   "execution_count": 77,
   "metadata": {
    "collapsed": false
   },
   "outputs": [
    {
     "data": {
      "text/html": [
       "19 methods for generic function <b>push!</b>:<ul><li> push!(a::<b>Array{Any,1}</b>,item) at <a href=\"https://github.com/JuliaLang/julia/tree/7e7462150f72721caf0e6bd6e7e7e500d1efb187/base/array.jl#L464\" target=\"_blank\">array.jl:464</a><li> push!<i>{T}</i>(a::<b>Array{T,1}</b>,item) at <a href=\"https://github.com/JuliaLang/julia/tree/7e7462150f72721caf0e6bd6e7e7e500d1efb187/base/array.jl#L453\" target=\"_blank\">array.jl:453</a><li> push!(B::<b>BitArray{1}</b>,item) at <a href=\"https://github.com/JuliaLang/julia/tree/7e7462150f72721caf0e6bd6e7e7e500d1efb187/base/bitarray.jl#L454\" target=\"_blank\">bitarray.jl:454</a><li> push!(s::<b>IntSet</b>,n::<b>Integer</b>) at <a href=\"https://github.com/JuliaLang/julia/tree/7e7462150f72721caf0e6bd6e7e7e500d1efb187/base/intset.jl#L32\" target=\"_blank\">intset.jl:32</a><li> push!(::<b>EnvHash</b>,k::<b>String</b>,v) at <a href=\"https://github.com/JuliaLang/julia/tree/7e7462150f72721caf0e6bd6e7e7e500d1efb187/base/env.jl#L114\" target=\"_blank\">env.jl:114</a><li> push!(t::<b>Associative{K,V}</b>,key,v) at <a href=\"https://github.com/JuliaLang/julia/tree/7e7462150f72721caf0e6bd6e7e7e500d1efb187/base/dict.jl#L241\" target=\"_blank\">dict.jl:241</a><li> push!(s::<b>Set{T}</b>,x) at <a href=\"https://github.com/JuliaLang/julia/tree/7e7462150f72721caf0e6bd6e7e7e500d1efb187/base/set.jl#L18\" target=\"_blank\">set.jl:18</a><li> push!<i>{T}</i>(q::<b>Deque{T}</b>,x) at <a href=\"https://github.com/JuliaLang/DataStructures.jl/tree/87a29b0a0fdde625037943759a51c3be069a3951/src/deque.jl#L189\" target=\"_blank\">/Users/david/.julia/DataStructures/src/deque.jl:189</a><li> push!(s::<b>Stack{S}</b>,x) at <a href=\"https://github.com/JuliaLang/DataStructures.jl/tree/87a29b0a0fdde625037943759a51c3be069a3951/src/stack.jl#L16\" target=\"_blank\">/Users/david/.julia/DataStructures/src/stack.jl:16</a><li> push!<i>{T,V<:Number}</i>(ct::<b>Accumulator{T,V<:Number}</b>,x::<b>T</b>) at <a href=\"https://github.com/JuliaLang/DataStructures.jl/tree/87a29b0a0fdde625037943759a51c3be069a3951/src/accumulator.jl#L48\" target=\"_blank\">/Users/david/.julia/DataStructures/src/accumulator.jl:48</a><li> push!(s::<b>IntDisjointSets</b>,x::<b>Integer</b>) at <a href=\"https://github.com/JuliaLang/DataStructures.jl/tree/87a29b0a0fdde625037943759a51c3be069a3951/src/disjoint_set.jl#L72\" target=\"_blank\">/Users/david/.julia/DataStructures/src/disjoint_set.jl:72</a><li> push!(s::<b>IntDisjointSets</b>) at <a href=\"https://github.com/JuliaLang/DataStructures.jl/tree/87a29b0a0fdde625037943759a51c3be069a3951/src/disjoint_set.jl#L81\" target=\"_blank\">/Users/david/.julia/DataStructures/src/disjoint_set.jl:81</a><li> push!<i>{T}</i>(s::<b>DisjointSets{T}</b>,x::<b>T</b>) at <a href=\"https://github.com/JuliaLang/DataStructures.jl/tree/87a29b0a0fdde625037943759a51c3be069a3951/src/disjoint_set.jl#L124\" target=\"_blank\">/Users/david/.julia/DataStructures/src/disjoint_set.jl:124</a><li> push!<i>{T}</i>(h::<b>BinaryHeap{T,Comp}</b>,v::<b>T</b>) at <a href=\"https://github.com/JuliaLang/DataStructures.jl/tree/87a29b0a0fdde625037943759a51c3be069a3951/src/heaps/binary_heap.jl#L138\" target=\"_blank\">/Users/david/.julia/DataStructures/src/heaps/binary_heap.jl:138</a><li> push!<i>{T}</i>(h::<b>MutableBinaryHeap{T,Comp}</b>,v::<b>T</b>) at <a href=\"https://github.com/JuliaLang/DataStructures.jl/tree/87a29b0a0fdde625037943759a51c3be069a3951/src/heaps/mutable_binary_heap.jl#L201\" target=\"_blank\">/Users/david/.julia/DataStructures/src/heaps/mutable_binary_heap.jl:201</a><li> push!(s::<b>OrderedSet{T}</b>,x) at <a href=\"https://github.com/JuliaLang/DataStructures.jl/tree/87a29b0a0fdde625037943759a51c3be069a3951/src/orderedset.jl#L26\" target=\"_blank\">/Users/david/.julia/DataStructures/src/orderedset.jl:26</a><li> push!(A) at <a href=\"https://github.com/JuliaLang/julia/tree/7e7462150f72721caf0e6bd6e7e7e500d1efb187/base/abstractarray.jl#L1391\" target=\"_blank\">abstractarray.jl:1391</a><li> push!(A,a,b) at <a href=\"https://github.com/JuliaLang/julia/tree/7e7462150f72721caf0e6bd6e7e7e500d1efb187/base/abstractarray.jl#L1392\" target=\"_blank\">abstractarray.jl:1392</a><li> push!(A,a,b,c...) at <a href=\"https://github.com/JuliaLang/julia/tree/7e7462150f72721caf0e6bd6e7e7e500d1efb187/base/abstractarray.jl#L1393\" target=\"_blank\">abstractarray.jl:1393</a></ul>"
      ],
      "text/plain": [
       "# 19 methods for generic function \"push!\":\n",
       "push!(a::Array{Any,1},item) at array.jl:464\n",
       "push!{T}(a::Array{T,1},item) at array.jl:453\n",
       "push!(B::BitArray{1},item) at bitarray.jl:454\n",
       "push!(s::IntSet,n::Integer) at intset.jl:32\n",
       "push!(::EnvHash,k::String,v) at env.jl:114\n",
       "push!(t::Associative{K,V},key,v) at dict.jl:241\n",
       "push!(s::Set{T},x) at set.jl:18\n",
       "push!{T}(q::Deque{T},x) at /Users/david/.julia/DataStructures/src/deque.jl:189\n",
       "push!(s::Stack{S},x) at /Users/david/.julia/DataStructures/src/stack.jl:16\n",
       "push!{T,V<:Number}(ct::Accumulator{T,V<:Number},x::T) at /Users/david/.julia/DataStructures/src/accumulator.jl:48\n",
       "push!(s::IntDisjointSets,x::Integer) at /Users/david/.julia/DataStructures/src/disjoint_set.jl:72\n",
       "push!(s::IntDisjointSets) at /Users/david/.julia/DataStructures/src/disjoint_set.jl:81\n",
       "push!{T}(s::DisjointSets{T},x::T) at /Users/david/.julia/DataStructures/src/disjoint_set.jl:124\n",
       "push!{T}(h::BinaryHeap{T,Comp},v::T) at /Users/david/.julia/DataStructures/src/heaps/binary_heap.jl:138\n",
       "push!{T}(h::MutableBinaryHeap{T,Comp},v::T) at /Users/david/.julia/DataStructures/src/heaps/mutable_binary_heap.jl:201\n",
       "push!(s::OrderedSet{T},x) at /Users/david/.julia/DataStructures/src/orderedset.jl:26\n",
       "push!(A) at abstractarray.jl:1391\n",
       "push!(A,a,b) at abstractarray.jl:1392\n",
       "push!(A,a,b,c...) at abstractarray.jl:1393"
      ]
     },
     "execution_count": 77,
     "metadata": {},
     "output_type": "execute_result"
    }
   ],
   "source": [
    "methods(push!)"
   ]
  },
  {
   "cell_type": "code",
   "execution_count": 78,
   "metadata": {
    "collapsed": false
   },
   "outputs": [
    {
     "data": {
      "text/html": [
       "107-element Array{Method,1}:<ul><li> sizeof(a::<b>Array{T,N}</b>) at <a href=\"https://github.com/JuliaLang/julia/tree/7e7462150f72721caf0e6bd6e7e7e500d1efb187/base/array.jl#L23\" target=\"_blank\">array.jl:23</a><li> get(A::<b>Array{T,N}</b>,B::<b>Array{T,N}</b>,I,default) at <a href=\"https://github.com/JuliaLang/julia/tree/7e7462150f72721caf0e6bd6e7e7e500d1efb187/base/deprecated.jl#L26\" target=\"_blank\">deprecated.jl:26</a><li> .*(A::<b>SparseMatrixCSC{Tv,Ti<:Integer}</b>,B::<b>Array{T,N}</b>) at <a href=\"https://github.com/JuliaLang/julia/tree/7e7462150f72721caf0e6bd6e7e7e500d1efb187/base/sparse/sparsematrix.jl#L619\" target=\"_blank\">sparse/sparsematrix.jl:619</a><li> .*(A::<b>Array{T,N}</b>,B::<b>SparseMatrixCSC{Tv,Ti<:Integer}</b>) at <a href=\"https://github.com/JuliaLang/julia/tree/7e7462150f72721caf0e6bd6e7e7e500d1efb187/base/sparse/sparsematrix.jl#L620\" target=\"_blank\">sparse/sparsematrix.jl:620</a><li> unsafe_copy!<i>{T}</i>(dest::<b>Array{T,N}</b>,dsto,src::<b>Array{T,N}</b>,so,N) at <a href=\"https://github.com/JuliaLang/julia/tree/7e7462150f72721caf0e6bd6e7e7e500d1efb187/base/array.jl#L40\" target=\"_blank\">array.jl:40</a><li> reshape<i>{T,N}</i>(a::<b>Array{T,N}</b>,dims::<b>NTuple{N,Int64}</b>) at <a href=\"https://github.com/JuliaLang/julia/tree/7e7462150f72721caf0e6bd6e7e7e500d1efb187/base/array.jl#L88\" target=\"_blank\">array.jl:88</a><li> reshape<i>{T,N}</i>(a::<b>Array{T,N}</b>,dims::<b>NTuple{N,Int64}</b>) at <a href=\"https://github.com/JuliaLang/julia/tree/7e7462150f72721caf0e6bd6e7e7e500d1efb187/base/array.jl#L99\" target=\"_blank\">array.jl:99</a><li> rand!<i>{T}</i>(A::<b>Array{T,N}</b>) at <a href=\"https://github.com/JuliaLang/julia/tree/7e7462150f72721caf0e6bd6e7e7e500d1efb187/base/random.jl#L128\" target=\"_blank\">random.jl:128</a><li> ./(A::<b>SparseMatrixCSC{Tv,Ti<:Integer}</b>,B::<b>Array{T,N}</b>) at <a href=\"https://github.com/JuliaLang/julia/tree/7e7462150f72721caf0e6bd6e7e7e500d1efb187/base/sparse/sparsematrix.jl#L624\" target=\"_blank\">sparse/sparsematrix.jl:624</a><li> ./(A::<b>Array{T,N}</b>,B::<b>SparseMatrixCSC{Tv,Ti<:Integer}</b>) at <a href=\"https://github.com/JuliaLang/julia/tree/7e7462150f72721caf0e6bd6e7e7e500d1efb187/base/sparse/sparsematrix.jl#L625\" target=\"_blank\">sparse/sparsematrix.jl:625</a><li> msync<i>{T}</i>(A::<b>Array{T,N}</b>) at <a href=\"https://github.com/JuliaLang/julia/tree/7e7462150f72721caf0e6bd6e7e7e500d1efb187/base/mmap.jl#L6\" target=\"_blank\">mmap.jl:6</a><li> msync(A::<b>Array{T,N}</b>,flags::<b>Int64</b>) at <a href=\"https://github.com/JuliaLang/julia/tree/7e7462150f72721caf0e6bd6e7e7e500d1efb187/base/deprecated.jl#L26\" target=\"_blank\">deprecated.jl:26</a><li> sub<i>{T,N}</i>(A::<b>Array{T,N}</b>,i::<b>(Range{Int64},)</b>) at <a href=\"https://github.com/JuliaLang/julia/tree/7e7462150f72721caf0e6bd6e7e7e500d1efb187/base/subarray.jl#L51\" target=\"_blank\">subarray.jl:51</a><li> setindex!<i>{T}</i>(A::<b>Array{T,N}</b>,X::<b>Array{T,N}</b>,I::<b>UnitRange{Int64}</b>) at <a href=\"https://github.com/JuliaLang/julia/tree/7e7462150f72721caf0e6bd6e7e7e500d1efb187/base/array.jl#L329\" target=\"_blank\">array.jl:329</a><li> setindex!(a::<b>Array{T,N}</b>,d::<b>DArray{T,N,A}</b>,I::<b>UnitRange{Int64}...</b>) at <a href=\"https://github.com/JuliaLang/julia/tree/7e7462150f72721caf0e6bd6e7e7e500d1efb187/base/darray.jl#L254\" target=\"_blank\">darray.jl:254</a><li> setindex!(a::<b>Array{T,N}</b>,s::<b>SubArray{T,N,D<:DArray{T,N,A},I<:(Union(Range{Int64},Int64)...,)}</b>,I::<b>UnitRange{Int64}...</b>) at <a href=\"https://github.com/JuliaLang/julia/tree/7e7462150f72721caf0e6bd6e7e7e500d1efb187/base/darray.jl#L265\" target=\"_blank\">darray.jl:265</a><li> setindex!(a::<b>Array{T,N}</b>,d::<b>Union(DArray{T,N,A},SubArray{T,N,D<:DArray{T,N,A},I<:(Union(Range{Int64},Int64)...,)})</b>,I::<b>Union(Int64,UnitRange{Int64})...</b>) at <a href=\"https://github.com/JuliaLang/julia/tree/7e7462150f72721caf0e6bd6e7e7e500d1efb187/base/darray.jl#L296\" target=\"_blank\">darray.jl:296</a><li> setindex!(A::<b>Array{T,N}</b>,X::<b>AbstractArray{T,N}</b>,I::<b>AbstractArray{Bool,1}</b>) at <a href=\"https://github.com/JuliaLang/julia/tree/7e7462150f72721caf0e6bd6e7e7e500d1efb187/base/array.jl#L379\" target=\"_blank\">array.jl:379</a><li> setindex!<i>{T<:Real}</i>(A::<b>Array{T,N}</b>,X::<b>AbstractArray{T,N}</b>,I::<b>AbstractArray{T<:Real,1}</b>) at <a href=\"https://github.com/JuliaLang/julia/tree/7e7462150f72721caf0e6bd6e7e7e500d1efb187/base/array.jl#L337\" target=\"_blank\">array.jl:337</a><li> setindex!(A::<b>Array{T,N}</b>,x,I::<b>AbstractArray{Bool,1}</b>) at <a href=\"https://github.com/JuliaLang/julia/tree/7e7462150f72721caf0e6bd6e7e7e500d1efb187/base/array.jl#L381\" target=\"_blank\">array.jl:381</a><li> setindex!<i>{T<:Real}</i>(A::<b>Array{T,N}</b>,x,I::<b>AbstractArray{T<:Real,1}</b>) at <a href=\"https://github.com/JuliaLang/julia/tree/7e7462150f72721caf0e6bd6e7e7e500d1efb187/base/array.jl#L322\" target=\"_blank\">array.jl:322</a><li> setindex!(A::<b>Array{T,N}</b>,X::<b>AbstractArray{T,N}</b>,I::<b>AbstractArray{Bool,N}</b>) at <a href=\"https://github.com/JuliaLang/julia/tree/7e7462150f72721caf0e6bd6e7e7e500d1efb187/base/array.jl#L380\" target=\"_blank\">array.jl:380</a><li> setindex!<i>{T}</i>(A::<b>Array{T,N}</b>,x) at <a href=\"https://github.com/JuliaLang/julia/tree/7e7462150f72721caf0e6bd6e7e7e500d1efb187/base/array.jl#L305\" target=\"_blank\">array.jl:305</a><li> setindex!<i>{T}</i>(A::<b>Array{T,N}</b>,x,i0::<b>Real</b>) at <a href=\"https://github.com/JuliaLang/julia/tree/7e7462150f72721caf0e6bd6e7e7e500d1efb187/base/array.jl#L307\" target=\"_blank\">array.jl:307</a><li> setindex!<i>{T}</i>(A::<b>Array{T,N}</b>,x,i0::<b>Real</b>,i1::<b>Real</b>) at <a href=\"https://github.com/JuliaLang/julia/tree/7e7462150f72721caf0e6bd6e7e7e500d1efb187/base/array.jl#L308\" target=\"_blank\">array.jl:308</a><li> setindex!<i>{T}</i>(A::<b>Array{T,N}</b>,x,i0::<b>Real</b>,i1::<b>Real</b>,i2::<b>Real</b>) at <a href=\"https://github.com/JuliaLang/julia/tree/7e7462150f72721caf0e6bd6e7e7e500d1efb187/base/array.jl#L310\" target=\"_blank\">array.jl:310</a><li> setindex!<i>{T}</i>(A::<b>Array{T,N}</b>,x,i0::<b>Real</b>,i1::<b>Real</b>,i2::<b>Real</b>,i3::<b>Real</b>) at <a href=\"https://github.com/JuliaLang/julia/tree/7e7462150f72721caf0e6bd6e7e7e500d1efb187/base/array.jl#L312\" target=\"_blank\">array.jl:312</a><li> setindex!<i>{T}</i>(A::<b>Array{T,N}</b>,x,i0::<b>Real</b>,i1::<b>Real</b>,i2::<b>Real</b>,i3::<b>Real</b>,i4::<b>Real</b>) at <a href=\"https://github.com/JuliaLang/julia/tree/7e7462150f72721caf0e6bd6e7e7e500d1efb187/base/array.jl#L314\" target=\"_blank\">array.jl:314</a><li> setindex!<i>{T}</i>(A::<b>Array{T,N}</b>,x,i0::<b>Real</b>,i1::<b>Real</b>,i2::<b>Real</b>,i3::<b>Real</b>,i4::<b>Real</b>,i5::<b>Real</b>) at <a href=\"https://github.com/JuliaLang/julia/tree/7e7462150f72721caf0e6bd6e7e7e500d1efb187/base/array.jl#L316\" target=\"_blank\">array.jl:316</a><li> setindex!<i>{T}</i>(A::<b>Array{T,N}</b>,x,i0::<b>Real</b>,i1::<b>Real</b>,i2::<b>Real</b>,i3::<b>Real</b>,i4::<b>Real</b>,i5::<b>Real</b>,I::<b>Real...</b>) at <a href=\"https://github.com/JuliaLang/julia/tree/7e7462150f72721caf0e6bd6e7e7e500d1efb187/base/array.jl#L318\" target=\"_blank\">array.jl:318</a><li> setindex!(A::<b>Array{T,N}</b>,x,I::<b>AbstractArray{Bool,N}</b>) at <a href=\"https://github.com/JuliaLang/julia/tree/7e7462150f72721caf0e6bd6e7e7e500d1efb187/base/array.jl#L382\" target=\"_blank\">array.jl:382</a><li> setindex!(A::<b>Array{T,N}</b>,x,J_1::<b>Union(AbstractArray{T,N},Real)</b>) at <a href=\"https://github.com/JuliaLang/julia/tree/7e7462150f72721caf0e6bd6e7e7e500d1efb187/base/multidimensional.jl#L61\" target=\"_blank\">multidimensional.jl:61</a><li> setindex!(A::<b>Array{T,N}</b>,x,J_1::<b>Union(AbstractArray{T,N},Real)</b>,J_2::<b>Union(AbstractArray{T,N},Real)</b>) at <a href=\"https://github.com/JuliaLang/julia/tree/7e7462150f72721caf0e6bd6e7e7e500d1efb187/base/multidimensional.jl#L61\" target=\"_blank\">multidimensional.jl:61</a><li> setindex!(A::<b>Array{T,N}</b>,x,J_1::<b>Union(AbstractArray{T,N},Real)</b>,J_2::<b>Union(AbstractArray{T,N},Real)</b>,J_3::<b>Union(AbstractArray{T,N},Real)</b>) at <a href=\"https://github.com/JuliaLang/julia/tree/7e7462150f72721caf0e6bd6e7e7e500d1efb187/base/multidimensional.jl#L61\" target=\"_blank\">multidimensional.jl:61</a><li> setindex!(A::<b>Array{T,N}</b>,x,J_1::<b>Union(AbstractArray{T,N},Real)</b>,J_2::<b>Union(AbstractArray{T,N},Real)</b>,J_3::<b>Union(AbstractArray{T,N},Real)</b>,J_4::<b>Union(AbstractArray{T,N},Real)</b>) at <a href=\"https://github.com/JuliaLang/julia/tree/7e7462150f72721caf0e6bd6e7e7e500d1efb187/base/multidimensional.jl#L61\" target=\"_blank\">multidimensional.jl:61</a><li> setindex!(A::<b>Array{T,N}</b>,x,J::<b>Union(Real,AbstractArray{T,N})...</b>) at <a href=\"https://github.com/JuliaLang/julia/tree/7e7462150f72721caf0e6bd6e7e7e500d1efb187/base/cartesian.jl#L100\" target=\"_blank\">cartesian.jl:100</a><li> length(a::<b>Array{T,N}</b>) at <a href=\"https://github.com/JuliaLang/julia/tree/7e7462150f72721caf0e6bd6e7e7e500d1efb187/base/array.jl#L21\" target=\"_blank\">array.jl:21</a><li> .\\(A::<b>SparseMatrixCSC{Tv,Ti<:Integer}</b>,B::<b>Array{T,N}</b>) at <a href=\"https://github.com/JuliaLang/julia/tree/7e7462150f72721caf0e6bd6e7e7e500d1efb187/base/sparse/sparsematrix.jl#L630\" target=\"_blank\">sparse/sparsematrix.jl:630</a><li> .\\(A::<b>Array{T,N}</b>,B::<b>SparseMatrixCSC{Tv,Ti<:Integer}</b>) at <a href=\"https://github.com/JuliaLang/julia/tree/7e7462150f72721caf0e6bd6e7e7e500d1efb187/base/sparse/sparsematrix.jl#L631\" target=\"_blank\">sparse/sparsematrix.jl:631</a><li> convert(::<b>Type{Ptr{None}}</b>,a::<b>Array{T,N}</b>) at <a href=\"https://github.com/JuliaLang/julia/tree/7e7462150f72721caf0e6bd6e7e7e500d1efb187/base/pointer.jl#L23\" target=\"_blank\">pointer.jl:23</a><li> convert<i>{T}</i>(::<b>Type{Ptr{T}}</b>,a::<b>Array{T,N}</b>) at <a href=\"https://github.com/JuliaLang/julia/tree/7e7462150f72721caf0e6bd6e7e7e500d1efb187/base/pointer.jl#L22\" target=\"_blank\">pointer.jl:22</a><li> convert<i>{T,n}</i>(::<b>Type{Array{T,n}}</b>,x::<b>Array{T,n}</b>) at <a href=\"https://github.com/JuliaLang/julia/tree/7e7462150f72721caf0e6bd6e7e7e500d1efb187/base/array.jl#L218\" target=\"_blank\">array.jl:218</a><li> convert<i>{T,n,S}</i>(::<b>Type{Array{T,n}}</b>,x::<b>Array{S,n}</b>) at <a href=\"https://github.com/JuliaLang/julia/tree/7e7462150f72721caf0e6bd6e7e7e500d1efb187/base/array.jl#L220\" target=\"_blank\">array.jl:220</a><li> convert<i>{T,n}</i>(::<b>Type{Array{T,N}}</b>,x::<b>Array{T,n}</b>) at <a href=\"https://github.com/JuliaLang/julia/tree/7e7462150f72721caf0e6bd6e7e7e500d1efb187/base/array.jl#L217\" target=\"_blank\">array.jl:217</a><li> convert<i>{T,n,S}</i>(::<b>Type{Array{T,N}}</b>,x::<b>Array{S,n}</b>) at <a href=\"https://github.com/JuliaLang/julia/tree/7e7462150f72721caf0e6bd6e7e7e500d1efb187/base/array.jl#L219\" target=\"_blank\">array.jl:219</a><li> convert<i>{TS,TA,N}</i>(::<b>Type{SharedArray{TS,N}}</b>,A::<b>Array{TA,N}</b>) at <a href=\"https://github.com/JuliaLang/julia/tree/7e7462150f72721caf0e6bd6e7e7e500d1efb187/base/sharedarray.jl#L142\" target=\"_blank\">sharedarray.jl:142</a><li> convert<i>{T}</i>(::<b>Type{SharedArray{T,N}}</b>,A::<b>Array{T,N}</b>) at <a href=\"https://github.com/JuliaLang/julia/tree/7e7462150f72721caf0e6bd6e7e7e500d1efb187/base/sharedarray.jl#L141\" target=\"_blank\">sharedarray.jl:141</a><li> convert(::<b>Type{SharedArray{T,N}}</b>,A::<b>Array{T,N}</b>) at <a href=\"https://github.com/JuliaLang/julia/tree/7e7462150f72721caf0e6bd6e7e7e500d1efb187/base/sharedarray.jl#L140\" target=\"_blank\">sharedarray.jl:140</a><li> convert<i>{T}</i>(p::<b>Type{Ptr{T}}</b>,a::<b>Array{T,N}</b>) at <a href=\"https://github.com/JuliaLang/julia/tree/7e7462150f72721caf0e6bd6e7e7e500d1efb187/base/deprecated.jl#L26\" target=\"_blank\">deprecated.jl:26</a><li> read!(from::<b>IOBuffer</b>,a::<b>Array{T,N}</b>) at <a href=\"https://github.com/JuliaLang/julia/tree/7e7462150f72721caf0e6bd6e7e7e500d1efb187/base/iobuffer.jl#L55\" target=\"_blank\">iobuffer.jl:55</a><li> read!<i>{T}</i>(s::<b>IOStream</b>,a::<b>Array{T,N}</b>) at <a href=\"https://github.com/JuliaLang/julia/tree/7e7462150f72721caf0e6bd6e7e7e500d1efb187/base/iostream.jl#L191\" target=\"_blank\">iostream.jl:191</a><li> read!<i>{T}</i>(s::<b>AsyncStream</b>,a::<b>Array{T,N}</b>) at <a href=\"https://github.com/JuliaLang/julia/tree/7e7462150f72721caf0e6bd6e7e7e500d1efb187/base/stream.jl#L651\" target=\"_blank\">stream.jl:651</a><li> read!<i>{T}</i>(f::<b>File</b>,a::<b>Array{T,N}</b>) at <a href=\"https://github.com/JuliaLang/julia/tree/7e7462150f72721caf0e6bd6e7e7e500d1efb187/base/fs.jl#L213\" target=\"_blank\">fs.jl:213</a><li> read!<i>{T}</i>(f::<b>File</b>,a::<b>Array{T,N}</b>,nel) at <a href=\"https://github.com/JuliaLang/julia/tree/7e7462150f72721caf0e6bd6e7e7e500d1efb187/base/fs.jl#L213\" target=\"_blank\">fs.jl:213</a><li> read!<i>{T}</i>(s::<b>IO</b>,a::<b>Array{T,N}</b>) at <a href=\"https://github.com/JuliaLang/julia/tree/7e7462150f72721caf0e6bd6e7e7e500d1efb187/base/io.jl#L126\" target=\"_blank\">io.jl:126</a><li> /(x::<b>Number</b>,A::<b>Array{T,N}</b>) at <a href=\"https://github.com/JuliaLang/julia/tree/7e7462150f72721caf0e6bd6e7e7e500d1efb187/base/deprecated.jl#L26\" target=\"_blank\">deprecated.jl:26</a><li> read<i>{T,N}</i>(t::<b>UnixTerminal</b>,x::<b>Array{T,N}</b>) at <a href=\"https://github.com/JuliaLang/julia/tree/7e7462150f72721caf0e6bd6e7e7e500d1efb187/base/Terminals.jl#L177\" target=\"_blank\">Terminals.jl:177</a><li> read(from::<b>IOBuffer</b>,a::<b>Array{T,N}</b>) at <a href=\"https://github.com/JuliaLang/julia/tree/7e7462150f72721caf0e6bd6e7e7e500d1efb187/base/deprecated.jl#L26\" target=\"_blank\">deprecated.jl:26</a><li> read(s::<b>IOStream</b>,a::<b>Array{T,N}</b>) at <a href=\"https://github.com/JuliaLang/julia/tree/7e7462150f72721caf0e6bd6e7e7e500d1efb187/base/deprecated.jl#L26\" target=\"_blank\">deprecated.jl:26</a><li> read(this::<b>AsyncStream</b>,a::<b>Array{T,N}</b>) at <a href=\"https://github.com/JuliaLang/julia/tree/7e7462150f72721caf0e6bd6e7e7e500d1efb187/base/deprecated.jl#L26\" target=\"_blank\">deprecated.jl:26</a><li> read(f::<b>File</b>,a::<b>Array{T,N}</b>,nel) at <a href=\"https://github.com/JuliaLang/julia/tree/7e7462150f72721caf0e6bd6e7e7e500d1efb187/base/deprecated.jl#L26\" target=\"_blank\">deprecated.jl:26</a><li> read(f::<b>File</b>,a::<b>Array{T,N}</b>) at <a href=\"https://github.com/JuliaLang/julia/tree/7e7462150f72721caf0e6bd6e7e7e500d1efb187/base/deprecated.jl#L26\" target=\"_blank\">deprecated.jl:26</a><li> read(s::<b>IO</b>,a::<b>Array{T,N}</b>) at <a href=\"https://github.com/JuliaLang/julia/tree/7e7462150f72721caf0e6bd6e7e7e500d1efb187/base/deprecated.jl#L26\" target=\"_blank\">deprecated.jl:26</a><li> copy!<i>{T}</i>(dest::<b>Array{T,N}</b>,dsto::<b>Integer</b>,src::<b>Array{T,N}</b>,so::<b>Integer</b>,N::<b>Integer</b>) at <a href=\"https://github.com/JuliaLang/julia/tree/7e7462150f72721caf0e6bd6e7e7e500d1efb187/base/array.jl#L51\" target=\"_blank\">array.jl:51</a><li> copy!<i>{T}</i>(dest::<b>Array{T,N}</b>,src::<b>Array{T,N}</b>) at <a href=\"https://github.com/JuliaLang/julia/tree/7e7462150f72721caf0e6bd6e7e7e500d1efb187/base/array.jl#L57\" target=\"_blank\">array.jl:57</a><li> copy!(S::<b>SharedArray{T,N}</b>,A::<b>Array{T,N}</b>) at <a href=\"https://github.com/JuliaLang/julia/tree/7e7462150f72721caf0e6bd6e7e7e500d1efb187/base/sharedarray.jl#L291\" target=\"_blank\">sharedarray.jl:291</a><li> serialize(s,a::<b>Array{T,N}</b>) at <a href=\"https://github.com/JuliaLang/julia/tree/7e7462150f72721caf0e6bd6e7e7e500d1efb187/base/serialize.jl#L115\" target=\"_blank\">serialize.jl:115</a><li> size(a::<b>Array{T,N}</b>) at <a href=\"https://github.com/JuliaLang/julia/tree/7e7462150f72721caf0e6bd6e7e7e500d1efb187/base/array.jl#L18\" target=\"_blank\">array.jl:18</a><li> size(a::<b>Array{T,N}</b>,d) at <a href=\"https://github.com/JuliaLang/julia/tree/7e7462150f72721caf0e6bd6e7e7e500d1efb187/base/array.jl#L19\" target=\"_blank\">array.jl:19</a><li> write(to::<b>IOBuffer</b>,a::<b>Array{T,N}</b>) at <a href=\"https://github.com/JuliaLang/julia/tree/7e7462150f72721caf0e6bd6e7e7e500d1efb187/base/iobuffer.jl#L262\" target=\"_blank\">iobuffer.jl:262</a><li> write<i>{T}</i>(s::<b>IOStream</b>,a::<b>Array{T,N}</b>) at <a href=\"https://github.com/JuliaLang/julia/tree/7e7462150f72721caf0e6bd6e7e7e500d1efb187/base/iostream.jl#L147\" target=\"_blank\">iostream.jl:147</a><li> write<i>{T}</i>(s::<b>AsyncStream</b>,a::<b>Array{T,N}</b>) at <a href=\"https://github.com/JuliaLang/julia/tree/7e7462150f72721caf0e6bd6e7e7e500d1efb187/base/stream.jl#L776\" target=\"_blank\">stream.jl:776</a><li> write<i>{T}</i>(f::<b>File</b>,a::<b>Array{T,N}</b>) at <a href=\"https://github.com/JuliaLang/julia/tree/7e7462150f72721caf0e6bd6e7e7e500d1efb187/base/fs.jl#L187\" target=\"_blank\">fs.jl:187</a><li> write<i>{T,N}</i>(t::<b>UnixTerminal</b>,a::<b>Array{T,N}</b>) at <a href=\"https://github.com/JuliaLang/julia/tree/7e7462150f72721caf0e6bd6e7e7e500d1efb187/base/Terminals.jl#L173\" target=\"_blank\">Terminals.jl:173</a><li> +(A::<b>SparseMatrixCSC{Tv,Ti<:Integer}</b>,B::<b>Array{T,N}</b>) at <a href=\"https://github.com/JuliaLang/julia/tree/7e7462150f72721caf0e6bd6e7e7e500d1efb187/base/sparse/sparsematrix.jl#L608\" target=\"_blank\">sparse/sparsematrix.jl:608</a><li> +(A::<b>Array{T,N}</b>,B::<b>SparseMatrixCSC{Tv,Ti<:Integer}</b>) at <a href=\"https://github.com/JuliaLang/julia/tree/7e7462150f72721caf0e6bd6e7e7e500d1efb187/base/sparse/sparsematrix.jl#L610\" target=\"_blank\">sparse/sparsematrix.jl:610</a><li> getindex(a::<b>Array{T,N}</b>) at <a href=\"https://github.com/JuliaLang/julia/tree/7e7462150f72721caf0e6bd6e7e7e500d1efb187/base/array.jl#L244\" target=\"_blank\">array.jl:244</a><li> getindex(A::<b>Array{T,N}</b>,i0::<b>Real</b>) at <a href=\"https://github.com/JuliaLang/julia/tree/7e7462150f72721caf0e6bd6e7e7e500d1efb187/base/array.jl#L246\" target=\"_blank\">array.jl:246</a><li> getindex(A::<b>Array{T,N}</b>,i0::<b>Real</b>,i1::<b>Real</b>) at <a href=\"https://github.com/JuliaLang/julia/tree/7e7462150f72721caf0e6bd6e7e7e500d1efb187/base/array.jl#L247\" target=\"_blank\">array.jl:247</a><li> getindex(A::<b>Array{T,N}</b>,i0::<b>Real</b>,i1::<b>Real</b>,i2::<b>Real</b>) at <a href=\"https://github.com/JuliaLang/julia/tree/7e7462150f72721caf0e6bd6e7e7e500d1efb187/base/array.jl#L248\" target=\"_blank\">array.jl:248</a><li> getindex(A::<b>Array{T,N}</b>,i0::<b>Real</b>,i1::<b>Real</b>,i2::<b>Real</b>,i3::<b>Real</b>) at <a href=\"https://github.com/JuliaLang/julia/tree/7e7462150f72721caf0e6bd6e7e7e500d1efb187/base/array.jl#L250\" target=\"_blank\">array.jl:250</a><li> getindex(A::<b>Array{T,N}</b>,i0::<b>Real</b>,i1::<b>Real</b>,i2::<b>Real</b>,i3::<b>Real</b>,i4::<b>Real</b>) at <a href=\"https://github.com/JuliaLang/julia/tree/7e7462150f72721caf0e6bd6e7e7e500d1efb187/base/array.jl#L252\" target=\"_blank\">array.jl:252</a><li> getindex(A::<b>Array{T,N}</b>,i0::<b>Real</b>,i1::<b>Real</b>,i2::<b>Real</b>,i3::<b>Real</b>,i4::<b>Real</b>,i5::<b>Real</b>) at <a href=\"https://github.com/JuliaLang/julia/tree/7e7462150f72721caf0e6bd6e7e7e500d1efb187/base/array.jl#L254\" target=\"_blank\">array.jl:254</a><li> getindex(A::<b>Array{T,N}</b>,i0::<b>Real</b>,i1::<b>Real</b>,i2::<b>Real</b>,i3::<b>Real</b>,i4::<b>Real</b>,i5::<b>Real</b>,I::<b>Real...</b>) at <a href=\"https://github.com/JuliaLang/julia/tree/7e7462150f72721caf0e6bd6e7e7e500d1efb187/base/array.jl#L257\" target=\"_blank\">array.jl:257</a><li> getindex(A::<b>Array{T,N}</b>,I::<b>UnitRange{Int64}</b>) at <a href=\"https://github.com/JuliaLang/julia/tree/7e7462150f72721caf0e6bd6e7e7e500d1efb187/base/array.jl#L262\" target=\"_blank\">array.jl:262</a><li> getindex(A::<b>Array{T,N}</b>,I::<b>AbstractArray{Bool,1}</b>) at <a href=\"https://github.com/JuliaLang/julia/tree/7e7462150f72721caf0e6bd6e7e7e500d1efb187/base/array.jl#L300\" target=\"_blank\">array.jl:300</a><li> getindex<i>{T<:Real}</i>(A::<b>Array{T,N}</b>,I::<b>AbstractArray{T<:Real,1}</b>) at <a href=\"https://github.com/JuliaLang/julia/tree/7e7462150f72721caf0e6bd6e7e7e500d1efb187/base/array.jl#L271\" target=\"_blank\">array.jl:271</a><li> getindex(A::<b>Array{T,N}</b>,I::<b>AbstractArray{Bool,N}</b>) at <a href=\"https://github.com/JuliaLang/julia/tree/7e7462150f72721caf0e6bd6e7e7e500d1efb187/base/array.jl#L301\" target=\"_blank\">array.jl:301</a><li> getindex(A::<b>Array{T,N}</b>,I_1::<b>Union(Real,AbstractArray{T,1})</b>) at <a href=\"https://github.com/JuliaLang/julia/tree/7e7462150f72721caf0e6bd6e7e7e500d1efb187/base/multidimensional.jl#L49\" target=\"_blank\">multidimensional.jl:49</a><li> getindex(A::<b>Array{T,N}</b>,I_1::<b>Union(Real,AbstractArray{T,1})</b>,I_2::<b>Union(Real,AbstractArray{T,1})</b>) at <a href=\"https://github.com/JuliaLang/julia/tree/7e7462150f72721caf0e6bd6e7e7e500d1efb187/base/multidimensional.jl#L49\" target=\"_blank\">multidimensional.jl:49</a><li> getindex(A::<b>Array{T,N}</b>,I_1::<b>Union(Real,AbstractArray{T,1})</b>,I_2::<b>Union(Real,AbstractArray{T,1})</b>,I_3::<b>Union(Real,AbstractArray{T,1})</b>) at <a href=\"https://github.com/JuliaLang/julia/tree/7e7462150f72721caf0e6bd6e7e7e500d1efb187/base/multidimensional.jl#L49\" target=\"_blank\">multidimensional.jl:49</a><li> getindex(A::<b>Array{T,N}</b>,I_1::<b>Union(Real,AbstractArray{T,1})</b>,I_2::<b>Union(Real,AbstractArray{T,1})</b>,I_3::<b>Union(Real,AbstractArray{T,1})</b>,I_4::<b>Union(Real,AbstractArray{T,1})</b>) at <a href=\"https://github.com/JuliaLang/julia/tree/7e7462150f72721caf0e6bd6e7e7e500d1efb187/base/multidimensional.jl#L49\" target=\"_blank\">multidimensional.jl:49</a><li> getindex(A::<b>Array{T,N}</b>,I::<b>Union(Real,AbstractArray{T,1})...</b>) at <a href=\"https://github.com/JuliaLang/julia/tree/7e7462150f72721caf0e6bd6e7e7e500d1efb187/base/multidimensional.jl#L49\" target=\"_blank\">multidimensional.jl:49</a><li> reinterpret<i>{T,S}</i>(::<b>Type{T}</b>,a::<b>Array{S,N}</b>) at <a href=\"https://github.com/JuliaLang/julia/tree/7e7462150f72721caf0e6bd6e7e7e500d1efb187/base/array.jl#L65\" target=\"_blank\">array.jl:65</a><li> reinterpret<i>{T,S,N}</i>(::<b>Type{T}</b>,a::<b>Array{S,N}</b>,dims::<b>NTuple{N,Int64}</b>) at <a href=\"https://github.com/JuliaLang/julia/tree/7e7462150f72721caf0e6bd6e7e7e500d1efb187/base/array.jl#L72\" target=\"_blank\">array.jl:72</a><li> permutedims!<i>{T,N}</i>(P::<b>Array{T,N}</b>,B::<b>Union(DenseArray{T,N},SubArray{T,N,A<:DenseArray{T,N},I<:(Union(Range{Int64},Int64)...,)})</b>,perm) at <a href=\"https://github.com/JuliaLang/julia/tree/7e7462150f72721caf0e6bd6e7e7e500d1efb187/base/cartesian.jl#L100\" target=\"_blank\">cartesian.jl:100</a><li> similar(a::<b>Array{T,N}</b>,T,dims::<b>(Int64...,)</b>) at <a href=\"https://github.com/JuliaLang/julia/tree/7e7462150f72721caf0e6bd6e7e7e500d1efb187/base/array.jl#L107\" target=\"_blank\">array.jl:107</a><li> slicedim(A::<b>Array{T,N}</b>,d::<b>Integer</b>,i::<b>Integer</b>) at <a href=\"https://github.com/JuliaLang/julia/tree/7e7462150f72721caf0e6bd6e7e7e500d1efb187/base/array.jl#L843\" target=\"_blank\">array.jl:843</a><li> flipdim<i>{T}</i>(A::<b>Array{T,N}</b>,d::<b>Integer</b>) at <a href=\"https://github.com/JuliaLang/julia/tree/7e7462150f72721caf0e6bd6e7e7e500d1efb187/base/array.jl#L874\" target=\"_blank\">array.jl:874</a><li> repeat<i>{T}</i>(A::<b>Array{T,N}</b>) at <a href=\"https://github.com/JuliaLang/julia/tree/7e7462150f72721caf0e6bd6e7e7e500d1efb187/base/abstractarray.jl#L1089\" target=\"_blank\">abstractarray.jl:1089</a><li> \\(A::<b>Array{T,N}</b>,x::<b>Number</b>) at <a href=\"https://github.com/JuliaLang/julia/tree/7e7462150f72721caf0e6bd6e7e7e500d1efb187/base/deprecated.jl#L26\" target=\"_blank\">deprecated.jl:26</a><li> -(A::<b>Array{T,N}</b>,B::<b>SparseMatrixCSC{Tv,Ti<:Integer}</b>) at <a href=\"https://github.com/JuliaLang/julia/tree/7e7462150f72721caf0e6bd6e7e7e500d1efb187/base/sparse/sparsematrix.jl#L615\" target=\"_blank\">sparse/sparsematrix.jl:615</a><li> -(A::<b>SparseMatrixCSC{Tv,Ti<:Integer}</b>,B::<b>Array{T,N}</b>) at <a href=\"https://github.com/JuliaLang/julia/tree/7e7462150f72721caf0e6bd6e7e7e500d1efb187/base/sparse/sparsematrix.jl#L613\" target=\"_blank\">sparse/sparsematrix.jl:613</a><li> xdump(fn::<b>Function</b>,io::<b>IO</b>,x::<b>Array{T,N}</b>,n::<b>Int64</b>,indent) at <a href=\"https://github.com/JuliaLang/julia/tree/7e7462150f72721caf0e6bd6e7e7e500d1efb187/base/show.jl#L626\" target=\"_blank\">show.jl:626</a><li> .^(A::<b>SparseMatrixCSC{Tv,Ti<:Integer}</b>,B::<b>Array{T,N}</b>) at <a href=\"https://github.com/JuliaLang/julia/tree/7e7462150f72721caf0e6bd6e7e7e500d1efb187/base/sparse/sparsematrix.jl#L638\" target=\"_blank\">sparse/sparsematrix.jl:638</a><li> .^(A::<b>Array{T,N}</b>,B::<b>SparseMatrixCSC{Tv,Ti<:Integer}</b>) at <a href=\"https://github.com/JuliaLang/julia/tree/7e7462150f72721caf0e6bd6e7e7e500d1efb187/base/sparse/sparsematrix.jl#L639\" target=\"_blank\">sparse/sparsematrix.jl:639</a><li> Message(a::<b>Array{T,N}</b>) at <a href=\"https://github.com/JuliaLang/ZMQ.jl/tree/94e5c9cc756f78ee87446593d5b1b7896067247d/src/ZMQ.jl#L405\" target=\"_blank\">/Users/david/.julia/ZMQ/src/ZMQ.jl:405</a></ul>"
      ],
      "text/plain": [
       "107-element Array{Method,1}:\n",
       " sizeof(a::Array{T,N}) at array.jl:23                                                                                                                   \n",
       " get(A::Array{T,N},B::Array{T,N},I,default) at deprecated.jl:26                                                                                         \n",
       " .*(A::SparseMatrixCSC{Tv,Ti<:Integer},B::Array{T,N}) at sparse/sparsematrix.jl:619                                                                     \n",
       " .*(A::Array{T,N},B::SparseMatrixCSC{Tv,Ti<:Integer}) at sparse/sparsematrix.jl:620                                                                     \n",
       " unsafe_copy!{T}(dest::Array{T,N},dsto,src::Array{T,N},so,N) at array.jl:40                                                                             \n",
       " reshape{T,N}(a::Array{T,N},dims::NTuple{N,Int64}) at array.jl:88                                                                                       \n",
       " reshape{T,N}(a::Array{T,N},dims::NTuple{N,Int64}) at array.jl:99                                                                                       \n",
       " rand!{T}(A::Array{T,N}) at random.jl:128                                                                                                               \n",
       " ./(A::SparseMatrixCSC{Tv,Ti<:Integer},B::Array{T,N}) at sparse/sparsematrix.jl:624                                                                     \n",
       " ./(A::Array{T,N},B::SparseMatrixCSC{Tv,Ti<:Integer}) at sparse/sparsematrix.jl:625                                                                     \n",
       " msync{T}(A::Array{T,N}) at mmap.jl:6                                                                                                                   \n",
       " msync(A::Array{T,N},flags::Int64) at deprecated.jl:26                                                                                                  \n",
       " sub{T,N}(A::Array{T,N},i::(Range{Int64},)) at subarray.jl:51                                                                                           \n",
       " ⋮                                                                                                                                                      \n",
       " permutedims!{T,N}(P::Array{T,N},B::Union(DenseArray{T,N},SubArray{T,N,A<:DenseArray{T,N},I<:(Union(Range{Int64},Int64)...,)}),perm) at cartesian.jl:100\n",
       " similar(a::Array{T,N},T,dims::(Int64...,)) at array.jl:107                                                                                             \n",
       " slicedim(A::Array{T,N},d::Integer,i::Integer) at array.jl:843                                                                                          \n",
       " flipdim{T}(A::Array{T,N},d::Integer) at array.jl:874                                                                                                   \n",
       " repeat{T}(A::Array{T,N}) at abstractarray.jl:1089                                                                                                      \n",
       " \\(A::Array{T,N},x::Number) at deprecated.jl:26                                                                                                         \n",
       " -(A::Array{T,N},B::SparseMatrixCSC{Tv,Ti<:Integer}) at sparse/sparsematrix.jl:615                                                                      \n",
       " -(A::SparseMatrixCSC{Tv,Ti<:Integer},B::Array{T,N}) at sparse/sparsematrix.jl:613                                                                      \n",
       " xdump(fn::Function,io::IO,x::Array{T,N},n::Int64,indent) at show.jl:626                                                                                \n",
       " .^(A::SparseMatrixCSC{Tv,Ti<:Integer},B::Array{T,N}) at sparse/sparsematrix.jl:638                                                                     \n",
       " .^(A::Array{T,N},B::SparseMatrixCSC{Tv,Ti<:Integer}) at sparse/sparsematrix.jl:639                                                                     \n",
       " Message(a::Array{T,N}) at /Users/david/.julia/ZMQ/src/ZMQ.jl:405                                                                                       "
      ]
     },
     "execution_count": 78,
     "metadata": {},
     "output_type": "execute_result"
    }
   ],
   "source": [
    "methodswith(Array)"
   ]
  },
  {
   "cell_type": "code",
   "execution_count": 28,
   "metadata": {
    "collapsed": false
   },
   "outputs": [
    {
     "data": {
      "text/plain": [
       "4-element Array{Int64,1}:\n",
       "  3\n",
       "  4\n",
       "  5\n",
       " 12"
      ]
     },
     "execution_count": 28,
     "metadata": {},
     "output_type": "execute_result"
    }
   ],
   "source": [
    "l = [3, 4, 5]\n",
    "push!(l, 12.0)"
   ]
  },
  {
   "cell_type": "code",
   "execution_count": 80,
   "metadata": {
    "collapsed": false
   },
   "outputs": [
    {
     "data": {
      "text/plain": [
       "true"
      ]
     },
     "execution_count": 80,
     "metadata": {},
     "output_type": "execute_result"
    }
   ],
   "source": [
    "12.0 == 12"
   ]
  },
  {
   "cell_type": "code",
   "execution_count": 81,
   "metadata": {
    "collapsed": false
   },
   "outputs": [
    {
     "ename": "LoadError",
     "evalue": "InexactError()\nwhile loading In[81], in expression starting on line 1",
     "output_type": "error",
     "traceback": [
      "InexactError()\nwhile loading In[81], in expression starting on line 1",
      " in push! at array.jl:457"
     ]
    }
   ],
   "source": [
    "push!(l, 12.1)"
   ]
  },
  {
   "cell_type": "code",
   "execution_count": null,
   "metadata": {
    "collapsed": false
   },
   "outputs": [],
   "source": [
    "append!(l, [10, 11, 12])"
   ]
  },
  {
   "cell_type": "markdown",
   "metadata": {},
   "source": [
    "`push!` replaces `append` in Python. There are no methods of objects as in Python; rather, we use functions and send the object as an argument of the function.\n",
    "\n",
    "The exclamation mark, or *bang*, (`!`) indicates that the function modifies its argument; this is a standard convention in Julia."
   ]
  },
  {
   "cell_type": "markdown",
   "metadata": {},
   "source": [
    "Arrays which have been defined with a certain type *cannot* acquire elements of a different type:"
   ]
  },
  {
   "cell_type": "code",
   "execution_count": 10,
   "metadata": {
    "collapsed": false
   },
   "outputs": [
    {
     "ename": "LoadError",
     "evalue": "no method convert(Type{Int64}, ASCIIString)\nwhile loading In[10], in expression starting on line 2",
     "output_type": "error",
     "traceback": [
      "no method convert(Type{Int64}, ASCIIString)\nwhile loading In[10], in expression starting on line 2",
      " in push! at array.jl:457"
     ]
    }
   ],
   "source": [
    "l = [3, 4, 5]\n",
    "push!(l, \"hello\")"
   ]
  },
  {
   "cell_type": "markdown",
   "metadata": {},
   "source": [
    "`Array`s work as mathematical vectors, with the sum of two vectors and scalar multiplication being defined:"
   ]
  },
  {
   "cell_type": "code",
   "execution_count": 30,
   "metadata": {
    "collapsed": false
   },
   "outputs": [
    {
     "data": {
      "text/plain": [
       "3-element Array{Float64,1}:\n",
       " 4.4\n",
       " 5.5\n",
       " 6.6"
      ]
     },
     "execution_count": 30,
     "metadata": {},
     "output_type": "execute_result"
    }
   ],
   "source": [
    "a = [1.1, 2.2, 3.3]\n",
    "b = [4.4, 5.5, 6.6]"
   ]
  },
  {
   "cell_type": "code",
   "execution_count": 31,
   "metadata": {
    "collapsed": false
   },
   "outputs": [
    {
     "data": {
      "text/plain": [
       "3-element Array{Float64,1}:\n",
       " 5.5\n",
       " 7.7\n",
       " 9.9"
      ]
     },
     "execution_count": 31,
     "metadata": {},
     "output_type": "execute_result"
    }
   ],
   "source": [
    "a + b"
   ]
  },
  {
   "cell_type": "code",
   "execution_count": 32,
   "metadata": {
    "collapsed": false
   },
   "outputs": [
    {
     "data": {
      "text/plain": [
       "3-element Array{Float64,1}:\n",
       "  3.85\n",
       "  7.7 \n",
       " 11.55"
      ]
     },
     "execution_count": 32,
     "metadata": {},
     "output_type": "execute_result"
    }
   ],
   "source": [
    "3.5 * a"
   ]
  },
  {
   "cell_type": "markdown",
   "metadata": {},
   "source": [
    "However, operators are, in general, *not* treated in an elementwise fashion (as they would be e.g. in `numpy`):"
   ]
  },
  {
   "cell_type": "code",
   "execution_count": 33,
   "metadata": {
    "collapsed": false
   },
   "outputs": [
    {
     "ename": "LoadError",
     "evalue": "`*` has no method matching *(::Array{Float64,1}, ::Array{Float64,1})\nwhile loading In[33], in expression starting on line 1",
     "output_type": "error",
     "traceback": [
      "`*` has no method matching *(::Array{Float64,1}, ::Array{Float64,1})\nwhile loading In[33], in expression starting on line 1",
      ""
     ]
    }
   ],
   "source": [
    "a * b"
   ]
  },
  {
   "cell_type": "markdown",
   "metadata": {},
   "source": [
    "Rather, elementwise operations use a Matlab-like syntax, with an extra `.` before the symbol for the operator:"
   ]
  },
  {
   "cell_type": "code",
   "execution_count": 34,
   "metadata": {
    "collapsed": false
   },
   "outputs": [
    {
     "data": {
      "text/plain": [
       "3-element Array{Float64,1}:\n",
       "  4.84\n",
       " 12.1 \n",
       " 21.78"
      ]
     },
     "execution_count": 34,
     "metadata": {},
     "output_type": "execute_result"
    }
   ],
   "source": [
    "a .* b"
   ]
  },
  {
   "cell_type": "markdown",
   "metadata": {},
   "source": [
    "There are many useful operations on vectors predefined, without needing to explicitly import them."
   ]
  },
  {
   "cell_type": "code",
   "execution_count": 35,
   "metadata": {
    "collapsed": false
   },
   "outputs": [
    {
     "data": {
      "text/plain": [
       "38.72"
      ]
     },
     "execution_count": 35,
     "metadata": {},
     "output_type": "execute_result"
    }
   ],
   "source": [
    "dot(a,b)  # ans is the last result"
   ]
  },
  {
   "cell_type": "code",
   "execution_count": 36,
   "metadata": {
    "collapsed": false
   },
   "outputs": [
    {
     "data": {
      "text/plain": [
       "3-element Array{Float64,1}:\n",
       " -3.63\n",
       "  7.26\n",
       " -3.63"
      ]
     },
     "execution_count": 36,
     "metadata": {},
     "output_type": "execute_result"
    }
   ],
   "source": [
    "cross(a, b)"
   ]
  },
  {
   "cell_type": "code",
   "execution_count": 37,
   "metadata": {
    "collapsed": false
   },
   "outputs": [
    {
     "data": {
      "text/plain": [
       "4.115823125451335"
      ]
     },
     "execution_count": 37,
     "metadata": {},
     "output_type": "execute_result"
    }
   ],
   "source": [
    "norm(a)"
   ]
  },
  {
   "cell_type": "markdown",
   "metadata": {},
   "source": [
    "Use `help` or `?` (before the command) to obtain help:"
   ]
  },
  {
   "cell_type": "code",
   "execution_count": 38,
   "metadata": {
    "collapsed": false
   },
   "outputs": [
    {
     "name": "stderr",
     "output_type": "stream",
     "text": [
      "INFO: Loading help data...\n"
     ]
    },
    {
     "name": "stdout",
     "output_type": "stream",
     "text": [
      "Base.dot(x, y)\n",
      "⋅(x, y)\n",
      "\n",
      "   Compute the dot product. For complex vectors, the first vector is\n",
      "   conjugated.\n"
     ]
    }
   ],
   "source": [
    "help(dot)"
   ]
  },
  {
   "cell_type": "code",
   "execution_count": 39,
   "metadata": {
    "collapsed": false
   },
   "outputs": [
    {
     "name": "stdout",
     "output_type": "stream",
     "text": [
      "Base.dot(x, y)\n",
      "⋅(x, y)\n",
      "\n",
      "   Compute the dot product. For complex vectors, the first vector is\n",
      "   conjugated.\n"
     ]
    }
   ],
   "source": [
    "?dot"
   ]
  },
  {
   "cell_type": "code",
   "execution_count": 40,
   "metadata": {
    "collapsed": false
   },
   "outputs": [
    {
     "data": {
      "text/plain": [
       "1x3 Array{Float64,2}:\n",
       " 1.1  2.2  3.3"
      ]
     },
     "execution_count": 40,
     "metadata": {},
     "output_type": "execute_result"
    }
   ],
   "source": [
    "transpose(a)"
   ]
  },
  {
   "cell_type": "code",
   "execution_count": 93,
   "metadata": {
    "collapsed": false
   },
   "outputs": [
    {
     "data": {
      "text/plain": [
       "1x3 Array{Float64,2}:\n",
       " 1.1  2.2  3.3"
      ]
     },
     "execution_count": 93,
     "metadata": {},
     "output_type": "execute_result"
    }
   ],
   "source": [
    "a'"
   ]
  },
  {
   "cell_type": "code",
   "execution_count": 94,
   "metadata": {
    "collapsed": false
   },
   "outputs": [
    {
     "data": {
      "text/plain": [
       "4-element Array{Int64,1}:\n",
       " 2\n",
       " 1\n",
       " 1\n",
       " 1"
      ]
     },
     "execution_count": 94,
     "metadata": {},
     "output_type": "execute_result"
    }
   ],
   "source": [
    "M = [[2,1], [1,1]]"
   ]
  },
  {
   "cell_type": "code",
   "execution_count": 96,
   "metadata": {
    "collapsed": false
   },
   "outputs": [
    {
     "data": {
      "text/plain": [
       "2x2 Array{Int64,2}:\n",
       " 2  1\n",
       " 1  1"
      ]
     },
     "execution_count": 96,
     "metadata": {},
     "output_type": "execute_result"
    }
   ],
   "source": [
    "push!(l, 12.0)"
   ]
  },
  {
   "cell_type": "code",
   "execution_count": 97,
   "metadata": {
    "collapsed": false
   },
   "outputs": [
    {
     "data": {
      "text/plain": [
       "2x2 Array{Int64,2}:\n",
       " 2  1\n",
       " 1  1"
      ]
     },
     "execution_count": 97,
     "metadata": {},
     "output_type": "execute_result"
    }
   ],
   "source": [
    "M = [2 1; 1 1]"
   ]
  },
  {
   "cell_type": "code",
   "execution_count": 99,
   "metadata": {
    "collapsed": false
   },
   "outputs": [
    {
     "data": {
      "text/plain": [
       "2x2x2 Array{Int64,3}:\n",
       "[:, :, 1] =\n",
       " 1  3\n",
       " 2  4\n",
       "\n",
       "[:, :, 2] =\n",
       " 5  7\n",
       " 6  8"
      ]
     },
     "execution_count": 99,
     "metadata": {},
     "output_type": "execute_result"
    }
   ],
   "source": [
    "M = reshape([1:8], (2,2,2))"
   ]
  },
  {
   "cell_type": "code",
   "execution_count": 102,
   "metadata": {
    "collapsed": false
   },
   "outputs": [
    {
     "data": {
      "text/plain": [
       "3-element Array{Float64,1}:\n",
       " -3.63\n",
       "  7.26\n",
       " -3.63"
      ]
     },
     "execution_count": 102,
     "metadata": {},
     "output_type": "execute_result"
    }
   ],
   "source": [
    "a ⋅ b\n",
    "a × b"
   ]
  },
  {
   "cell_type": "markdown",
   "metadata": {},
   "source": [
    "I used `\\cdot`"
   ]
  },
  {
   "cell_type": "code",
   "execution_count": 103,
   "metadata": {
    "collapsed": false
   },
   "outputs": [
    {
     "data": {
      "text/plain": [
       "dot (generic function with 7 methods)"
      ]
     },
     "execution_count": 103,
     "metadata": {},
     "output_type": "execute_result"
    }
   ],
   "source": [
    "⋅"
   ]
  },
  {
   "cell_type": "markdown",
   "metadata": {},
   "source": [
    "[Note that in the Julia command-line REPL, typing `?` puts it immediately into a special help mode. Similarly, `;` puts it into shell mode, in which commands are sent straight to the shell.]"
   ]
  },
  {
   "cell_type": "markdown",
   "metadata": {},
   "source": [
    "# Control flow: drop the colon (`:`) and add `end`"
   ]
  },
  {
   "cell_type": "markdown",
   "metadata": {},
   "source": [
    "White space in Julia is *not* significant. Commands on one line can be separated by `;`. Blocks *must* finish with `end`"
   ]
  },
  {
   "cell_type": "code",
   "execution_count": 42,
   "metadata": {
    "collapsed": false
   },
   "outputs": [
    {
     "name": "stdout",
     "output_type": "stream",
     "text": [
      "0\t1\t2\t3\t4\t"
     ]
    }
   ],
   "source": [
    "i = 0\n",
    "while i < 5 \n",
    "    print(\"$i\\t\")\n",
    "    i += 1\n",
    "    end"
   ]
  },
  {
   "cell_type": "code",
   "execution_count": 43,
   "metadata": {
    "collapsed": false
   },
   "outputs": [
    {
     "name": "stdout",
     "output_type": "stream",
     "text": [
      "Sum is 55\n"
     ]
    }
   ],
   "source": [
    "total = 0\n",
    "for i = 1:10\n",
    "    total += i\n",
    "end\n",
    "println(\"Sum is $total\")"
   ]
  },
  {
   "cell_type": "markdown",
   "metadata": {},
   "source": [
    "Here, `1:10` is a *range object* which may be iterated over."
   ]
  },
  {
   "cell_type": "code",
   "execution_count": 108,
   "metadata": {
    "collapsed": false
   },
   "outputs": [
    {
     "data": {
      "text/plain": [
       "UnitRange{Int64} (constructor with 1 method)"
      ]
     },
     "execution_count": 108,
     "metadata": {},
     "output_type": "execute_result"
    }
   ],
   "source": [
    "typeof(1:10)"
   ]
  },
  {
   "cell_type": "markdown",
   "metadata": {},
   "source": [
    "We can construct an array from this by enclosing it in square brackets:"
   ]
  },
  {
   "cell_type": "code",
   "execution_count": 110,
   "metadata": {
    "collapsed": false
   },
   "outputs": [
    {
     "data": {
      "text/plain": [
       "10-element Array{Int64,1}:\n",
       "  1\n",
       "  2\n",
       "  3\n",
       "  4\n",
       "  5\n",
       "  6\n",
       "  7\n",
       "  8\n",
       "  9\n",
       " 10"
      ]
     },
     "execution_count": 110,
     "metadata": {},
     "output_type": "execute_result"
    }
   ],
   "source": [
    "collect(1:10)"
   ]
  },
  {
   "cell_type": "code",
   "execution_count": 45,
   "metadata": {
    "collapsed": false
   },
   "outputs": [
    {
     "data": {
      "text/plain": [
       "6-element Array{Int64,1}:\n",
       "  1\n",
       "  3\n",
       "  5\n",
       "  7\n",
       "  9\n",
       " 17"
      ]
     },
     "execution_count": 45,
     "metadata": {},
     "output_type": "execute_result"
    }
   ],
   "source": [
    "[1:2:10,17]"
   ]
  },
  {
   "cell_type": "markdown",
   "metadata": {},
   "source": [
    "Use `help` or `?` to get help:"
   ]
  },
  {
   "cell_type": "code",
   "execution_count": 113,
   "metadata": {
    "collapsed": false
   },
   "outputs": [
    {
     "name": "stdout",
     "output_type": "stream",
     "text": [
      "Base.dot(x, y)\n",
      "\n",
      "   Compute the dot product. For complex vectors, the first vector is\n",
      "   conjugated.\n"
     ]
    }
   ],
   "source": [
    "?dot"
   ]
  },
  {
   "cell_type": "code",
   "execution_count": 114,
   "metadata": {
    "collapsed": false
   },
   "outputs": [
    {
     "name": "stdout",
     "output_type": "stream",
     "text": [
      "Base.dot(x, y)\n",
      "\n",
      "   Compute the dot product. For complex vectors, the first vector is\n",
      "   conjugated.\n"
     ]
    }
   ],
   "source": [
    "help(dot)"
   ]
  },
  {
   "cell_type": "code",
   "execution_count": 115,
   "metadata": {
    "collapsed": false
   },
   "outputs": [
    {
     "name": "stdout",
     "output_type": "stream",
     "text": [
      "Base.dot(x, y)\n",
      "\n",
      "   Compute the dot product. For complex vectors, the first vector is\n",
      "   conjugated.\n",
      "\n",
      "Base.LinAlg.BLAS.dot(n, X, incx, Y, incy)\n",
      "\n",
      "   Dot product of two vectors consisting of \"n\" elements of array\n",
      "   \"X\" with stride \"incx\" and \"n\" elements of array \"Y\" with\n",
      "   stride \"incy\".\n"
     ]
    }
   ],
   "source": [
    "help(\"dot\")"
   ]
  },
  {
   "cell_type": "markdown",
   "metadata": {},
   "source": [
    "**Exercise**: Implement the Babylonian method for calculating the square root of a positive number $y$, via the iteration \n",
    "$$x_{n+1} = \\textstyle \\frac{1}{2} (x_n + \\frac{y}{x_n})$$"
   ]
  },
  {
   "cell_type": "code",
   "execution_count": 121,
   "metadata": {
    "collapsed": false
   },
   "outputs": [
    {
     "data": {
      "text/plain": [
       "norm (generic function with 15 methods)"
      ]
     },
     "execution_count": 121,
     "metadata": {},
     "output_type": "execute_result"
    }
   ],
   "source": [
    "♆ = norm"
   ]
  },
  {
   "cell_type": "code",
   "execution_count": 123,
   "metadata": {
    "collapsed": false
   },
   "outputs": [
    {
     "data": {
      "text/plain": [
       "4.115823125451335"
      ]
     },
     "execution_count": 123,
     "metadata": {},
     "output_type": "execute_result"
    }
   ],
   "source": [
    "♆(a)"
   ]
  },
  {
   "cell_type": "code",
   "execution_count": 124,
   "metadata": {
    "collapsed": false
   },
   "outputs": [
    {
     "data": {
      "text/plain": [
       "snowman (generic function with 1 method)"
      ]
     },
     "execution_count": 124,
     "metadata": {},
     "output_type": "execute_result"
    }
   ],
   "source": [
    "snowman(x) = x^2"
   ]
  },
  {
   "cell_type": "code",
   "execution_count": 126,
   "metadata": {
    "collapsed": false
   },
   "outputs": [
    {
     "data": {
      "text/plain": [
       "9"
      ]
     },
     "execution_count": 126,
     "metadata": {},
     "output_type": "execute_result"
    }
   ],
   "source": [
    "☃ = snowman\n",
    "☃(3)"
   ]
  },
  {
   "cell_type": "markdown",
   "metadata": {},
   "source": [
    "## Short-circuit evaluation"
   ]
  },
  {
   "cell_type": "code",
   "execution_count": 128,
   "metadata": {
    "collapsed": false
   },
   "outputs": [
    {
     "name": "stdout",
     "output_type": "stream",
     "text": [
      "Small\n",
      "Small\n"
     ]
    }
   ],
   "source": [
    "a = 3\n",
    "a < 5 && println(\"Small\")   # evaluate the second statement only if the first is true;  semantics of if-then\n",
    "\n",
    "a > 10 || println(\"Small\")  # semantics of if not-then"
   ]
  },
  {
   "cell_type": "code",
   "execution_count": 129,
   "metadata": {
    "collapsed": false
   },
   "outputs": [
    {
     "name": "stdout",
     "output_type": "stream",
     "text": [
      "Hello\n"
     ]
    }
   ],
   "source": [
    "a == 3 ? println(\"Hello\") : println(\"Not true\")"
   ]
  },
  {
   "cell_type": "markdown",
   "metadata": {},
   "source": [
    "## Array comprehensions"
   ]
  },
  {
   "cell_type": "markdown",
   "metadata": {},
   "source": [
    "There is an equivalent of list comprehensions in Python, as follows. Note that the array construction syntax is quite flexible."
   ]
  },
  {
   "cell_type": "code",
   "execution_count": 54,
   "metadata": {
    "collapsed": false
   },
   "outputs": [
    {
     "data": {
      "text/plain": [
       "6-element Array{Any,1}:\n",
       "  1\n",
       "  9\n",
       " 25\n",
       " 49\n",
       " 81\n",
       " 49"
      ]
     },
     "execution_count": 54,
     "metadata": {},
     "output_type": "execute_result"
    }
   ],
   "source": [
    "squares = [i^2 for i in [1:2:10, 7]]"
   ]
  },
  {
   "cell_type": "code",
   "execution_count": 55,
   "metadata": {
    "collapsed": false
   },
   "outputs": [
    {
     "data": {
      "text/plain": [
       "5x5 Array{Int64,2}:\n",
       " 2  3  4  5   6\n",
       " 3  4  5  6   7\n",
       " 4  5  6  7   8\n",
       " 5  6  7  8   9\n",
       " 6  7  8  9  10"
      ]
     },
     "execution_count": 55,
     "metadata": {},
     "output_type": "execute_result"
    }
   ],
   "source": [
    "sums = [i+j for i=1:5, j=1:5]"
   ]
  },
  {
   "cell_type": "code",
   "execution_count": 56,
   "metadata": {
    "collapsed": false
   },
   "outputs": [
    {
     "data": {
      "text/plain": [
       "5x5x5 Array{Int64,3}:\n",
       "[:, :, 1] =\n",
       " 3  4  5   6   7\n",
       " 4  5  6   7   8\n",
       " 5  6  7   8   9\n",
       " 6  7  8   9  10\n",
       " 7  8  9  10  11\n",
       "\n",
       "[:, :, 2] =\n",
       " 4  5   6   7   8\n",
       " 5  6   7   8   9\n",
       " 6  7   8   9  10\n",
       " 7  8   9  10  11\n",
       " 8  9  10  11  12\n",
       "\n",
       "[:, :, 3] =\n",
       " 5   6   7   8   9\n",
       " 6   7   8   9  10\n",
       " 7   8   9  10  11\n",
       " 8   9  10  11  12\n",
       " 9  10  11  12  13\n",
       "\n",
       "[:, :, 4] =\n",
       "  6   7   8   9  10\n",
       "  7   8   9  10  11\n",
       "  8   9  10  11  12\n",
       "  9  10  11  12  13\n",
       " 10  11  12  13  14\n",
       "\n",
       "[:, :, 5] =\n",
       "  7   8   9  10  11\n",
       "  8   9  10  11  12\n",
       "  9  10  11  12  13\n",
       " 10  11  12  13  14\n",
       " 11  12  13  14  15"
      ]
     },
     "execution_count": 56,
     "metadata": {},
     "output_type": "execute_result"
    }
   ],
   "source": [
    "sums = [i+j+k for i=1:5, j=1:5, k=1:5]"
   ]
  },
  {
   "cell_type": "markdown",
   "metadata": {},
   "source": [
    "# Matrices"
   ]
  },
  {
   "cell_type": "markdown",
   "metadata": {},
   "source": [
    "Square brackets with commas gives a one-dimensional vector. This is printed in a way that treats it as if it were a column vector (although there is in fact no difference between a *one-dimensional* row vector and column vector)."
   ]
  },
  {
   "cell_type": "code",
   "execution_count": null,
   "metadata": {
    "collapsed": false
   },
   "outputs": [],
   "source": [
    "v = [3, 4, 5]"
   ]
  },
  {
   "cell_type": "markdown",
   "metadata": {},
   "source": [
    "To create explicit matrices, Matlab-style notation is used. If we omit the commas, something different happens: we now obtain a *two-dimensional* `Array`, i.e. a matrix, of size $1 \\times n$. [Recall that in the standard notation for matrices, an $m \\times n$ matrix has $m$ *rows* and $n$ *columns*.]"
   ]
  },
  {
   "cell_type": "code",
   "execution_count": null,
   "metadata": {
    "collapsed": false
   },
   "outputs": [],
   "source": [
    "row_vec = [3 4 5]"
   ]
  },
  {
   "cell_type": "markdown",
   "metadata": {},
   "source": [
    "We can also use the transpose operator, `'`. [This is actually the *conjugate*-transpose operator, which also takes the complex conjugate of complex numbers. Transpose without conjugate is denoted `.'`]"
   ]
  },
  {
   "cell_type": "code",
   "execution_count": null,
   "metadata": {
    "collapsed": false
   },
   "outputs": [],
   "source": [
    "row_vec = [1im, 2]'"
   ]
  },
  {
   "cell_type": "code",
   "execution_count": null,
   "metadata": {
    "collapsed": false
   },
   "outputs": [],
   "source": [
    "row_vec = [1im, 2].'"
   ]
  },
  {
   "cell_type": "markdown",
   "metadata": {},
   "source": [
    "A complete matrix may be constructed using a semicolon (`;`) to separate rows:"
   ]
  },
  {
   "cell_type": "code",
   "execution_count": 135,
   "metadata": {
    "collapsed": false
   },
   "outputs": [
    {
     "data": {
      "text/plain": [
       "2x2 Array{Int64,2}:\n",
       " 1  2\n",
       " 3  4"
      ]
     },
     "execution_count": 135,
     "metadata": {},
     "output_type": "execute_result"
    }
   ],
   "source": [
    "M = [1 2; 3 4]"
   ]
  },
  {
   "cell_type": "markdown",
   "metadata": {},
   "source": [
    "As in `numpy`, it may also be created using a `reshape`:"
   ]
  },
  {
   "cell_type": "code",
   "execution_count": null,
   "metadata": {
    "collapsed": false
   },
   "outputs": [],
   "source": [
    "M = reshape([1, 2, 3, 4], (2,2))"
   ]
  },
  {
   "cell_type": "markdown",
   "metadata": {},
   "source": [
    "Here, as in Python, `(2,2)` denotes an (immutable) tuple:"
   ]
  },
  {
   "cell_type": "code",
   "execution_count": null,
   "metadata": {
    "collapsed": false
   },
   "outputs": [],
   "source": [
    "t = (2, 2)\n",
    "typeof(t)"
   ]
  },
  {
   "cell_type": "markdown",
   "metadata": {},
   "source": [
    "There is an important difference in the way that Python and Julia treat slices of matrices. While in Python a one-dimensional slice in either direction returns a 1-dimensional vector, in Julia there is a difference. A vertical one-dimensional slice gives a 1-dimensional vector (a \"column vector\"):"
   ]
  },
  {
   "cell_type": "code",
   "execution_count": 3,
   "metadata": {
    "collapsed": false
   },
   "outputs": [
    {
     "data": {
      "text/plain": [
       "2-element Array{Int64,1}:\n",
       " 1\n",
       " 3"
      ]
     },
     "execution_count": 3,
     "metadata": {},
     "output_type": "execute_result"
    }
   ],
   "source": [
    "M[:,1]"
   ]
  },
  {
   "cell_type": "markdown",
   "metadata": {},
   "source": [
    "However, a horizontal one-dimensional slice produces a $1 \\times n$ matrix:"
   ]
  },
  {
   "cell_type": "code",
   "execution_count": 5,
   "metadata": {
    "collapsed": false
   },
   "outputs": [
    {
     "data": {
      "text/plain": [
       "1x2 Array{Int64,2}:\n",
       " 1  2"
      ]
     },
     "execution_count": 5,
     "metadata": {},
     "output_type": "execute_result"
    }
   ],
   "source": [
    "M[1,:]"
   ]
  },
  {
   "cell_type": "markdown",
   "metadata": {},
   "source": [
    "This is the same result that is produced using the following Matlab-like syntax:"
   ]
  },
  {
   "cell_type": "code",
   "execution_count": 6,
   "metadata": {
    "collapsed": false
   },
   "outputs": [
    {
     "data": {
      "text/plain": [
       "1x2 Array{Int64,2}:\n",
       " 1  2"
      ]
     },
     "execution_count": 6,
     "metadata": {},
     "output_type": "execute_result"
    }
   ],
   "source": [
    "[1 2]"
   ]
  },
  {
   "cell_type": "markdown",
   "metadata": {},
   "source": [
    "## Random numbers"
   ]
  },
  {
   "cell_type": "markdown",
   "metadata": {},
   "source": [
    "The Mersenne Twister (pseudo-)random number generator is built-in to Julia:"
   ]
  },
  {
   "cell_type": "code",
   "execution_count": 136,
   "metadata": {
    "collapsed": false
   },
   "outputs": [
    {
     "data": {
      "text/plain": [
       "0.30176459533546285"
      ]
     },
     "execution_count": 136,
     "metadata": {},
     "output_type": "execute_result"
    }
   ],
   "source": [
    "rand()"
   ]
  },
  {
   "cell_type": "code",
   "execution_count": 137,
   "metadata": {
    "collapsed": false
   },
   "outputs": [
    {
     "data": {
      "text/plain": [
       "5-element Array{Float64,1}:\n",
       " 0.322047\n",
       " 0.858765\n",
       " 0.744449\n",
       " 0.932944\n",
       " 0.735366"
      ]
     },
     "execution_count": 137,
     "metadata": {},
     "output_type": "execute_result"
    }
   ],
   "source": [
    "rand(5)"
   ]
  },
  {
   "cell_type": "code",
   "execution_count": 138,
   "metadata": {
    "collapsed": false
   },
   "outputs": [
    {
     "data": {
      "text/plain": [
       "5x5 Array{Float64,2}:\n",
       " 0.718125    0.514504  0.485157  0.118623   0.954479\n",
       " 0.665983    0.223968  0.571665  0.337021   0.418121\n",
       " 0.388917    0.989328  0.588583  0.0660616  0.636201\n",
       " 0.00130766  0.277592  0.476613  0.21       0.171883\n",
       " 0.0978661   0.499811  0.816341  0.772805   0.207609"
      ]
     },
     "execution_count": 138,
     "metadata": {},
     "output_type": "execute_result"
    }
   ],
   "source": [
    "x = rand(5, 5)"
   ]
  },
  {
   "cell_type": "code",
   "execution_count": null,
   "metadata": {
    "collapsed": false
   },
   "outputs": [],
   "source": [
    "rand"
   ]
  },
  {
   "cell_type": "markdown",
   "metadata": {},
   "source": [
    "## Matrix multiplication"
   ]
  },
  {
   "cell_type": "code",
   "execution_count": 60,
   "metadata": {
    "collapsed": false
   },
   "outputs": [
    {
     "data": {
      "text/plain": [
       "2-element Array{Int64,1}:\n",
       " 1\n",
       " 2"
      ]
     },
     "execution_count": 60,
     "metadata": {},
     "output_type": "execute_result"
    }
   ],
   "source": [
    "v = [1, 2]"
   ]
  },
  {
   "cell_type": "code",
   "execution_count": 140,
   "metadata": {
    "collapsed": false
   },
   "outputs": [
    {
     "ename": "LoadError",
     "evalue": "no method *(Array{Int64,1}, Array{Int64,1})\nwhile loading In[140], in expression starting on line 1",
     "output_type": "error",
     "traceback": [
      "no method *(Array{Int64,1}, Array{Int64,1})\nwhile loading In[140], in expression starting on line 1"
     ]
    }
   ],
   "source": [
    "v*v"
   ]
  },
  {
   "cell_type": "code",
   "execution_count": 17,
   "metadata": {
    "collapsed": false
   },
   "outputs": [
    {
     "data": {
      "text/plain": [
       "5"
      ]
     },
     "execution_count": 17,
     "metadata": {},
     "output_type": "execute_result"
    }
   ],
   "source": [
    "dot(v, v)"
   ]
  },
  {
   "cell_type": "code",
   "execution_count": 58,
   "metadata": {
    "collapsed": false
   },
   "outputs": [
    {
     "data": {
      "text/plain": [
       "2x2 Array{Int64,2}:\n",
       " 2  1\n",
       " 1  1"
      ]
     },
     "execution_count": 58,
     "metadata": {},
     "output_type": "execute_result"
    }
   ],
   "source": [
    "M = [2 1; 1 1]"
   ]
  },
  {
   "cell_type": "code",
   "execution_count": 142,
   "metadata": {
    "collapsed": false
   },
   "outputs": [
    {
     "ename": "LoadError",
     "evalue": "no method dot(Array{Int64,2}, Array{Int64,1})\nwhile loading In[142], in expression starting on line 1",
     "output_type": "error",
     "traceback": [
      "no method dot(Array{Int64,2}, Array{Int64,1})\nwhile loading In[142], in expression starting on line 1"
     ]
    }
   ],
   "source": [
    "dot(M, v)"
   ]
  },
  {
   "cell_type": "markdown",
   "metadata": {},
   "source": [
    "Matrix multiplication uses the `*` operator:"
   ]
  },
  {
   "cell_type": "code",
   "execution_count": 61,
   "metadata": {
    "collapsed": false
   },
   "outputs": [
    {
     "data": {
      "text/plain": [
       "2-element Array{Int64,1}:\n",
       " 4\n",
       " 3"
      ]
     },
     "execution_count": 61,
     "metadata": {},
     "output_type": "execute_result"
    }
   ],
   "source": [
    "M * v"
   ]
  },
  {
   "cell_type": "code",
   "execution_count": 62,
   "metadata": {
    "collapsed": false
   },
   "outputs": [
    {
     "data": {
      "text/html": [
       "*<i>{T,S}</i>(A::<b>AbstractArray{T,2}</b>,x::<b>AbstractArray{S,1}</b>) at <a href=\"https://github.com/JuliaLang/julia/tree/31efe690bea1fd8f4e44692e205fb72d34f50ad3/base/linalg/matmul.jl#L71\" target=\"_blank\">linalg/matmul.jl:71</a>"
      ],
      "text/plain": [
       "*{T,S}(A::AbstractArray{T,2},x::AbstractArray{S,1}) at linalg/matmul.jl:71"
      ]
     },
     "execution_count": 62,
     "metadata": {},
     "output_type": "execute_result"
    }
   ],
   "source": [
    "@which M*v"
   ]
  },
  {
   "cell_type": "markdown",
   "metadata": {},
   "source": [
    "**Exercise**: Use the *power method* to calculate the largest eigenvalue $\\lambda_1$ of the matrix $M = \\begin{pmatrix} 2 & 1 \\\\ 1 & 1 \\end{pmatrix}$. In this method, we start from an arbitrary non-zero vector $\\mathbf{w}$, and repeatedly apply $M$ to it, thus calculating powers of the matrix $M$ applied to $\\mathbf{w}$. The resulting vector converges to the eigenvector $\\mathbf{v}_1$ corresponding to $\\lambda_1$."
   ]
  },
  {
   "cell_type": "code",
   "execution_count": 63,
   "metadata": {
    "collapsed": false
   },
   "outputs": [
    {
     "data": {
      "text/plain": [
       "(\n",
       "2x2 Array{Float64,2}:\n",
       " 2.0  1.0\n",
       " 1.0  1.0,\n",
       "\n",
       "[1.0,1.0])"
      ]
     },
     "execution_count": 63,
     "metadata": {},
     "output_type": "execute_result"
    }
   ],
   "source": [
    "w = [1., 1]\n",
    "M = reshape([2., 1, 1, 1], (2,2))\n",
    "\n",
    "M, w"
   ]
  },
  {
   "cell_type": "code",
   "execution_count": 70,
   "metadata": {
    "collapsed": false
   },
   "outputs": [
    {
     "name": "stdout",
     "output_type": "stream",
     "text": [
      "[3.0,2.0]\n",
      "[2.218800784900916,1.3867504905630725]\n",
      "[2.225995548013356,1.377997244008268]\n",
      "[2.226884907992019,1.3766197613041573]\n",
      "[2.227011236629627,1.3764166670835891]\n",
      "[2.2270295947419534,1.3763869909147883]\n",
      "[2.227032271600713,1.3763826602598124]\n",
      "[2.227032662116069,1.3763820284053259]\n",
      "[2.2270327190907873,1.3763819362185634]\n",
      "[2.227032727403272,1.376381922768687]\n"
     ]
    }
   ],
   "source": [
    "w0 = [1., 1]\n",
    "w = copy(w0)\n",
    "\n",
    "for i in 1:10\n",
    "    w_new = M*w\n",
    "    println(w_new)\n",
    "    w = w_new / norm(w_new)\n",
    "end"
   ]
  },
  {
   "cell_type": "code",
   "execution_count": 1,
   "metadata": {
    "collapsed": false
   },
   "outputs": [
    {
     "ename": "LoadError",
     "evalue": "t not defined\nwhile loading In[1], in expression starting on line 4",
     "output_type": "error",
     "traceback": [
      "t not defined\nwhile loading In[1], in expression starting on line 4",
      ""
     ]
    }
   ],
   "source": [
    "for i =1:10\n",
    "    t = 3\n",
    "end\n",
    "t #won't be printed because t just exists in the for scope"
   ]
  },
  {
   "cell_type": "markdown",
   "metadata": {},
   "source": [
    "# Linear algebra"
   ]
  },
  {
   "cell_type": "markdown",
   "metadata": {},
   "source": [
    "Julia has built-in linear algebra, not only using LAPACK, but now also generic routines that work for arbitrary element types, implemented completely in Julia.\n",
    "\n",
    "For example, given a matrix $A$, the LU-decomposition of $A$ is equivalent to Gaussian elimination; it expresses $A$ as the product $A = LU$, with $L$ a lower-triangular and $U$ an upper-triangular matrix.\n",
    "\n",
    "This is *implemented in pure Julia* for arbitrary element types. When the elements are standard floating-point numbers, it uses the corresponding fast LAPACK implementation."
   ]
  },
  {
   "cell_type": "code",
   "execution_count": 2,
   "metadata": {
    "collapsed": false
   },
   "outputs": [
    {
     "data": {
      "text/plain": [
       "(Complex{Float64}[49.4553+0.0im,2.60611+1.39241im,2.60611-1.39241im,2.80843+0.0im,1.6786+2.20359im,1.6786-2.20359im,-2.5772+0.722606im,-2.5772-0.722606im,-2.07661+1.73455im,-2.07661-1.73455im  …  0.318764-0.818766im,-0.664996+0.0im,-0.262399+0.696736im,-0.262399-0.696736im,0.631772+0.341774im,0.631772-0.341774im,-0.337579+0.0im,0.0258253+0.441807im,0.0258253-0.441807im,0.244242+0.0im],\n",
       "100x100 Array{Complex{Float64},2}:\n",
       "  -0.104506+0.0im   -0.0583494+0.0673774im   …    -0.126245+0.0im\n",
       "  -0.110228+0.0im   -0.0302002+0.0203231im       0.00971673+0.0im\n",
       "  -0.106192+0.0im    0.0835864-0.0366953im       -0.0100192+0.0im\n",
       "  -0.101028+0.0im   -0.0976258-0.0103224im       -0.0208308+0.0im\n",
       "  -0.109692+0.0im    0.0206091+0.051544im        -0.0373466+0.0im\n",
       " -0.0927222+0.0im   0.00469629+0.0464441im   …   -0.0464968+0.0im\n",
       "  -0.106839+0.0im    0.0021757+0.110256im         -0.116836+0.0im\n",
       "   -0.10324+0.0im   -0.0737389-0.14787im         -0.0407359+0.0im\n",
       "  -0.102974+0.0im     -0.11934-0.0301666im        0.0426221+0.0im\n",
       "  -0.104879+0.0im    0.0237039-0.00547228im     -0.00898699+0.0im\n",
       "  -0.105285+0.0im   -0.0161691+0.0600921im   …    0.0082313+0.0im\n",
       " -0.0995482+0.0im    -0.023878-0.104027im        -0.0274685+0.0im\n",
       " -0.0994342+0.0im   -0.0468258-0.044981im        -0.0387807+0.0im\n",
       "           ⋮                                 ⋱                   \n",
       " -0.0954904+0.0im    0.0193279-0.017643im        -0.0780521+0.0im\n",
       " -0.0916581+0.0im    -0.066044+0.0354546im        -0.153619+0.0im\n",
       " -0.0979165+0.0im     0.101931+0.109964im    …   0.00194682+0.0im\n",
       "  -0.107172+0.0im    0.0678739-0.0172876im       0.00680776+0.0im\n",
       "  -0.108272+0.0im    -0.100656+0.00846016im       0.0572358+0.0im\n",
       " -0.0913561+0.0im    0.0612352+0.0874928im        0.0822063+0.0im\n",
       "   -0.10539+0.0im   0.00288259+0.0636149im        -0.151949+0.0im\n",
       " -0.0925015+0.0im    0.0304961+0.00627406im  …     0.058312+0.0im\n",
       " -0.0966832+0.0im    -0.143995-0.0137428im       -0.0348019+0.0im\n",
       "  -0.101731+0.0im    0.0519957+0.00597033im      -0.0907889+0.0im\n",
       " -0.0896939+0.0im    0.0362903-0.0129214im        -0.035998+0.0im\n",
       " -0.0940307+0.0im  -0.00657209-0.158261im        -0.0286019+0.0im)"
      ]
     },
     "execution_count": 2,
     "metadata": {},
     "output_type": "execute_result"
    }
   ],
   "source": [
    "M = rand(100, 100)\n",
    "eig(M)"
   ]
  },
  {
   "cell_type": "code",
   "execution_count": 3,
   "metadata": {
    "collapsed": false
   },
   "outputs": [
    {
     "data": {
      "text/plain": [
       "100x100 Array{BigFloat,2}:\n",
       " 3.41499732256071553138099261559545993804931640625e-01      …  6.689973747130995018750354574876837432384490966796875e-01\n",
       " 3.837450544904055238504270164412446320056915283203125e-01     7.06782295861154263860726132406853139400482177734375e-01 \n",
       " 6.73779399891735852889951274846680462360382080078125e-01      8.158750410289050680745503996149636805057525634765625e-01\n",
       " 6.047191231529878141515155220986343920230865478515625e-01     2.68999012840712481420268886722624301910400390625e-01    \n",
       " 3.51359116190601117324376900796778500080108642578125e-01      4.960645408074408901910601343843154609203338623046875e-01\n",
       " 9.30187353346197287606855752528645098209381103515625e-01   …  1.9592681156523372720812403713352978229522705078125e-01  \n",
       " 4.1193169713166977174978455877862870693206787109375e-01       2.0328662478073766806119238026440143585205078125e-01     \n",
       " 4.76493709114803376536428913823328912258148193359375e-01      8.88367071632467197872529141022823750972747802734375e-01 \n",
       " 8.63301451930530650002992842928506433963775634765625e-01      8.21008010717050762394819685141555964946746826171875e-01 \n",
       " 8.000181339706136096623367848224006593227386474609375e-01     3.88250252605438550546068654512055218219757080078125e-01 \n",
       " 9.18804371646583906141358966124244034290313720703125e-01   …  9.625508929917956368882414608378894627094268798828125e-01\n",
       " 1.282382267075459214566990340244956314563751220703125e-01     7.310058552909601825575691691483370959758758544921875e-01\n",
       " 7.481661838307440692830141415470279753208160400390625e-01     8.349264288870987815727175984648056328296661376953125e-01\n",
       " ⋮                                                          ⋱                                                           \n",
       " 6.45861874198019325632458276231773197650909423828125e-01      2.150989335177075911786914730328135192394256591796875e-01\n",
       " 8.3047253465137860217737397761084139347076416015625e-02       6.088991389391111841433712470461614429950714111328125e-01\n",
       " 2.040236468823974913533447761437855660915374755859375e-01  …  4.599328275746004113244680411298759281635284423828125e-01\n",
       " 2.714502378461052245484097511507570743560791015625e-01        4.2675221731670820446424841065891087055206298828125e-02  \n",
       " 1.620864883793042832138553421827964484691619873046875e-01     3.81989856583413445179076006752438843250274658203125e-01 \n",
       " 2.418257277111706127215029482613317668437957763671875e-01     8.273765904860841402523874421603977680206298828125e-01   \n",
       " 3.297335386996638195711284424760378897190093994140625e-01     7.109467553999271327569431377924047410488128662109375e-01\n",
       " 3.470167295594233092259628392639569938182830810546875e-01  …  3.512130007274747445222828901023603975772857666015625e-01\n",
       " 9.44736536917150981906843298929743468761444091796875e-01      1.673222843336221732357671498903073370456695556640625e-01\n",
       " 6.64031380167859897056814588722772896289825439453125e-01      2.867078930370026146334794248105026781558990478515625e-01\n",
       " 9.403058098155445687638120944029651582241058349609375e-01     3.503450471039382119187166608753614127635955810546875e-01\n",
       " 9.909181693511914801320017431862652301788330078125e-02        3.346426606631125455493247500271536409854888916015625e-01"
      ]
     },
     "execution_count": 3,
     "metadata": {},
     "output_type": "execute_result"
    }
   ],
   "source": [
    "M = rand(100, 100)\n",
    "M2 = map(big, M)"
   ]
  },
  {
   "cell_type": "code",
   "execution_count": 4,
   "metadata": {
    "collapsed": false
   },
   "outputs": [
    {
     "data": {
      "text/plain": [
       "(\n",
       "100x100 Array{BigFloat,2}:\n",
       " 1e+00                                                                                 …  0e+00\n",
       " 2.083543061729824728373762137800462284256013864405782072863835894555022090664619e-01     0e+00\n",
       " 1.885080284248462046020553070941008006804923664109838738230355865657787411698943e-01     0e+00\n",
       " 4.868390494295089913791749872572274980146677026896154096577236088185654381668904e-02     0e+00\n",
       " 9.308379963386380414924032310016838399893783533616283757409827477656339899757264e-01     0e+00\n",
       " 7.588133956951531752045254445901184138969646497514731338899505551158575891805754e-01  …  0e+00\n",
       " 5.266178057727190424640646456875355137119195255458693197726150378925488423692808e-02     0e+00\n",
       " 4.122198331411938617095188149651482955907553341364862761717983837869016180082745e-01     0e+00\n",
       " 4.768270046510868759568943997449232728715348268189695326045702886622947615102341e-01     0e+00\n",
       " 7.262472956699855818394390561425701183431889871884939446174009974067744265886207e-01     0e+00\n",
       " 4.897159135606284999904616348894421350490998293172493143200895359578619149888494e-01  …  0e+00\n",
       " 9.194470525255329080840280015506434074407586269228845733688232051880617161714118e-01     0e+00\n",
       " 5.669801500437603302447298467648629336522052055004847260931139087801841015280855e-01     0e+00\n",
       " ⋮                                                                                     ⋱       \n",
       " 8.325092743125319340835942125382173714655934178820894611723511198903528745790921e-01     0e+00\n",
       " 5.99575846903674111184857903426575819578830570089555088149829534780684898565552e-01      0e+00\n",
       " 4.705556231467836533274560606563136914404622521728411583796835746422943328328811e-01  …  0e+00\n",
       " 6.323212489337355821222728906633059988391570575895420273365638052373312599449895e-01     0e+00\n",
       " 6.463136385667993357235802266885210197479961139497370636575989044216656885268521e-01     0e+00\n",
       " 6.639246083344548585560175933677981700500964740310374618610387738425558764057364e-01     0e+00\n",
       " 8.310534296002742644810532677088961343742702626588530772056973456646898200119421e-02     0e+00\n",
       " 9.916112920437880282175608474107770616723639508546054026693021713851416081533574e-02  …  0e+00\n",
       " 3.965763063951899043726337854001427962884146994697338694105291529592702397043129e-01     0e+00\n",
       " 2.917545039865275863337548830872652081862746426685795084335557664811870353153899e-01     0e+00\n",
       " 1.283279261678429695656259848376865161609281298477312170163526263575172451731624e-01     0e+00\n",
       " 6.104155947547656981543070640316756224786274484114327613922335245871101020336498e-01     1e+00,\n",
       "\n",
       "100x100 Array{BigFloat,2}:\n",
       " 9.993010137155982075540805453783832490444183349609375e-01  …   1.409297892572045629577814906951971352100372314453125e-01                           \n",
       " 0e+00                                                          7.155612742579487919733876206897026954555154722494790178175006242995846468610666e-02\n",
       " 0e+00                                                          1.132488780580699100510002528411618972832336576259989878404248337011966392263417e-01\n",
       " 0e+00                                                          4.504778025722529491773090542002751344412324953450690709636621410427196447082819e-02\n",
       " 0e+00                                                          6.233431183874435415550042456245419324533011989952463879362308281767234829270391e-02\n",
       " 0e+00                                                      …   3.631318249243016531330675418428314100281126113341942170810688207388790162793761e-01\n",
       " 0e+00                                                          2.029287842660357900704206599940314822769294458925981922655649869361624248905821e-01\n",
       " 0e+00                                                          7.52105368229322982795039994345249521629118994902925956161636699630776230007012e-02 \n",
       " 0e+00                                                          4.406369636761867288461402103539692045041698197934802386166632976306907414893489e-01\n",
       " 0e+00                                                          4.236933499688602452015765639817015802623579817516729453958923460187283582721779e-01\n",
       " 0e+00                                                      …   5.197821284519048835667909474793719852300945935946894730205189079214475700368085e-01\n",
       " 0e+00                                                          1.767829532273192639832024949167781724959068431739050291849191663777594732940454e+00\n",
       " 0e+00                                                         -9.987903274245042009683043128635229469120006579296449027095594391828438391748962e-01\n",
       " ⋮                                                          ⋱                                                                                       \n",
       " 0e+00                                                          2.452094787545326669056576281040712473855057097800618302606036437896943371809676e+00\n",
       " 0e+00                                                          2.424224378682565116695054070187176884395872116526132504658693528676021797028345e+00\n",
       " 0e+00                                                      …   1.739952735261677244657029226964636787527858259639483093286717758727599018899551e-01\n",
       " 0e+00                                                         -8.338823757841568391102445642643302505644971083904295926224433137281864464662108e-01\n",
       " 0e+00                                                          1.398597251287204110883566700591731100246330289605303737831397829885026779457033e+00\n",
       " 0e+00                                                          3.366917820481630468904690865376128629837566610214791987044069972956018723156938e-01\n",
       " 0e+00                                                          1.416704374725771669069691596767062226456031860333416174335896646898251132981301e+00\n",
       " 0e+00                                                      …   3.959281560717655532791332979444110794533750161261434478156677622153539426198889e-01\n",
       " 0e+00                                                         -3.259857916254936358252594908642245701030956594119200324632141166523715083219904e-01\n",
       " 0e+00                                                         -2.019555266178335762641524496293984004287939828006888972093591266537499585323791e+00\n",
       " 0e+00                                                          2.742699647804872200069338994881129795068709555988360848668187543705041970312082e+00\n",
       " 0e+00                                                         -9.746189261340509085756699594195457166548408350827224427205589028301701402738505e-01,\n",
       "\n",
       "[87,78,62,22,6,42,28,7,8,49  …  14,66,89,68,90,100,39,83,12,43])"
      ]
     },
     "execution_count": 4,
     "metadata": {},
     "output_type": "execute_result"
    }
   ],
   "source": [
    "lu(M2)"
   ]
  },
  {
   "cell_type": "code",
   "execution_count": 5,
   "metadata": {
    "collapsed": false
   },
   "outputs": [
    {
     "data": {
      "text/plain": [
       "(\n",
       "100x100 Array{Float64,2}:\n",
       " 1.0         0.0           0.0        …   0.0        0.0       0.0\n",
       " 0.208354    1.0           0.0            0.0        0.0       0.0\n",
       " 0.188508    0.197253      1.0            0.0        0.0       0.0\n",
       " 0.0486839   0.498701     -0.125564       0.0        0.0       0.0\n",
       " 0.930838    0.695687     -0.655293       0.0        0.0       0.0\n",
       " 0.758813   -0.091067      0.561132   …   0.0        0.0       0.0\n",
       " 0.0526618   0.445214     -0.171587       0.0        0.0       0.0\n",
       " 0.41222     0.356765     -0.364269       0.0        0.0       0.0\n",
       " 0.476827    0.107381      0.338406       0.0        0.0       0.0\n",
       " 0.726247    0.330065      0.340706       0.0        0.0       0.0\n",
       " 0.489716    0.816836     -0.131986   …   0.0        0.0       0.0\n",
       " 0.919447    0.50482      -0.930075       0.0        0.0       0.0\n",
       " 0.56698    -0.112169     -0.128156       0.0        0.0       0.0\n",
       " ⋮                                    ⋱                           \n",
       " 0.832509    0.000309064   0.0840172      0.0        0.0       0.0\n",
       " 0.599576    0.331331     -0.411492       0.0        0.0       0.0\n",
       " 0.470556    0.264746     -0.348458   …   0.0        0.0       0.0\n",
       " 0.632321   -0.0624872     0.68665        0.0        0.0       0.0\n",
       " 0.646314    0.0203543     0.0349262      0.0        0.0       0.0\n",
       " 0.663925    0.257865     -0.150108       0.0        0.0       0.0\n",
       " 0.0831053   0.997736     -0.698928       0.0        0.0       0.0\n",
       " 0.0991611   0.951318      0.169188   …   0.0        0.0       0.0\n",
       " 0.396576    0.296518      0.133782       0.0        0.0       0.0\n",
       " 0.291755    0.26562      -0.185842       1.0        0.0       0.0\n",
       " 0.128328    0.345751      0.265363      -0.305614   1.0       0.0\n",
       " 0.610416    0.548097     -0.466394      -0.129163  -0.432331  1.0,\n",
       "\n",
       "100x100 Array{Float64,2}:\n",
       " 0.999301  0.269395  0.513937  …   0.965834    0.335865    0.14093  \n",
       " 0.0       0.890295  0.523864     -0.0298493   0.188389    0.0715561\n",
       " 0.0       0.0       0.786627      0.659953    0.222307    0.113249 \n",
       " 0.0       0.0       0.0           0.886482    0.903205    0.0450478\n",
       " 0.0       0.0       0.0          -0.56174     0.0585484   0.0623343\n",
       " 0.0       0.0       0.0       …   0.661002    1.0115      0.363132 \n",
       " 0.0       0.0       0.0           0.46286     0.215562    0.202929 \n",
       " 0.0       0.0       0.0           0.0655094  -0.591076    0.0752105\n",
       " 0.0       0.0       0.0          -0.736783    0.138927    0.440637 \n",
       " 0.0       0.0       0.0           0.206547   -0.0256575   0.423693 \n",
       " 0.0       0.0       0.0       …  -0.502041   -0.149553    0.519782 \n",
       " 0.0       0.0       0.0          -1.01702     0.27332     1.76783  \n",
       " 0.0       0.0       0.0           0.303928   -0.215946   -0.99879  \n",
       " ⋮                             ⋱                                    \n",
       " 0.0       0.0       0.0           2.39772    -3.46131     2.45209  \n",
       " 0.0       0.0       0.0           0.108893   -1.42097     2.42422  \n",
       " 0.0       0.0       0.0       …  -3.03719     0.900553    0.173995 \n",
       " 0.0       0.0       0.0          -4.80897     3.18917    -0.833882 \n",
       " 0.0       0.0       0.0           2.19005    -1.0208      1.3986   \n",
       " 0.0       0.0       0.0          -1.26345    -1.21298     0.336692 \n",
       " 0.0       0.0       0.0          -0.417998    0.544668    1.4167   \n",
       " 0.0       0.0       0.0       …  -0.670505    1.21561     0.395928 \n",
       " 0.0       0.0       0.0          -1.59089    -1.34402    -0.325986 \n",
       " 0.0       0.0       0.0          -3.35482     0.327353   -2.01956  \n",
       " 0.0       0.0       0.0           0.0         1.52136     2.7427   \n",
       " 0.0       0.0       0.0           0.0         0.0        -0.974619 ,\n",
       "\n",
       "[87,78,62,22,6,42,28,7,8,49  …  14,66,89,68,90,100,39,83,12,43])"
      ]
     },
     "execution_count": 5,
     "metadata": {},
     "output_type": "execute_result"
    }
   ],
   "source": [
    "lu(M)"
   ]
  },
  {
   "cell_type": "code",
   "execution_count": 5,
   "metadata": {
    "collapsed": false
   },
   "outputs": [
    {
     "data": {
      "text/html": [
       "2 methods for generic function <b>lu</b>:<ul><li> lu(x::<b>Number</b>) at <a href=\"https://github.com/JuliaLang/julia/tree/7e7462150f72721caf0e6bd6e7e7e500d1efb187/base/linalg/lu.jl#L69\" target=\"_blank\">linalg/lu.jl:69</a><li> lu(A::<b>AbstractArray{T,2}</b>) at <a href=\"https://github.com/JuliaLang/julia/tree/7e7462150f72721caf0e6bd6e7e7e500d1efb187/base/linalg/lu.jl#L71\" target=\"_blank\">linalg/lu.jl:71</a></ul>"
      ],
      "text/plain": [
       "# 2 methods for generic function \"lu\":\n",
       "lu(x::Number) at linalg/lu.jl:69\n",
       "lu(A::AbstractArray{T,2}) at linalg/lu.jl:71"
      ]
     },
     "execution_count": 5,
     "metadata": {},
     "output_type": "execute_result"
    }
   ],
   "source": [
    "methods(lu)"
   ]
  },
  {
   "cell_type": "code",
   "execution_count": 7,
   "metadata": {
    "collapsed": false
   },
   "outputs": [],
   "source": [
    "@edit lu(M)"
   ]
  },
  {
   "cell_type": "markdown",
   "metadata": {},
   "source": [
    "# Interacting with the system"
   ]
  },
  {
   "cell_type": "markdown",
   "metadata": {},
   "source": [
    "## Command-line arguments"
   ]
  },
  {
   "cell_type": "markdown",
   "metadata": {},
   "source": [
    "A Julia script, similar to a Python script, is a sequence of Julia commands placed in a file, with the termination `.jl`.\n",
    "\n",
    "From the command line, a script `script.jl` can be run as \n",
    "\n",
    "    julia script.jl arg1 arg2 \n",
    "\n",
    "where `arg1` and `arg2` are command-line arguments.\n",
    "\n",
    "These command-line arguments to Julia scripts are placed in the variable `ARGS` as an array of strings."
   ]
  },
  {
   "cell_type": "markdown",
   "metadata": {},
   "source": [
    "## Files"
   ]
  },
  {
   "cell_type": "markdown",
   "metadata": {},
   "source": [
    "Simple file input and output is easy:"
   ]
  },
  {
   "cell_type": "code",
   "execution_count": 66,
   "metadata": {
    "collapsed": false
   },
   "outputs": [
    {
     "data": {
      "text/plain": [
       "IOStream(<file test.txt>)"
      ]
     },
     "execution_count": 66,
     "metadata": {},
     "output_type": "execute_result"
    }
   ],
   "source": [
    "outfile = open(\"test.txt\", \"w\")"
   ]
  },
  {
   "cell_type": "code",
   "execution_count": 69,
   "metadata": {
    "collapsed": false
   },
   "outputs": [],
   "source": [
    "for i in 1:10\n",
    "    println(outfile, \"The value of i is $i\")\n",
    "end\n",
    "\n",
    "close(outfile)"
   ]
  },
  {
   "cell_type": "code",
   "execution_count": 70,
   "metadata": {
    "collapsed": false
   },
   "outputs": [
    {
     "name": "stdout",
     "output_type": "stream",
     "text": [
      "The value of i is 1\n",
      "The value of i is 2\n",
      "The value of i is 3\n",
      "The value of i is 4\n",
      "The value of i is 5\n",
      "The value of i is 6\n",
      "The value of i is 7\n",
      "The value of i is 8\n",
      "The value of i is 9\n",
      "The value of i is 10\n"
     ]
    }
   ],
   "source": [
    ";cat test.txt"
   ]
  },
  {
   "cell_type": "code",
   "execution_count": 72,
   "metadata": {
    "collapsed": false
   },
   "outputs": [
    {
     "data": {
      "text/plain": [
       "IOStream(<file test.txt>)"
      ]
     },
     "execution_count": 72,
     "metadata": {},
     "output_type": "execute_result"
    }
   ],
   "source": [
    "infile = open(\"test.txt\", \"r\")"
   ]
  },
  {
   "cell_type": "code",
   "execution_count": 74,
   "metadata": {
    "collapsed": false
   },
   "outputs": [
    {
     "data": {
      "text/plain": [
       "10-element Array{Union(UTF8String,ASCIIString),1}:\n",
       " \"The value of i is 1\\n\" \n",
       " \"The value of i is 2\\n\" \n",
       " \"The value of i is 3\\n\" \n",
       " \"The value of i is 4\\n\" \n",
       " \"The value of i is 5\\n\" \n",
       " \"The value of i is 6\\n\" \n",
       " \"The value of i is 7\\n\" \n",
       " \"The value of i is 8\\n\" \n",
       " \"The value of i is 9\\n\" \n",
       " \"The value of i is 10\\n\""
      ]
     },
     "execution_count": 74,
     "metadata": {},
     "output_type": "execute_result"
    }
   ],
   "source": [
    "lines = readlines(infile)"
   ]
  },
  {
   "cell_type": "code",
   "execution_count": 75,
   "metadata": {
    "collapsed": false
   },
   "outputs": [
    {
     "data": {
      "text/plain": [
       "10-element Array{Array{SubString{ASCIIString},1},1}:\n",
       " SubString{ASCIIString}[\"The\",\"value\",\"of\",\"i\",\"is\",\"1\"] \n",
       " SubString{ASCIIString}[\"The\",\"value\",\"of\",\"i\",\"is\",\"2\"] \n",
       " SubString{ASCIIString}[\"The\",\"value\",\"of\",\"i\",\"is\",\"3\"] \n",
       " SubString{ASCIIString}[\"The\",\"value\",\"of\",\"i\",\"is\",\"4\"] \n",
       " SubString{ASCIIString}[\"The\",\"value\",\"of\",\"i\",\"is\",\"5\"] \n",
       " SubString{ASCIIString}[\"The\",\"value\",\"of\",\"i\",\"is\",\"6\"] \n",
       " SubString{ASCIIString}[\"The\",\"value\",\"of\",\"i\",\"is\",\"7\"] \n",
       " SubString{ASCIIString}[\"The\",\"value\",\"of\",\"i\",\"is\",\"8\"] \n",
       " SubString{ASCIIString}[\"The\",\"value\",\"of\",\"i\",\"is\",\"9\"] \n",
       " SubString{ASCIIString}[\"The\",\"value\",\"of\",\"i\",\"is\",\"10\"]"
      ]
     },
     "execution_count": 75,
     "metadata": {},
     "output_type": "execute_result"
    }
   ],
   "source": [
    "map(split, lines)"
   ]
  },
  {
   "cell_type": "code",
   "execution_count": 76,
   "metadata": {
    "collapsed": false
   },
   "outputs": [
    {
     "data": {
      "text/plain": [
       "10-element Array{Any,1}:\n",
       "  1.0\n",
       "  2.0\n",
       "  3.0\n",
       "  4.0\n",
       "  5.0\n",
       "  6.0\n",
       "  7.0\n",
       "  8.0\n",
       "  9.0\n",
       " 10.0"
      ]
     },
     "execution_count": 76,
     "metadata": {},
     "output_type": "execute_result"
    }
   ],
   "source": [
    "[float(line[6]) for line in map(split, lines)]"
   ]
  },
  {
   "cell_type": "code",
   "execution_count": 49,
   "metadata": {
    "collapsed": false
   },
   "outputs": [
    {
     "data": {
      "text/plain": [
       "5x5 Array{Float64,2}:\n",
       " 0.733305  0.407818  0.856017  0.17519   0.300911   \n",
       " 0.780196  0.410316  0.747914  0.517746  0.482768   \n",
       " 0.821524  0.282658  0.499362  0.33969   0.46995    \n",
       " 0.127905  0.784039  0.552099  0.370477  0.000157871\n",
       " 0.614037  0.831996  0.557765  0.400553  0.816338   "
      ]
     },
     "execution_count": 49,
     "metadata": {},
     "output_type": "execute_result"
    }
   ],
   "source": [
    "x = rand(5,5)"
   ]
  },
  {
   "cell_type": "code",
   "execution_count": 54,
   "metadata": {
    "collapsed": false
   },
   "outputs": [
    {
     "name": "stdout",
     "output_type": "stream",
     "text": [
      ".7333048397971658\t.40781770914373294\t.8560165670499627\t.1751897160302176\t.3009107585707549\n",
      ".7801957216838906\t.41031585009227367\t.7479144542902101\t.5177461965467203\t.4827677730696496\n",
      ".8215243209225078\t.28265839467586185\t.49936164572625463\t.33968997036639403\t.46994964345333146\n",
      ".1279053435465234\t.7840390419869261\t.5520986105415162\t.3704773976502098\t.00015787055013616325\n",
      ".6140369836251944\t.8319958406211578\t.5577649080752074\t.4005532312183908\t.8163378474918641\n"
     ]
    }
   ],
   "source": [
    "writedlm(\"random.txt\", x)\n",
    ";cat random.txt\n"
   ]
  },
  {
   "cell_type": "code",
   "execution_count": 56,
   "metadata": {
    "collapsed": false
   },
   "outputs": [
    {
     "data": {
      "text/plain": [
       "5x5 Array{Float64,2}:\n",
       " 0.733305  0.407818  0.856017  0.17519   0.300911   \n",
       " 0.780196  0.410316  0.747914  0.517746  0.482768   \n",
       " 0.821524  0.282658  0.499362  0.33969   0.46995    \n",
       " 0.127905  0.784039  0.552099  0.370477  0.000157871\n",
       " 0.614037  0.831996  0.557765  0.400553  0.816338   "
      ]
     },
     "execution_count": 56,
     "metadata": {},
     "output_type": "execute_result"
    }
   ],
   "source": [
    "y = readdlm(\"random.txt\")  # note that tab completion works for files"
   ]
  },
  {
   "cell_type": "markdown",
   "metadata": {},
   "source": [
    "### Shelling out"
   ]
  },
  {
   "cell_type": "code",
   "execution_count": 93,
   "metadata": {
    "collapsed": false
   },
   "outputs": [
    {
     "name": "stdout",
     "output_type": "stream",
     "text": [
      "Arrays with any indexing.ipynb\n",
      "Introduction to Julia.ipynb\n",
      "Introduction to Julia.pdf\n",
      "Introduction to Julia.tex\n",
      "Random matrices.ipynb\n",
      "julia_tutorial.md\n"
     ]
    }
   ],
   "source": [
    ";ls"
   ]
  },
  {
   "cell_type": "code",
   "execution_count": 9,
   "metadata": {
    "collapsed": false
   },
   "outputs": [
    {
     "name": "stdout",
     "output_type": "stream",
     "text": [
      "Hello\n"
     ]
    }
   ],
   "source": [
    "run(`echo Hello`)"
   ]
  },
  {
   "cell_type": "markdown",
   "metadata": {},
   "source": [
    "## Scientific computing"
   ]
  },
  {
   "cell_type": "markdown",
   "metadata": {},
   "source": [
    "Linear algebra, FFT, random numbers, special functions.\n",
    "Packages for optimization, ODEs etc."
   ]
  },
  {
   "cell_type": "markdown",
   "metadata": {},
   "source": [
    "# Functions"
   ]
  },
  {
   "cell_type": "markdown",
   "metadata": {},
   "source": [
    "Functions may be defined using the short syntax `f(x) = 3x + 1` or using a longer form:"
   ]
  },
  {
   "cell_type": "code",
   "execution_count": 10,
   "metadata": {
    "collapsed": false
   },
   "outputs": [
    {
     "data": {
      "text/plain": [
       "dup (generic function with 1 method)"
      ]
     },
     "execution_count": 10,
     "metadata": {},
     "output_type": "execute_result"
    }
   ],
   "source": [
    "dup(x) = 2x"
   ]
  },
  {
   "cell_type": "code",
   "execution_count": 11,
   "metadata": {
    "collapsed": false
   },
   "outputs": [
    {
     "data": {
      "text/plain": [
       "duplicate (generic function with 1 method)"
      ]
     },
     "execution_count": 11,
     "metadata": {},
     "output_type": "execute_result"
    }
   ],
   "source": [
    "function duplicate(x)\n",
    "    2x   # no explicit \"return\" needed\n",
    "end"
   ]
  },
  {
   "cell_type": "markdown",
   "metadata": {},
   "source": [
    "The last value computed in the function is automatically returned; no explicit `return` statement is required."
   ]
  },
  {
   "cell_type": "code",
   "execution_count": 19,
   "metadata": {
    "collapsed": false
   },
   "outputs": [
    {
     "data": {
      "text/plain": [
       "quad2 (generic function with 1 method)"
      ]
     },
     "execution_count": 19,
     "metadata": {},
     "output_type": "execute_result"
    }
   ],
   "source": [
    "duplicate(x) = x^2"
   ]
  },
  {
   "cell_type": "markdown",
   "metadata": {},
   "source": [
    "Every operator in Julia is a function. Functions are implemented by specifying their action on different *types*. Until now, we have written only functions that are generic, in the sense that they do not specify which type they accept, and as in Python they will work as long as the operations performed in them make sense for the input value:"
   ]
  },
  {
   "cell_type": "code",
   "execution_count": 13,
   "metadata": {
    "collapsed": false
   },
   "outputs": [
    {
     "data": {
      "text/plain": [
       "(6,7.0,2 + 6im)"
      ]
     },
     "execution_count": 13,
     "metadata": {},
     "output_type": "execute_result"
    }
   ],
   "source": [
    "duplicate(3), duplicate(3.5), duplicate(1+3im)"
   ]
  },
  {
   "cell_type": "code",
   "execution_count": 14,
   "metadata": {
    "collapsed": false
   },
   "outputs": [
    {
     "ename": "LoadError",
     "evalue": "syntax: unexpected ,\nwhile loading In[14], in expression starting on line 1",
     "output_type": "error",
     "traceback": [
      "syntax: unexpected ,\nwhile loading In[14], in expression starting on line 1"
     ]
    }
   ],
   "source": [
    "duplicate(\"Hola\")"
   ]
  },
  {
   "cell_type": "code",
   "execution_count": 15,
   "metadata": {
    "collapsed": false
   },
   "outputs": [
    {
     "ename": "LoadError",
     "evalue": "no method *(Int64, ASCIIString)\nwhile loading In[15], in expression starting on line 1",
     "output_type": "error",
     "traceback": [
      "no method *(Int64, ASCIIString)\nwhile loading In[15], in expression starting on line 1"
     ]
    }
   ],
   "source": [
    "2 * \"Hola\""
   ]
  },
  {
   "cell_type": "markdown",
   "metadata": {},
   "source": [
    "Note that string concatenation uses the `*` operator in Julia, instead of the `+` operator as in Python.\n",
    "Repeating a string is thus done by raising to an integer power:"
   ]
  },
  {
   "cell_type": "code",
   "execution_count": 16,
   "metadata": {
    "collapsed": false
   },
   "outputs": [
    {
     "data": {
      "text/plain": [
       "\"HelloHello\""
      ]
     },
     "execution_count": 16,
     "metadata": {},
     "output_type": "execute_result"
    }
   ],
   "source": [
    "\"Hello\"^2"
   ]
  },
  {
   "cell_type": "markdown",
   "metadata": {},
   "source": [
    "As a simple example, suppose that we wish to concatenate two strings. In Python we would write:"
   ]
  },
  {
   "cell_type": "code",
   "execution_count": 17,
   "metadata": {
    "collapsed": false
   },
   "outputs": [
    {
     "ename": "LoadError",
     "evalue": "no method +(ASCIIString, ASCIIString)\nwhile loading In[17], in expression starting on line 4",
     "output_type": "error",
     "traceback": [
      "no method +(ASCIIString, ASCIIString)\nwhile loading In[17], in expression starting on line 4"
     ]
    }
   ],
   "source": [
    "s1 = \"Hello, \"\n",
    "s2 = \"David\"\n",
    "\n",
    "s1 + s2"
   ]
  },
  {
   "cell_type": "markdown",
   "metadata": {},
   "source": [
    "However, we see that in Julia, summation is not defined for strings. What is it defined for? "
   ]
  },
  {
   "cell_type": "code",
   "execution_count": 20,
   "metadata": {
    "collapsed": false
   },
   "outputs": [
    {
     "data": {
      "text/plain": [
       "+ (generic function with 123 methods)"
      ]
     },
     "execution_count": 20,
     "metadata": {},
     "output_type": "execute_result"
    }
   ],
   "source": [
    "+"
   ]
  },
  {
   "cell_type": "markdown",
   "metadata": {},
   "source": [
    "We see that `+` is treated as a function, and that it has a multitude of *methods*, which, in Julia, are specialised versions of the function that act on different types:"
   ]
  },
  {
   "cell_type": "code",
   "execution_count": 107,
   "metadata": {
    "collapsed": false
   },
   "outputs": [
    {
     "data": {
      "text/html": [
       "122 methods for generic function <b>+</b>:<ul><li> +(x::<b>Bool</b>) at <a href=\"https://github.com/JuliaLang/julia/tree/aadabde73203251c591c847c44d029d8f19445d3/base/bool.jl#L36\" target=\"_blank\">bool.jl:36</a><li> +(x::<b>Bool</b>,y::<b>Bool</b>) at <a href=\"https://github.com/JuliaLang/julia/tree/aadabde73203251c591c847c44d029d8f19445d3/base/bool.jl#L39\" target=\"_blank\">bool.jl:39</a><li> +(y::<b>FloatingPoint</b>,x::<b>Bool</b>) at <a href=\"https://github.com/JuliaLang/julia/tree/aadabde73203251c591c847c44d029d8f19445d3/base/bool.jl#L49\" target=\"_blank\">bool.jl:49</a><li> +(A::<b>BitArray{N}</b>,B::<b>BitArray{N}</b>) at <a href=\"https://github.com/JuliaLang/julia/tree/aadabde73203251c591c847c44d029d8f19445d3/base/bitarray.jl#L912\" target=\"_blank\">bitarray.jl:912</a><li> +(A::<b>Union(SubArray{Bool,N,A<:DenseArray{T,N},I<:(Union(Range{Int64},Int64)...,)},DenseArray{Bool,N})</b>,B::<b>Union(SubArray{Bool,N,A<:DenseArray{T,N},I<:(Union(Range{Int64},Int64)...,)},DenseArray{Bool,N})</b>) at <a href=\"https://github.com/JuliaLang/julia/tree/aadabde73203251c591c847c44d029d8f19445d3/base/array.jl#L780\" target=\"_blank\">array.jl:780</a><li> +<i>{S,T}</i>(A::<b>Union(SubArray{S,N,A<:DenseArray{T,N},I<:(Union(Range{Int64},Int64)...,)},DenseArray{S,N})</b>,B::<b>Union(SubArray{T,N,A<:DenseArray{T,N},I<:(Union(Range{Int64},Int64)...,)},DenseArray{T,N})</b>) at <a href=\"https://github.com/JuliaLang/julia/tree/aadabde73203251c591c847c44d029d8f19445d3/base/array.jl#L712\" target=\"_blank\">array.jl:712</a><li> +<i>{T<:Union(Int8,Int16,Int32)}</i>(x::<b>T<:Union(Int8,Int16,Int32)</b>,y::<b>T<:Union(Int8,Int16,Int32)</b>) at <a href=\"https://github.com/JuliaLang/julia/tree/aadabde73203251c591c847c44d029d8f19445d3/base/int.jl#L16\" target=\"_blank\">int.jl:16</a><li> +<i>{T<:Union(Uint8,Uint32,Uint16)}</i>(x::<b>T<:Union(Uint8,Uint32,Uint16)</b>,y::<b>T<:Union(Uint8,Uint32,Uint16)</b>) at <a href=\"https://github.com/JuliaLang/julia/tree/aadabde73203251c591c847c44d029d8f19445d3/base/int.jl#L20\" target=\"_blank\">int.jl:20</a><li> +(x::<b>Int64</b>,y::<b>Int64</b>) at <a href=\"https://github.com/JuliaLang/julia/tree/aadabde73203251c591c847c44d029d8f19445d3/base/int.jl#L33\" target=\"_blank\">int.jl:33</a><li> +(x::<b>Uint64</b>,y::<b>Uint64</b>) at <a href=\"https://github.com/JuliaLang/julia/tree/aadabde73203251c591c847c44d029d8f19445d3/base/int.jl#L34\" target=\"_blank\">int.jl:34</a><li> +(x::<b>Int128</b>,y::<b>Int128</b>) at <a href=\"https://github.com/JuliaLang/julia/tree/aadabde73203251c591c847c44d029d8f19445d3/base/int.jl#L35\" target=\"_blank\">int.jl:35</a><li> +(x::<b>Uint128</b>,y::<b>Uint128</b>) at <a href=\"https://github.com/JuliaLang/julia/tree/aadabde73203251c591c847c44d029d8f19445d3/base/int.jl#L36\" target=\"_blank\">int.jl:36</a><li> +(x::<b>Float32</b>,y::<b>Float32</b>) at <a href=\"https://github.com/JuliaLang/julia/tree/aadabde73203251c591c847c44d029d8f19445d3/base/float.jl#L124\" target=\"_blank\">float.jl:124</a><li> +(x::<b>Float64</b>,y::<b>Float64</b>) at <a href=\"https://github.com/JuliaLang/julia/tree/aadabde73203251c591c847c44d029d8f19445d3/base/float.jl#L125\" target=\"_blank\">float.jl:125</a><li> +(z::<b>Complex{T<:Real}</b>,w::<b>Complex{T<:Real}</b>) at <a href=\"https://github.com/JuliaLang/julia/tree/aadabde73203251c591c847c44d029d8f19445d3/base/complex.jl#L112\" target=\"_blank\">complex.jl:112</a><li> +(x::<b>Real</b>,z::<b>Complex{T<:Real}</b>) at <a href=\"https://github.com/JuliaLang/julia/tree/aadabde73203251c591c847c44d029d8f19445d3/base/complex.jl#L122\" target=\"_blank\">complex.jl:122</a><li> +(z::<b>Complex{T<:Real}</b>,x::<b>Real</b>) at <a href=\"https://github.com/JuliaLang/julia/tree/aadabde73203251c591c847c44d029d8f19445d3/base/complex.jl#L123\" target=\"_blank\">complex.jl:123</a><li> +(x::<b>Rational{T<:Integer}</b>,y::<b>Rational{T<:Integer}</b>) at <a href=\"https://github.com/JuliaLang/julia/tree/aadabde73203251c591c847c44d029d8f19445d3/base/rational.jl#L124\" target=\"_blank\">rational.jl:124</a><li> +(x::<b>Char</b>,y::<b>Char</b>) at <a href=\"https://github.com/JuliaLang/julia/tree/aadabde73203251c591c847c44d029d8f19445d3/base/char.jl#L22\" target=\"_blank\">char.jl:22</a><li> +(x::<b>Char</b>,y::<b>Integer</b>) at <a href=\"https://github.com/JuliaLang/julia/tree/aadabde73203251c591c847c44d029d8f19445d3/base/char.jl#L25\" target=\"_blank\">char.jl:25</a><li> +(x::<b>Integer</b>,y::<b>Char</b>) at <a href=\"https://github.com/JuliaLang/julia/tree/aadabde73203251c591c847c44d029d8f19445d3/base/char.jl#L26\" target=\"_blank\">char.jl:26</a><li> +(a::<b>Float16</b>,b::<b>Float16</b>) at <a href=\"https://github.com/JuliaLang/julia/tree/aadabde73203251c591c847c44d029d8f19445d3/base/float16.jl#L125\" target=\"_blank\">float16.jl:125</a><li> +(x::<b>BigInt</b>,y::<b>BigInt</b>) at <a href=\"https://github.com/JuliaLang/julia/tree/aadabde73203251c591c847c44d029d8f19445d3/base/gmp.jl#L185\" target=\"_blank\">gmp.jl:185</a><li> +(a::<b>BigInt</b>,b::<b>BigInt</b>,c::<b>BigInt</b>) at <a href=\"https://github.com/JuliaLang/julia/tree/aadabde73203251c591c847c44d029d8f19445d3/base/gmp.jl#L208\" target=\"_blank\">gmp.jl:208</a><li> +(a::<b>BigInt</b>,b::<b>BigInt</b>,c::<b>BigInt</b>,d::<b>BigInt</b>) at <a href=\"https://github.com/JuliaLang/julia/tree/aadabde73203251c591c847c44d029d8f19445d3/base/gmp.jl#L214\" target=\"_blank\">gmp.jl:214</a><li> +(a::<b>BigInt</b>,b::<b>BigInt</b>,c::<b>BigInt</b>,d::<b>BigInt</b>,e::<b>BigInt</b>) at <a href=\"https://github.com/JuliaLang/julia/tree/aadabde73203251c591c847c44d029d8f19445d3/base/gmp.jl#L221\" target=\"_blank\">gmp.jl:221</a><li> +(x::<b>BigInt</b>,c::<b>Uint64</b>) at <a href=\"https://github.com/JuliaLang/julia/tree/aadabde73203251c591c847c44d029d8f19445d3/base/gmp.jl#L233\" target=\"_blank\">gmp.jl:233</a><li> +(c::<b>Uint64</b>,x::<b>BigInt</b>) at <a href=\"https://github.com/JuliaLang/julia/tree/aadabde73203251c591c847c44d029d8f19445d3/base/gmp.jl#L237\" target=\"_blank\">gmp.jl:237</a><li> +(c::<b>Unsigned</b>,x::<b>BigInt</b>) at <a href=\"https://github.com/JuliaLang/julia/tree/aadabde73203251c591c847c44d029d8f19445d3/base/gmp.jl#L238\" target=\"_blank\">gmp.jl:238</a><li> +(x::<b>BigInt</b>,c::<b>Unsigned</b>) at <a href=\"https://github.com/JuliaLang/julia/tree/aadabde73203251c591c847c44d029d8f19445d3/base/gmp.jl#L239\" target=\"_blank\">gmp.jl:239</a><li> +(x::<b>BigInt</b>,c::<b>Signed</b>) at <a href=\"https://github.com/JuliaLang/julia/tree/aadabde73203251c591c847c44d029d8f19445d3/base/gmp.jl#L240\" target=\"_blank\">gmp.jl:240</a><li> +(c::<b>Signed</b>,x::<b>BigInt</b>) at <a href=\"https://github.com/JuliaLang/julia/tree/aadabde73203251c591c847c44d029d8f19445d3/base/gmp.jl#L241\" target=\"_blank\">gmp.jl:241</a><li> +(x::<b>BigFloat</b>,c::<b>Uint64</b>) at <a href=\"https://github.com/JuliaLang/julia/tree/aadabde73203251c591c847c44d029d8f19445d3/base/mpfr.jl#L138\" target=\"_blank\">mpfr.jl:138</a><li> +(c::<b>Uint64</b>,x::<b>BigFloat</b>) at <a href=\"https://github.com/JuliaLang/julia/tree/aadabde73203251c591c847c44d029d8f19445d3/base/mpfr.jl#L142\" target=\"_blank\">mpfr.jl:142</a><li> +(c::<b>Unsigned</b>,x::<b>BigFloat</b>) at <a href=\"https://github.com/JuliaLang/julia/tree/aadabde73203251c591c847c44d029d8f19445d3/base/mpfr.jl#L143\" target=\"_blank\">mpfr.jl:143</a><li> +(x::<b>BigFloat</b>,c::<b>Unsigned</b>) at <a href=\"https://github.com/JuliaLang/julia/tree/aadabde73203251c591c847c44d029d8f19445d3/base/mpfr.jl#L144\" target=\"_blank\">mpfr.jl:144</a><li> +(x::<b>BigFloat</b>,c::<b>Int64</b>) at <a href=\"https://github.com/JuliaLang/julia/tree/aadabde73203251c591c847c44d029d8f19445d3/base/mpfr.jl#L148\" target=\"_blank\">mpfr.jl:148</a><li> +(c::<b>Int64</b>,x::<b>BigFloat</b>) at <a href=\"https://github.com/JuliaLang/julia/tree/aadabde73203251c591c847c44d029d8f19445d3/base/mpfr.jl#L152\" target=\"_blank\">mpfr.jl:152</a><li> +(x::<b>BigFloat</b>,c::<b>Signed</b>) at <a href=\"https://github.com/JuliaLang/julia/tree/aadabde73203251c591c847c44d029d8f19445d3/base/mpfr.jl#L153\" target=\"_blank\">mpfr.jl:153</a><li> +(c::<b>Signed</b>,x::<b>BigFloat</b>) at <a href=\"https://github.com/JuliaLang/julia/tree/aadabde73203251c591c847c44d029d8f19445d3/base/mpfr.jl#L154\" target=\"_blank\">mpfr.jl:154</a><li> +(x::<b>BigFloat</b>,c::<b>Float64</b>) at <a href=\"https://github.com/JuliaLang/julia/tree/aadabde73203251c591c847c44d029d8f19445d3/base/mpfr.jl#L158\" target=\"_blank\">mpfr.jl:158</a><li> +(c::<b>Float64</b>,x::<b>BigFloat</b>) at <a href=\"https://github.com/JuliaLang/julia/tree/aadabde73203251c591c847c44d029d8f19445d3/base/mpfr.jl#L162\" target=\"_blank\">mpfr.jl:162</a><li> +(c::<b>Float32</b>,x::<b>BigFloat</b>) at <a href=\"https://github.com/JuliaLang/julia/tree/aadabde73203251c591c847c44d029d8f19445d3/base/mpfr.jl#L163\" target=\"_blank\">mpfr.jl:163</a><li> +(x::<b>BigFloat</b>,c::<b>Float32</b>) at <a href=\"https://github.com/JuliaLang/julia/tree/aadabde73203251c591c847c44d029d8f19445d3/base/mpfr.jl#L164\" target=\"_blank\">mpfr.jl:164</a><li> +(x::<b>BigFloat</b>,c::<b>BigInt</b>) at <a href=\"https://github.com/JuliaLang/julia/tree/aadabde73203251c591c847c44d029d8f19445d3/base/mpfr.jl#L168\" target=\"_blank\">mpfr.jl:168</a><li> +(c::<b>BigInt</b>,x::<b>BigFloat</b>) at <a href=\"https://github.com/JuliaLang/julia/tree/aadabde73203251c591c847c44d029d8f19445d3/base/mpfr.jl#L172\" target=\"_blank\">mpfr.jl:172</a><li> +(x::<b>BigFloat</b>,y::<b>BigFloat</b>) at <a href=\"https://github.com/JuliaLang/julia/tree/aadabde73203251c591c847c44d029d8f19445d3/base/mpfr.jl#L321\" target=\"_blank\">mpfr.jl:321</a><li> +(a::<b>BigFloat</b>,b::<b>BigFloat</b>,c::<b>BigFloat</b>) at <a href=\"https://github.com/JuliaLang/julia/tree/aadabde73203251c591c847c44d029d8f19445d3/base/mpfr.jl#L332\" target=\"_blank\">mpfr.jl:332</a><li> +(a::<b>BigFloat</b>,b::<b>BigFloat</b>,c::<b>BigFloat</b>,d::<b>BigFloat</b>) at <a href=\"https://github.com/JuliaLang/julia/tree/aadabde73203251c591c847c44d029d8f19445d3/base/mpfr.jl#L338\" target=\"_blank\">mpfr.jl:338</a><li> +(a::<b>BigFloat</b>,b::<b>BigFloat</b>,c::<b>BigFloat</b>,d::<b>BigFloat</b>,e::<b>BigFloat</b>) at <a href=\"https://github.com/JuliaLang/julia/tree/aadabde73203251c591c847c44d029d8f19445d3/base/mpfr.jl#L345\" target=\"_blank\">mpfr.jl:345</a><li> +(x::<b>MathConst{sym}</b>,y::<b>MathConst{sym}</b>) at <a href=\"https://github.com/JuliaLang/julia/tree/aadabde73203251c591c847c44d029d8f19445d3/base/constants.jl#L18\" target=\"_blank\">constants.jl:18</a><li> +<i>{T<:Number}</i>(x::<b>T<:Number</b>,y::<b>T<:Number</b>) at <a href=\"https://github.com/JuliaLang/julia/tree/aadabde73203251c591c847c44d029d8f19445d3/base/promotion.jl#L188\" target=\"_blank\">promotion.jl:188</a><li> +<i>{T<:FloatingPoint}</i>(x::<b>Bool</b>,y::<b>T<:FloatingPoint</b>) at <a href=\"https://github.com/JuliaLang/julia/tree/aadabde73203251c591c847c44d029d8f19445d3/base/bool.jl#L46\" target=\"_blank\">bool.jl:46</a><li> +(x::<b>Number</b>,y::<b>Number</b>) at <a href=\"https://github.com/JuliaLang/julia/tree/aadabde73203251c591c847c44d029d8f19445d3/base/promotion.jl#L158\" target=\"_blank\">promotion.jl:158</a><li> +(x::<b>Real</b>,r::<b>UnitRange{T<:Real}</b>) at <a href=\"https://github.com/JuliaLang/julia/tree/aadabde73203251c591c847c44d029d8f19445d3/base/range.jl#L433\" target=\"_blank\">range.jl:433</a><li> +(x::<b>Real</b>,r::<b>FloatRange{T<:FloatingPoint}</b>) at <a href=\"https://github.com/JuliaLang/julia/tree/aadabde73203251c591c847c44d029d8f19445d3/base/range.jl#L436\" target=\"_blank\">range.jl:436</a><li> +(x::<b>Real</b>,r::<b>Range{T}</b>) at <a href=\"https://github.com/JuliaLang/julia/tree/aadabde73203251c591c847c44d029d8f19445d3/base/range.jl#L434\" target=\"_blank\">range.jl:434</a><li> +(r::<b>Range{T}</b>,x::<b>Real</b>) at <a href=\"https://github.com/JuliaLang/julia/tree/aadabde73203251c591c847c44d029d8f19445d3/base/range.jl#L437\" target=\"_blank\">range.jl:437</a><li> +(r1::<b>OrdinalRange{T,S}</b>,r2::<b>OrdinalRange{T,S}</b>) at <a href=\"https://github.com/JuliaLang/julia/tree/aadabde73203251c591c847c44d029d8f19445d3/base/range.jl#L456\" target=\"_blank\">range.jl:456</a><li> +() at <a href=\"https://github.com/JuliaLang/julia/tree/aadabde73203251c591c847c44d029d8f19445d3/base/operators.jl#L54\" target=\"_blank\">operators.jl:54</a><li> +(x::<b>Integer</b>,y::<b>Ptr{T}</b>) at <a href=\"https://github.com/JuliaLang/julia/tree/aadabde73203251c591c847c44d029d8f19445d3/base/pointer.jl#L63\" target=\"_blank\">pointer.jl:63</a><li> +(x::<b>Bool</b>,A::<b>Array{Bool,N}</b>) at <a href=\"https://github.com/JuliaLang/julia/tree/aadabde73203251c591c847c44d029d8f19445d3/base/deprecated.jl#L26\" target=\"_blank\">deprecated.jl:26</a><li> +(x::<b>Number</b>) at <a href=\"https://github.com/JuliaLang/julia/tree/aadabde73203251c591c847c44d029d8f19445d3/base/operators.jl#L60\" target=\"_blank\">operators.jl:60</a><li> +(x::<b>Ptr{T}</b>,y::<b>Integer</b>) at <a href=\"https://github.com/JuliaLang/julia/tree/aadabde73203251c591c847c44d029d8f19445d3/base/pointer.jl#L61\" target=\"_blank\">pointer.jl:61</a><li> +<i>{S,T<:Real}</i>(A::<b>Union(SubArray{S,N,A<:DenseArray{T,N},I<:(Union(Range{Int64},Int64)...,)},DenseArray{S,N})</b>,B::<b>Range{T<:Real}</b>) at <a href=\"https://github.com/JuliaLang/julia/tree/aadabde73203251c591c847c44d029d8f19445d3/base/array.jl#L720\" target=\"_blank\">array.jl:720</a><li> +<i>{S<:Real,T}</i>(A::<b>Range{S<:Real}</b>,B::<b>Union(SubArray{T,N,A<:DenseArray{T,N},I<:(Union(Range{Int64},Int64)...,)},DenseArray{T,N})</b>) at <a href=\"https://github.com/JuliaLang/julia/tree/aadabde73203251c591c847c44d029d8f19445d3/base/array.jl#L729\" target=\"_blank\">array.jl:729</a><li> +<i>{Tv,Ti}</i>(A::<b>SparseMatrixCSC{Tv,Ti}</b>,B::<b>SparseMatrixCSC{Tv,Ti}</b>) at <a href=\"https://github.com/JuliaLang/julia/tree/aadabde73203251c591c847c44d029d8f19445d3/base/sparse/sparsematrix.jl#L451\" target=\"_blank\">sparse/sparsematrix.jl:451</a><li> +<i>{TvA,TiA,TvB,TiB}</i>(A::<b>SparseMatrixCSC{TvA,TiA}</b>,B::<b>SparseMatrixCSC{TvB,TiB}</b>) at <a href=\"https://github.com/JuliaLang/julia/tree/aadabde73203251c591c847c44d029d8f19445d3/base/sparse/sparsematrix.jl#L443\" target=\"_blank\">sparse/sparsematrix.jl:443</a><li> +(A::<b>SparseMatrixCSC{Tv,Ti<:Integer}</b>,B::<b>Union(Array{T,N},Number)</b>) at <a href=\"https://github.com/JuliaLang/julia/tree/aadabde73203251c591c847c44d029d8f19445d3/base/sparse/sparsematrix.jl#L541\" target=\"_blank\">sparse/sparsematrix.jl:541</a><li> +(A::<b>Union(Array{T,N},Number)</b>,B::<b>SparseMatrixCSC{Tv,Ti<:Integer}</b>) at <a href=\"https://github.com/JuliaLang/julia/tree/aadabde73203251c591c847c44d029d8f19445d3/base/sparse/sparsematrix.jl#L542\" target=\"_blank\">sparse/sparsematrix.jl:542</a><li> +(A::<b>SymTridiagonal{T}</b>,B::<b>SymTridiagonal{T}</b>) at <a href=\"https://github.com/JuliaLang/julia/tree/aadabde73203251c591c847c44d029d8f19445d3/base/linalg/tridiag.jl#L42\" target=\"_blank\">linalg/tridiag.jl:42</a><li> +(A::<b>Tridiagonal{T}</b>,B::<b>Tridiagonal{T}</b>) at <a href=\"https://github.com/JuliaLang/julia/tree/aadabde73203251c591c847c44d029d8f19445d3/base/linalg/tridiag.jl#L214\" target=\"_blank\">linalg/tridiag.jl:214</a><li> +(A::<b>Tridiagonal{T}</b>,B::<b>SymTridiagonal{T}</b>) at <a href=\"https://github.com/JuliaLang/julia/tree/aadabde73203251c591c847c44d029d8f19445d3/base/linalg/special.jl#L98\" target=\"_blank\">linalg/special.jl:98</a><li> +(A::<b>SymTridiagonal{T}</b>,B::<b>Tridiagonal{T}</b>) at <a href=\"https://github.com/JuliaLang/julia/tree/aadabde73203251c591c847c44d029d8f19445d3/base/linalg/special.jl#L97\" target=\"_blank\">linalg/special.jl:97</a><li> +(Da::<b>Diagonal{T}</b>,Db::<b>Diagonal{T}</b>) at <a href=\"https://github.com/JuliaLang/julia/tree/aadabde73203251c591c847c44d029d8f19445d3/base/linalg/diagonal.jl#L29\" target=\"_blank\">linalg/diagonal.jl:29</a><li> +(A::<b>Bidiagonal{T}</b>,B::<b>Bidiagonal{T}</b>) at <a href=\"https://github.com/JuliaLang/julia/tree/aadabde73203251c591c847c44d029d8f19445d3/base/linalg/bidiag.jl#L86\" target=\"_blank\">linalg/bidiag.jl:86</a><li> +<i>{T}</i>(B::<b>BitArray{2}</b>,J::<b>UniformScaling{T}</b>) at <a href=\"https://github.com/JuliaLang/julia/tree/aadabde73203251c591c847c44d029d8f19445d3/base/linalg/uniformscaling.jl#L20\" target=\"_blank\">linalg/uniformscaling.jl:20</a><li> +(A::<b>Diagonal{T}</b>,B::<b>Bidiagonal{T}</b>) at <a href=\"https://github.com/JuliaLang/julia/tree/aadabde73203251c591c847c44d029d8f19445d3/base/linalg/special.jl#L88\" target=\"_blank\">linalg/special.jl:88</a><li> +(A::<b>Bidiagonal{T}</b>,B::<b>Diagonal{T}</b>) at <a href=\"https://github.com/JuliaLang/julia/tree/aadabde73203251c591c847c44d029d8f19445d3/base/linalg/special.jl#L89\" target=\"_blank\">linalg/special.jl:89</a><li> +(A::<b>Diagonal{T}</b>,B::<b>Tridiagonal{T}</b>) at <a href=\"https://github.com/JuliaLang/julia/tree/aadabde73203251c591c847c44d029d8f19445d3/base/linalg/special.jl#L88\" target=\"_blank\">linalg/special.jl:88</a><li> +(A::<b>Tridiagonal{T}</b>,B::<b>Diagonal{T}</b>) at <a href=\"https://github.com/JuliaLang/julia/tree/aadabde73203251c591c847c44d029d8f19445d3/base/linalg/special.jl#L89\" target=\"_blank\">linalg/special.jl:89</a><li> +(A::<b>Diagonal{T}</b>,B::<b>Triangular{T<:Number}</b>) at <a href=\"https://github.com/JuliaLang/julia/tree/aadabde73203251c591c847c44d029d8f19445d3/base/linalg/special.jl#L88\" target=\"_blank\">linalg/special.jl:88</a><li> +(A::<b>Triangular{T<:Number}</b>,B::<b>Diagonal{T}</b>) at <a href=\"https://github.com/JuliaLang/julia/tree/aadabde73203251c591c847c44d029d8f19445d3/base/linalg/special.jl#L89\" target=\"_blank\">linalg/special.jl:89</a><li> +(A::<b>Diagonal{T}</b>,B::<b>Array{T,2}</b>) at <a href=\"https://github.com/JuliaLang/julia/tree/aadabde73203251c591c847c44d029d8f19445d3/base/linalg/special.jl#L88\" target=\"_blank\">linalg/special.jl:88</a><li> +(A::<b>Array{T,2}</b>,B::<b>Diagonal{T}</b>) at <a href=\"https://github.com/JuliaLang/julia/tree/aadabde73203251c591c847c44d029d8f19445d3/base/linalg/special.jl#L89\" target=\"_blank\">linalg/special.jl:89</a><li> +(A::<b>Bidiagonal{T}</b>,B::<b>Tridiagonal{T}</b>) at <a href=\"https://github.com/JuliaLang/julia/tree/aadabde73203251c591c847c44d029d8f19445d3/base/linalg/special.jl#L88\" target=\"_blank\">linalg/special.jl:88</a><li> +(A::<b>Tridiagonal{T}</b>,B::<b>Bidiagonal{T}</b>) at <a href=\"https://github.com/JuliaLang/julia/tree/aadabde73203251c591c847c44d029d8f19445d3/base/linalg/special.jl#L89\" target=\"_blank\">linalg/special.jl:89</a><li> +(A::<b>Bidiagonal{T}</b>,B::<b>Triangular{T<:Number}</b>) at <a href=\"https://github.com/JuliaLang/julia/tree/aadabde73203251c591c847c44d029d8f19445d3/base/linalg/special.jl#L88\" target=\"_blank\">linalg/special.jl:88</a><li> +(A::<b>Triangular{T<:Number}</b>,B::<b>Bidiagonal{T}</b>) at <a href=\"https://github.com/JuliaLang/julia/tree/aadabde73203251c591c847c44d029d8f19445d3/base/linalg/special.jl#L89\" target=\"_blank\">linalg/special.jl:89</a><li> +(A::<b>Bidiagonal{T}</b>,B::<b>Array{T,2}</b>) at <a href=\"https://github.com/JuliaLang/julia/tree/aadabde73203251c591c847c44d029d8f19445d3/base/linalg/special.jl#L88\" target=\"_blank\">linalg/special.jl:88</a><li> +(A::<b>Array{T,2}</b>,B::<b>Bidiagonal{T}</b>) at <a href=\"https://github.com/JuliaLang/julia/tree/aadabde73203251c591c847c44d029d8f19445d3/base/linalg/special.jl#L89\" target=\"_blank\">linalg/special.jl:89</a><li> +(A::<b>Tridiagonal{T}</b>,B::<b>Triangular{T<:Number}</b>) at <a href=\"https://github.com/JuliaLang/julia/tree/aadabde73203251c591c847c44d029d8f19445d3/base/linalg/special.jl#L88\" target=\"_blank\">linalg/special.jl:88</a><li> +(A::<b>Triangular{T<:Number}</b>,B::<b>Tridiagonal{T}</b>) at <a href=\"https://github.com/JuliaLang/julia/tree/aadabde73203251c591c847c44d029d8f19445d3/base/linalg/special.jl#L89\" target=\"_blank\">linalg/special.jl:89</a><li> +(A::<b>Tridiagonal{T}</b>,B::<b>Array{T,2}</b>) at <a href=\"https://github.com/JuliaLang/julia/tree/aadabde73203251c591c847c44d029d8f19445d3/base/linalg/special.jl#L88\" target=\"_blank\">linalg/special.jl:88</a><li> +(A::<b>Array{T,2}</b>,B::<b>Tridiagonal{T}</b>) at <a href=\"https://github.com/JuliaLang/julia/tree/aadabde73203251c591c847c44d029d8f19445d3/base/linalg/special.jl#L89\" target=\"_blank\">linalg/special.jl:89</a><li> +(A::<b>Triangular{T<:Number}</b>,B::<b>Array{T,2}</b>) at <a href=\"https://github.com/JuliaLang/julia/tree/aadabde73203251c591c847c44d029d8f19445d3/base/linalg/special.jl#L88\" target=\"_blank\">linalg/special.jl:88</a><li> +(A::<b>Array{T,2}</b>,B::<b>Triangular{T<:Number}</b>) at <a href=\"https://github.com/JuliaLang/julia/tree/aadabde73203251c591c847c44d029d8f19445d3/base/linalg/special.jl#L89\" target=\"_blank\">linalg/special.jl:89</a><li> +(A::<b>SymTridiagonal{T}</b>,B::<b>Triangular{T<:Number}</b>) at <a href=\"https://github.com/JuliaLang/julia/tree/aadabde73203251c591c847c44d029d8f19445d3/base/linalg/special.jl#L97\" target=\"_blank\">linalg/special.jl:97</a><li> +(A::<b>Triangular{T<:Number}</b>,B::<b>SymTridiagonal{T}</b>) at <a href=\"https://github.com/JuliaLang/julia/tree/aadabde73203251c591c847c44d029d8f19445d3/base/linalg/special.jl#L98\" target=\"_blank\">linalg/special.jl:98</a><li> +(A::<b>SymTridiagonal{T}</b>,B::<b>Array{T,2}</b>) at <a href=\"https://github.com/JuliaLang/julia/tree/aadabde73203251c591c847c44d029d8f19445d3/base/linalg/special.jl#L97\" target=\"_blank\">linalg/special.jl:97</a><li> +(A::<b>Array{T,2}</b>,B::<b>SymTridiagonal{T}</b>) at <a href=\"https://github.com/JuliaLang/julia/tree/aadabde73203251c591c847c44d029d8f19445d3/base/linalg/special.jl#L98\" target=\"_blank\">linalg/special.jl:98</a><li> +(A::<b>Diagonal{T}</b>,B::<b>SymTridiagonal{T}</b>) at <a href=\"https://github.com/JuliaLang/julia/tree/aadabde73203251c591c847c44d029d8f19445d3/base/linalg/special.jl#L106\" target=\"_blank\">linalg/special.jl:106</a><li> +(A::<b>SymTridiagonal{T}</b>,B::<b>Diagonal{T}</b>) at <a href=\"https://github.com/JuliaLang/julia/tree/aadabde73203251c591c847c44d029d8f19445d3/base/linalg/special.jl#L107\" target=\"_blank\">linalg/special.jl:107</a><li> +(A::<b>Bidiagonal{T}</b>,B::<b>SymTridiagonal{T}</b>) at <a href=\"https://github.com/JuliaLang/julia/tree/aadabde73203251c591c847c44d029d8f19445d3/base/linalg/special.jl#L106\" target=\"_blank\">linalg/special.jl:106</a><li> +(A::<b>SymTridiagonal{T}</b>,B::<b>Bidiagonal{T}</b>) at <a href=\"https://github.com/JuliaLang/julia/tree/aadabde73203251c591c847c44d029d8f19445d3/base/linalg/special.jl#L107\" target=\"_blank\">linalg/special.jl:107</a><li> +(A::<b>Array{Bool,N}</b>,x::<b>Bool</b>) at <a href=\"https://github.com/JuliaLang/julia/tree/aadabde73203251c591c847c44d029d8f19445d3/base/deprecated.jl#L26\" target=\"_blank\">deprecated.jl:26</a><li> +(A::<b>Array{T,N}</b>,x::<b>Number</b>) at <a href=\"https://github.com/JuliaLang/julia/tree/aadabde73203251c591c847c44d029d8f19445d3/base/deprecated.jl#L26\" target=\"_blank\">deprecated.jl:26</a><li> +<i>{T<:Number}</i>(x::<b>AbstractArray{T<:Number,N}</b>) at <a href=\"https://github.com/JuliaLang/julia/tree/aadabde73203251c591c847c44d029d8f19445d3/base/abstractarray.jl#L343\" target=\"_blank\">abstractarray.jl:343</a><li> +(J1::<b>UniformScaling{T<:Number}</b>,J2::<b>UniformScaling{T<:Number}</b>) at <a href=\"https://github.com/JuliaLang/julia/tree/aadabde73203251c591c847c44d029d8f19445d3/base/linalg/uniformscaling.jl#L19\" target=\"_blank\">linalg/uniformscaling.jl:19</a><li> +(J::<b>UniformScaling{T<:Number}</b>,B::<b>BitArray{2}</b>) at <a href=\"https://github.com/JuliaLang/julia/tree/aadabde73203251c591c847c44d029d8f19445d3/base/linalg/uniformscaling.jl#L21\" target=\"_blank\">linalg/uniformscaling.jl:21</a><li> +<i>{TA,TJ}</i>(A::<b>AbstractArray{TA,2}</b>,J::<b>UniformScaling{TJ}</b>) at <a href=\"https://github.com/JuliaLang/julia/tree/aadabde73203251c591c847c44d029d8f19445d3/base/linalg/uniformscaling.jl#L23\" target=\"_blank\">linalg/uniformscaling.jl:23</a><li> +(J::<b>UniformScaling{T<:Number}</b>,A::<b>AbstractArray{T,2}</b>) at <a href=\"https://github.com/JuliaLang/julia/tree/aadabde73203251c591c847c44d029d8f19445d3/base/linalg/uniformscaling.jl#L31\" target=\"_blank\">linalg/uniformscaling.jl:31</a><li> +(x::<b>Number</b>,A::<b>Array{T,N}</b>) at <a href=\"https://github.com/JuliaLang/julia/tree/aadabde73203251c591c847c44d029d8f19445d3/base/deprecated.jl#L26\" target=\"_blank\">deprecated.jl:26</a><li> +<i>{T}</i>(a::<b>HierarchicalValue{T}</b>,b::<b>HierarchicalValue{T}</b>) at <a href=\"https://github.com/JuliaLang/julia/tree/aadabde73203251c591c847c44d029d8f19445d3/base/pkg/resolve/versionweight.jl#L19\" target=\"_blank\">pkg/resolve/versionweight.jl:19</a><li> +(a::<b>VWPreBuildItem</b>,b::<b>VWPreBuildItem</b>) at <a href=\"https://github.com/JuliaLang/julia/tree/aadabde73203251c591c847c44d029d8f19445d3/base/pkg/resolve/versionweight.jl#L82\" target=\"_blank\">pkg/resolve/versionweight.jl:82</a><li> +(a::<b>VWPreBuild</b>,b::<b>VWPreBuild</b>) at <a href=\"https://github.com/JuliaLang/julia/tree/aadabde73203251c591c847c44d029d8f19445d3/base/pkg/resolve/versionweight.jl#L120\" target=\"_blank\">pkg/resolve/versionweight.jl:120</a><li> +(a::<b>VersionWeight</b>,b::<b>VersionWeight</b>) at <a href=\"https://github.com/JuliaLang/julia/tree/aadabde73203251c591c847c44d029d8f19445d3/base/pkg/resolve/versionweight.jl#L164\" target=\"_blank\">pkg/resolve/versionweight.jl:164</a><li> +(a::<b>FieldValue</b>,b::<b>FieldValue</b>) at <a href=\"https://github.com/JuliaLang/julia/tree/aadabde73203251c591c847c44d029d8f19445d3/base/pkg/resolve/fieldvalue.jl#L41\" target=\"_blank\">pkg/resolve/fieldvalue.jl:41</a><li> +(a::<b>Vec2</b>,b::<b>Vec2</b>) at <a href=\"https://github.com/JuliaLang/julia/tree/aadabde73203251c591c847c44d029d8f19445d3/base/graphics.jl#L60\" target=\"_blank\">graphics.jl:60</a><li> +(bb1::<b>BoundingBox</b>,bb2::<b>BoundingBox</b>) at <a href=\"https://github.com/JuliaLang/julia/tree/aadabde73203251c591c847c44d029d8f19445d3/base/graphics.jl#L123\" target=\"_blank\">graphics.jl:123</a><li> +(a,b,c) at <a href=\"https://github.com/JuliaLang/julia/tree/aadabde73203251c591c847c44d029d8f19445d3/base/operators.jl#L71\" target=\"_blank\">operators.jl:71</a><li> +(a,b,c,xs...) at <a href=\"https://github.com/JuliaLang/julia/tree/aadabde73203251c591c847c44d029d8f19445d3/base/operators.jl#L72\" target=\"_blank\">operators.jl:72</a></ul>"
      ],
      "text/plain": [
       "# 122 methods for generic function \"+\":\n",
       "+(x::Bool) at bool.jl:36\n",
       "+(x::Bool,y::Bool) at bool.jl:39\n",
       "+(y::FloatingPoint,x::Bool) at bool.jl:49\n",
       "+(A::BitArray{N},B::BitArray{N}) at bitarray.jl:912\n",
       "+(A::Union(SubArray{Bool,N,A<:DenseArray{T,N},I<:(Union(Range{Int64},Int64)...,)},DenseArray{Bool,N}),B::Union(SubArray{Bool,N,A<:DenseArray{T,N},I<:(Union(Range{Int64},Int64)...,)},DenseArray{Bool,N})) at array.jl:780\n",
       "+{S,T}(A::Union(SubArray{S,N,A<:DenseArray{T,N},I<:(Union(Range{Int64},Int64)...,)},DenseArray{S,N}),B::Union(SubArray{T,N,A<:DenseArray{T,N},I<:(Union(Range{Int64},Int64)...,)},DenseArray{T,N})) at array.jl:712\n",
       "+{T<:Union(Int8,Int16,Int32)}(x::T<:Union(Int8,Int16,Int32),y::T<:Union(Int8,Int16,Int32)) at int.jl:16\n",
       "+{T<:Union(Uint8,Uint32,Uint16)}(x::T<:Union(Uint8,Uint32,Uint16),y::T<:Union(Uint8,Uint32,Uint16)) at int.jl:20\n",
       "+(x::Int64,y::Int64) at int.jl:33\n",
       "+(x::Uint64,y::Uint64) at int.jl:34\n",
       "+(x::Int128,y::Int128) at int.jl:35\n",
       "+(x::Uint128,y::Uint128) at int.jl:36\n",
       "+(x::Float32,y::Float32) at float.jl:124\n",
       "+(x::Float64,y::Float64) at float.jl:125\n",
       "+(z::Complex{T<:Real},w::Complex{T<:Real}) at complex.jl:112\n",
       "+(x::Real,z::Complex{T<:Real}) at complex.jl:122\n",
       "+(z::Complex{T<:Real},x::Real) at complex.jl:123\n",
       "+(x::Rational{T<:Integer},y::Rational{T<:Integer}) at rational.jl:124\n",
       "+(x::Char,y::Char) at char.jl:22\n",
       "+(x::Char,y::Integer) at char.jl:25\n",
       "+(x::Integer,y::Char) at char.jl:26\n",
       "+(a::Float16,b::Float16) at float16.jl:125\n",
       "+(x::BigInt,y::BigInt) at gmp.jl:185\n",
       "+(a::BigInt,b::BigInt,c::BigInt) at gmp.jl:208\n",
       "+(a::BigInt,b::BigInt,c::BigInt,d::BigInt) at gmp.jl:214\n",
       "+(a::BigInt,b::BigInt,c::BigInt,d::BigInt,e::BigInt) at gmp.jl:221\n",
       "+(x::BigInt,c::Uint64) at gmp.jl:233\n",
       "+(c::Uint64,x::BigInt) at gmp.jl:237\n",
       "+(c::Unsigned,x::BigInt) at gmp.jl:238\n",
       "+(x::BigInt,c::Unsigned) at gmp.jl:239\n",
       "+(x::BigInt,c::Signed) at gmp.jl:240\n",
       "+(c::Signed,x::BigInt) at gmp.jl:241\n",
       "+(x::BigFloat,c::Uint64) at mpfr.jl:138\n",
       "+(c::Uint64,x::BigFloat) at mpfr.jl:142\n",
       "+(c::Unsigned,x::BigFloat) at mpfr.jl:143\n",
       "+(x::BigFloat,c::Unsigned) at mpfr.jl:144\n",
       "+(x::BigFloat,c::Int64) at mpfr.jl:148\n",
       "+(c::Int64,x::BigFloat) at mpfr.jl:152\n",
       "+(x::BigFloat,c::Signed) at mpfr.jl:153\n",
       "+(c::Signed,x::BigFloat) at mpfr.jl:154\n",
       "+(x::BigFloat,c::Float64) at mpfr.jl:158\n",
       "+(c::Float64,x::BigFloat) at mpfr.jl:162\n",
       "+(c::Float32,x::BigFloat) at mpfr.jl:163\n",
       "+(x::BigFloat,c::Float32) at mpfr.jl:164\n",
       "+(x::BigFloat,c::BigInt) at mpfr.jl:168\n",
       "+(c::BigInt,x::BigFloat) at mpfr.jl:172\n",
       "+(x::BigFloat,y::BigFloat) at mpfr.jl:321\n",
       "+(a::BigFloat,b::BigFloat,c::BigFloat) at mpfr.jl:332\n",
       "+(a::BigFloat,b::BigFloat,c::BigFloat,d::BigFloat) at mpfr.jl:338\n",
       "+(a::BigFloat,b::BigFloat,c::BigFloat,d::BigFloat,e::BigFloat) at mpfr.jl:345\n",
       "+(x::MathConst{sym},y::MathConst{sym}) at constants.jl:18\n",
       "+{T<:Number}(x::T<:Number,y::T<:Number) at promotion.jl:188\n",
       "+{T<:FloatingPoint}(x::Bool,y::T<:FloatingPoint) at bool.jl:46\n",
       "+(x::Number,y::Number) at promotion.jl:158\n",
       "+(x::Real,r::UnitRange{T<:Real}) at range.jl:433\n",
       "+(x::Real,r::FloatRange{T<:FloatingPoint}) at range.jl:436\n",
       "+(x::Real,r::Range{T}) at range.jl:434\n",
       "+(r::Range{T},x::Real) at range.jl:437\n",
       "+(r1::OrdinalRange{T,S},r2::OrdinalRange{T,S}) at range.jl:456\n",
       "+() at operators.jl:54\n",
       "+(x::Integer,y::Ptr{T}) at pointer.jl:63\n",
       "+(x::Bool,A::Array{Bool,N}) at deprecated.jl:26\n",
       "+(x::Number) at operators.jl:60\n",
       "+(x::Ptr{T},y::Integer) at pointer.jl:61\n",
       "+{S,T<:Real}(A::Union(SubArray{S,N,A<:DenseArray{T,N},I<:(Union(Range{Int64},Int64)...,)},DenseArray{S,N}),B::Range{T<:Real}) at array.jl:720\n",
       "+{S<:Real,T}(A::Range{S<:Real},B::Union(SubArray{T,N,A<:DenseArray{T,N},I<:(Union(Range{Int64},Int64)...,)},DenseArray{T,N})) at array.jl:729\n",
       "+{Tv,Ti}(A::SparseMatrixCSC{Tv,Ti},B::SparseMatrixCSC{Tv,Ti}) at sparse/sparsematrix.jl:451\n",
       "+{TvA,TiA,TvB,TiB}(A::SparseMatrixCSC{TvA,TiA},B::SparseMatrixCSC{TvB,TiB}) at sparse/sparsematrix.jl:443\n",
       "+(A::SparseMatrixCSC{Tv,Ti<:Integer},B::Union(Array{T,N},Number)) at sparse/sparsematrix.jl:541\n",
       "+(A::Union(Array{T,N},Number),B::SparseMatrixCSC{Tv,Ti<:Integer}) at sparse/sparsematrix.jl:542\n",
       "+(A::SymTridiagonal{T},B::SymTridiagonal{T}) at linalg/tridiag.jl:42\n",
       "+(A::Tridiagonal{T},B::Tridiagonal{T}) at linalg/tridiag.jl:214\n",
       "+(A::Tridiagonal{T},B::SymTridiagonal{T}) at linalg/special.jl:98\n",
       "+(A::SymTridiagonal{T},B::Tridiagonal{T}) at linalg/special.jl:97\n",
       "+(Da::Diagonal{T},Db::Diagonal{T}) at linalg/diagonal.jl:29\n",
       "+(A::Bidiagonal{T},B::Bidiagonal{T}) at linalg/bidiag.jl:86\n",
       "+{T}(B::BitArray{2},J::UniformScaling{T}) at linalg/uniformscaling.jl:20\n",
       "+(A::Diagonal{T},B::Bidiagonal{T}) at linalg/special.jl:88\n",
       "+(A::Bidiagonal{T},B::Diagonal{T}) at linalg/special.jl:89\n",
       "+(A::Diagonal{T},B::Tridiagonal{T}) at linalg/special.jl:88\n",
       "+(A::Tridiagonal{T},B::Diagonal{T}) at linalg/special.jl:89\n",
       "+(A::Diagonal{T},B::Triangular{T<:Number}) at linalg/special.jl:88\n",
       "+(A::Triangular{T<:Number},B::Diagonal{T}) at linalg/special.jl:89\n",
       "+(A::Diagonal{T},B::Array{T,2}) at linalg/special.jl:88\n",
       "+(A::Array{T,2},B::Diagonal{T}) at linalg/special.jl:89\n",
       "+(A::Bidiagonal{T},B::Tridiagonal{T}) at linalg/special.jl:88\n",
       "+(A::Tridiagonal{T},B::Bidiagonal{T}) at linalg/special.jl:89\n",
       "+(A::Bidiagonal{T},B::Triangular{T<:Number}) at linalg/special.jl:88\n",
       "+(A::Triangular{T<:Number},B::Bidiagonal{T}) at linalg/special.jl:89\n",
       "+(A::Bidiagonal{T},B::Array{T,2}) at linalg/special.jl:88\n",
       "+(A::Array{T,2},B::Bidiagonal{T}) at linalg/special.jl:89\n",
       "+(A::Tridiagonal{T},B::Triangular{T<:Number}) at linalg/special.jl:88\n",
       "+(A::Triangular{T<:Number},B::Tridiagonal{T}) at linalg/special.jl:89\n",
       "+(A::Tridiagonal{T},B::Array{T,2}) at linalg/special.jl:88\n",
       "+(A::Array{T,2},B::Tridiagonal{T}) at linalg/special.jl:89\n",
       "+(A::Triangular{T<:Number},B::Array{T,2}) at linalg/special.jl:88\n",
       "+(A::Array{T,2},B::Triangular{T<:Number}) at linalg/special.jl:89\n",
       "+(A::SymTridiagonal{T},B::Triangular{T<:Number}) at linalg/special.jl:97\n",
       "+(A::Triangular{T<:Number},B::SymTridiagonal{T}) at linalg/special.jl:98\n",
       "+(A::SymTridiagonal{T},B::Array{T,2}) at linalg/special.jl:97\n",
       "+(A::Array{T,2},B::SymTridiagonal{T}) at linalg/special.jl:98\n",
       "+(A::Diagonal{T},B::SymTridiagonal{T}) at linalg/special.jl:106\n",
       "+(A::SymTridiagonal{T},B::Diagonal{T}) at linalg/special.jl:107\n",
       "+(A::Bidiagonal{T},B::SymTridiagonal{T}) at linalg/special.jl:106\n",
       "+(A::SymTridiagonal{T},B::Bidiagonal{T}) at linalg/special.jl:107\n",
       "+(A::Array{Bool,N},x::Bool) at deprecated.jl:26\n",
       "+(A::Array{T,N},x::Number) at deprecated.jl:26\n",
       "+{T<:Number}(x::AbstractArray{T<:Number,N}) at abstractarray.jl:343\n",
       "+(J1::UniformScaling{T<:Number},J2::UniformScaling{T<:Number}) at linalg/uniformscaling.jl:19\n",
       "+(J::UniformScaling{T<:Number},B::BitArray{2}) at linalg/uniformscaling.jl:21\n",
       "+{TA,TJ}(A::AbstractArray{TA,2},J::UniformScaling{TJ}) at linalg/uniformscaling.jl:23\n",
       "+(J::UniformScaling{T<:Number},A::AbstractArray{T,2}) at linalg/uniformscaling.jl:31\n",
       "+(x::Number,A::Array{T,N}) at deprecated.jl:26\n",
       "+{T}(a::HierarchicalValue{T},b::HierarchicalValue{T}) at pkg/resolve/versionweight.jl:19\n",
       "+(a::VWPreBuildItem,b::VWPreBuildItem) at pkg/resolve/versionweight.jl:82\n",
       "+(a::VWPreBuild,b::VWPreBuild) at pkg/resolve/versionweight.jl:120\n",
       "+(a::VersionWeight,b::VersionWeight) at pkg/resolve/versionweight.jl:164\n",
       "+(a::FieldValue,b::FieldValue) at pkg/resolve/fieldvalue.jl:41\n",
       "+(a::Vec2,b::Vec2) at graphics.jl:60\n",
       "+(bb1::BoundingBox,bb2::BoundingBox) at graphics.jl:123\n",
       "+(a,b,c) at operators.jl:71\n",
       "+(a,b,c,xs...) at operators.jl:72"
      ]
     },
     "execution_count": 107,
     "metadata": {},
     "output_type": "execute_result"
    }
   ],
   "source": [
    "methods(+)"
   ]
  },
  {
   "cell_type": "markdown",
   "metadata": {},
   "source": [
    "If we were unaware of the `*` operator for string concatenation, we could just *define our own* `+` for the concatenation of two strings:"
   ]
  },
  {
   "cell_type": "code",
   "execution_count": 1,
   "metadata": {
    "collapsed": false
   },
   "outputs": [
    {
     "data": {
      "text/plain": [
       "+ (generic function with 124 methods)"
      ]
     },
     "execution_count": 1,
     "metadata": {},
     "output_type": "execute_result"
    }
   ],
   "source": [
    "+(s1::String, s2::String) = string(s1, s2)"
   ]
  },
  {
   "cell_type": "code",
   "execution_count": 5,
   "metadata": {
    "collapsed": false
   },
   "outputs": [
    {
     "data": {
      "text/plain": [
       "\"First second\""
      ]
     },
     "execution_count": 5,
     "metadata": {},
     "output_type": "execute_result"
    }
   ],
   "source": [
    "\"First\" + \" second\""
   ]
  },
  {
   "cell_type": "markdown",
   "metadata": {},
   "source": [
    "However, we cannot add a number to a string, since we have not (yet) defined it:"
   ]
  },
  {
   "cell_type": "code",
   "execution_count": 2,
   "metadata": {
    "collapsed": false
   },
   "outputs": [
    {
     "ename": "LoadError",
     "evalue": "no method +(ASCIIString, Int64)\nwhile loading In[2], in expression starting on line 1",
     "output_type": "error",
     "traceback": [
      "no method +(ASCIIString, Int64)\nwhile loading In[2], in expression starting on line 1"
     ]
    }
   ],
   "source": [
    "\"The value of x is \" + 3"
   ]
  },
  {
   "cell_type": "markdown",
   "metadata": {},
   "source": [
    "This we can also define, using the previous new definition:"
   ]
  },
  {
   "cell_type": "code",
   "execution_count": 11,
   "metadata": {
    "collapsed": false
   },
   "outputs": [
    {
     "data": {
      "text/plain": [
       "+ (generic function with 126 methods)"
      ]
     },
     "execution_count": 11,
     "metadata": {},
     "output_type": "execute_result"
    }
   ],
   "source": [
    "+(s::String, x::Number) = s + \"$(2x)\""
   ]
  },
  {
   "cell_type": "code",
   "execution_count": 12,
   "metadata": {
    "collapsed": false
   },
   "outputs": [
    {
     "data": {
      "text/plain": [
       "\"The value of x is 6\""
      ]
     },
     "execution_count": 12,
     "metadata": {},
     "output_type": "execute_result"
    }
   ],
   "source": [
    "\"The value of x is \" + 3"
   ]
  },
  {
   "cell_type": "code",
   "execution_count": 5,
   "metadata": {
    "collapsed": false
   },
   "outputs": [
    {
     "data": {
      "text/plain": [
       "\"The value of x is 3.5\""
      ]
     },
     "execution_count": 5,
     "metadata": {},
     "output_type": "execute_result"
    }
   ],
   "source": [
    "x = 3.5\n",
    "\"The value of x is \" + x"
   ]
  },
  {
   "cell_type": "code",
   "execution_count": 8,
   "metadata": {
    "collapsed": false
   },
   "outputs": [
    {
     "ename": "LoadError",
     "evalue": "no method +(Int64, ASCIIString)\nwhile loading In[8], in expression starting on line 1",
     "output_type": "error",
     "traceback": [
      "no method +(Int64, ASCIIString)\nwhile loading In[8], in expression starting on line 1"
     ]
    }
   ],
   "source": [
    "3 + \"hello\""
   ]
  },
  {
   "cell_type": "markdown",
   "metadata": {},
   "source": [
    "In fact, we can define the summation of a string with *any* other object:"
   ]
  },
  {
   "cell_type": "code",
   "execution_count": 13,
   "metadata": {
    "collapsed": false
   },
   "outputs": [
    {
     "data": {
      "text/plain": [
       "+ (generic function with 126 methods)"
      ]
     },
     "execution_count": 13,
     "metadata": {},
     "output_type": "execute_result"
    }
   ],
   "source": [
    "+(s::String, x) = s + string(x)"
   ]
  },
  {
   "cell_type": "code",
   "execution_count": 14,
   "metadata": {
    "collapsed": false
   },
   "outputs": [
    {
     "data": {
      "text/plain": [
       "\"Complex [3,4,5]\""
      ]
     },
     "execution_count": 14,
     "metadata": {},
     "output_type": "execute_result"
    }
   ],
   "source": [
    "\"Complex \" + [3,4,5]"
   ]
  },
  {
   "cell_type": "code",
   "execution_count": 15,
   "metadata": {
    "collapsed": false
   },
   "outputs": [
    {
     "data": {
      "text/plain": [
       "\"a6\""
      ]
     },
     "execution_count": 15,
     "metadata": {},
     "output_type": "execute_result"
    }
   ],
   "source": [
    "\"a\" + 3"
   ]
  },
  {
   "cell_type": "code",
   "execution_count": 16,
   "metadata": {
    "collapsed": false
   },
   "outputs": [
    {
     "data": {
      "text/plain": [
       "Number"
      ]
     },
     "execution_count": 16,
     "metadata": {},
     "output_type": "execute_result"
    }
   ],
   "source": [
    "Number"
   ]
  },
  {
   "cell_type": "code",
   "execution_count": 17,
   "metadata": {
    "collapsed": false
   },
   "outputs": [
    {
     "data": {
      "text/plain": [
       "DataType"
      ]
     },
     "execution_count": 17,
     "metadata": {},
     "output_type": "execute_result"
    }
   ],
   "source": [
    "typeof(Number)"
   ]
  },
  {
   "cell_type": "code",
   "execution_count": 18,
   "metadata": {
    "collapsed": false
   },
   "outputs": [
    {
     "data": {
      "text/plain": [
       "Signed"
      ]
     },
     "execution_count": 18,
     "metadata": {},
     "output_type": "execute_result"
    }
   ],
   "source": [
    "super(Int64)"
   ]
  },
  {
   "cell_type": "code",
   "execution_count": 19,
   "metadata": {
    "collapsed": false
   },
   "outputs": [
    {
     "data": {
      "text/plain": [
       "Integer"
      ]
     },
     "execution_count": 19,
     "metadata": {},
     "output_type": "execute_result"
    }
   ],
   "source": [
    "super(Signed)"
   ]
  },
  {
   "cell_type": "code",
   "execution_count": 20,
   "metadata": {
    "collapsed": false
   },
   "outputs": [
    {
     "data": {
      "text/plain": [
       "Real"
      ]
     },
     "execution_count": 20,
     "metadata": {},
     "output_type": "execute_result"
    }
   ],
   "source": [
    "super(Integer)"
   ]
  },
  {
   "cell_type": "code",
   "execution_count": 21,
   "metadata": {
    "collapsed": false
   },
   "outputs": [
    {
     "data": {
      "text/plain": [
       "Number"
      ]
     },
     "execution_count": 21,
     "metadata": {},
     "output_type": "execute_result"
    }
   ],
   "source": [
    "super(Real)"
   ]
  },
  {
   "cell_type": "code",
   "execution_count": 22,
   "metadata": {
    "collapsed": false
   },
   "outputs": [
    {
     "data": {
      "text/plain": [
       "Any"
      ]
     },
     "execution_count": 22,
     "metadata": {},
     "output_type": "execute_result"
    }
   ],
   "source": [
    "super(Number)"
   ]
  },
  {
   "cell_type": "markdown",
   "metadata": {},
   "source": [
    "In this way, the concept of \"function\" is replaced by a \"patchwork\" of different definitions for objects of different types, easily modifiable by the user.\n",
    "This is also exactly the way to define \"operator overloading\" for user-defined types."
   ]
  },
  {
   "cell_type": "markdown",
   "metadata": {},
   "source": [
    "In the above, we also begin to see the power of *multiple dispatch*: we defined two methods (versions) of the function `+`, both with the same *number* but different *types* of arguments."
   ]
  },
  {
   "cell_type": "markdown",
   "metadata": {},
   "source": [
    "## User-defined types"
   ]
  },
  {
   "cell_type": "markdown",
   "metadata": {},
   "source": [
    "A user-defined \"composite type\" is a collection of data.\n",
    "Unlike in Python, types do not \"own\" methods (functions internal to the type).\n",
    "\n",
    "Rather, methods are defined separately, and are characterised by the types of *all* of their arguments; this is known as *multiple dispatch*. (*Dispatch* is the process of choosing which \"version\" of a given function to execute.)"
   ]
  },
  {
   "cell_type": "markdown",
   "metadata": {},
   "source": [
    "A simple, but useful, example, is that of defining a 2D vector type. (See also the `ImmutableArrays.jl` package; fixed-size arrays will later be incorporated into base Julia.)"
   ]
  },
  {
   "cell_type": "code",
   "execution_count": 26,
   "metadata": {
    "collapsed": false
   },
   "outputs": [
    {
     "data": {
      "text/html": [
       "//(n::<b>Integer</b>,d::<b>Integer</b>) at <a href=\"https://github.com/JuliaLang/julia/tree/7e7462150f72721caf0e6bd6e7e7e500d1efb187/base/rational.jl#L17\" target=\"_blank\">rational.jl:17</a>"
      ],
      "text/plain": [
       "//(n::Integer,d::Integer) at rational.jl:17"
      ]
     },
     "execution_count": 26,
     "metadata": {},
     "output_type": "execute_result"
    }
   ],
   "source": [
    "@which 3//4"
   ]
  },
  {
   "cell_type": "code",
   "execution_count": 28,
   "metadata": {
    "collapsed": false
   },
   "outputs": [
    {
     "data": {
      "text/plain": [
       "3//1"
      ]
     },
     "execution_count": 28,
     "metadata": {},
     "output_type": "execute_result"
    }
   ],
   "source": [
    "Rational(3)"
   ]
  },
  {
   "cell_type": "code",
   "execution_count": 27,
   "metadata": {
    "collapsed": false
   },
   "outputs": [
    {
     "data": {
      "text/plain": [
       "3//2"
      ]
     },
     "execution_count": 27,
     "metadata": {},
     "output_type": "execute_result"
    }
   ],
   "source": [
    "6//4"
   ]
  },
  {
   "cell_type": "code",
   "execution_count": 25,
   "metadata": {
    "collapsed": false
   },
   "outputs": [
    {
     "data": {
      "text/plain": [
       "-1 + 0im"
      ]
     },
     "execution_count": 25,
     "metadata": {},
     "output_type": "execute_result"
    }
   ],
   "source": [
    "im*im"
   ]
  },
  {
   "cell_type": "code",
   "execution_count": 40,
   "metadata": {
    "collapsed": false
   },
   "outputs": [],
   "source": [
    "immutable Vector2D   # type\n",
    "    x::Float64\n",
    "    y::Float64\n",
    "end "
   ]
  },
  {
   "cell_type": "code",
   "execution_count": 32,
   "metadata": {
    "collapsed": false
   },
   "outputs": [
    {
     "data": {
      "text/plain": [
       "Vector2D(5.0,6.0)"
      ]
     },
     "execution_count": 32,
     "metadata": {},
     "output_type": "execute_result"
    }
   ],
   "source": [
    "v = Vector2D(3, 4)\n",
    "w = Vector2D(5, 6)"
   ]
  },
  {
   "cell_type": "code",
   "execution_count": 33,
   "metadata": {
    "collapsed": false
   },
   "outputs": [
    {
     "ename": "LoadError",
     "evalue": "no method +(Vector2D, Vector2D)\nwhile loading In[33], in expression starting on line 1",
     "output_type": "error",
     "traceback": [
      "no method +(Vector2D, Vector2D)\nwhile loading In[33], in expression starting on line 1"
     ]
    }
   ],
   "source": [
    "v + w"
   ]
  },
  {
   "cell_type": "code",
   "execution_count": 34,
   "metadata": {
    "collapsed": false
   },
   "outputs": [
    {
     "data": {
      "text/plain": [
       "+ (generic function with 127 methods)"
      ]
     },
     "execution_count": 34,
     "metadata": {},
     "output_type": "execute_result"
    }
   ],
   "source": [
    "+(v::Vector2D, w::Vector2D) = Vector2D(v.x+w.x, v.y+w.y)"
   ]
  },
  {
   "cell_type": "code",
   "execution_count": 35,
   "metadata": {
    "collapsed": false
   },
   "outputs": [
    {
     "data": {
      "text/plain": [
       "Vector2D(8.0,10.0)"
      ]
     },
     "execution_count": 35,
     "metadata": {},
     "output_type": "execute_result"
    }
   ],
   "source": [
    "v + w"
   ]
  },
  {
   "cell_type": "code",
   "execution_count": 36,
   "metadata": {
    "collapsed": false
   },
   "outputs": [
    {
     "data": {
      "text/plain": [
       "* (generic function with 127 methods)"
      ]
     },
     "execution_count": 36,
     "metadata": {},
     "output_type": "execute_result"
    }
   ],
   "source": [
    "*(v::Vector2D, α::Number) = Vector2D(v.x*α, v.y*α)\n",
    "*(α::Number, v::Vector2D) = Vector2D(v.x*α, v.y*α)"
   ]
  },
  {
   "cell_type": "code",
   "execution_count": 37,
   "metadata": {
    "collapsed": false
   },
   "outputs": [
    {
     "data": {
      "text/plain": [
       "Vector2D(10.5,14.0)"
      ]
     },
     "execution_count": 37,
     "metadata": {},
     "output_type": "execute_result"
    }
   ],
   "source": [
    "v * 3.5"
   ]
  },
  {
   "cell_type": "code",
   "execution_count": 38,
   "metadata": {
    "collapsed": false
   },
   "outputs": [
    {
     "ename": "LoadError",
     "evalue": "no method *(Float64, Vector2D)\nwhile loading In[38], in expression starting on line 1",
     "output_type": "error",
     "traceback": [
      "no method *(Float64, Vector2D)\nwhile loading In[38], in expression starting on line 1"
     ]
    }
   ],
   "source": [
    "3.5 * v"
   ]
  },
  {
   "cell_type": "markdown",
   "metadata": {},
   "source": [
    "**Exercise**: \n",
    "Define mathematical operations on `Vector2D`. Define a particle with position and velocity in 2D. Define function `move` that acts on a particle to move it over a time $\\delta t$."
   ]
  },
  {
   "cell_type": "markdown",
   "metadata": {},
   "source": [
    "Here, we have used `immutable` instead of `type` for efficiency: the object is stored in an efficient packed form."
   ]
  },
  {
   "cell_type": "markdown",
   "metadata": {},
   "source": [
    "The equivalent of the Python `__repr__` method for an object is to extend the `show` method:"
   ]
  },
  {
   "cell_type": "code",
   "execution_count": 41,
   "metadata": {
    "collapsed": false
   },
   "outputs": [
    {
     "data": {
      "text/plain": [
       "show (generic function with 89 methods)"
      ]
     },
     "execution_count": 41,
     "metadata": {},
     "output_type": "execute_result"
    }
   ],
   "source": [
    "show"
   ]
  },
  {
   "cell_type": "code",
   "execution_count": 5,
   "metadata": {
    "collapsed": false
   },
   "outputs": [
    {
     "data": {
      "text/plain": [
       "show (generic function with 90 methods)"
      ]
     },
     "execution_count": 5,
     "metadata": {},
     "output_type": "execute_result"
    }
   ],
   "source": [
    "import Base.show\n",
    "\n",
    "show(io::IO, v::Vector2D) = print(io, \"[$(v.x), $(v.y)]\")"
   ]
  },
  {
   "cell_type": "code",
   "execution_count": 44,
   "metadata": {
    "collapsed": false
   },
   "outputs": [
    {
     "data": {
      "text/plain": [
       "[3.0, 4.0]"
      ]
     },
     "execution_count": 44,
     "metadata": {},
     "output_type": "execute_result"
    }
   ],
   "source": [
    "v"
   ]
  },
  {
   "cell_type": "code",
   "execution_count": 4,
   "metadata": {
    "collapsed": false
   },
   "outputs": [
    {
     "data": {
      "text/plain": [
       "* (generic function with 125 methods)"
      ]
     },
     "execution_count": 4,
     "metadata": {},
     "output_type": "execute_result"
    }
   ],
   "source": [
    "+(v1::Vector2D, v2::Vector2D) = Vector2D(v1.x+v2.x, v1.y+v2.y)\n",
    "\n",
    "*(v::Vector2D, lamb::Number)  = Vector2D(lamb*v.x, lamb*v.y)"
   ]
  },
  {
   "cell_type": "markdown",
   "metadata": {},
   "source": [
    "We can confirm that the new method for the function `+` has indeed been defined:"
   ]
  },
  {
   "cell_type": "code",
   "execution_count": 5,
   "metadata": {
    "collapsed": false
   },
   "outputs": [
    {
     "data": {
      "text/html": [
       "128 methods for generic function <b>+</b>:<ul><li> +(x::<b>Bool</b>) at <a href=\"https://github.com/JuliaLang/julia/tree/182f791fab02ddbbeccc26876b7e86af165482a6/base/bool.jl#L36\" target=\"_blank\">bool.jl:36</a><li> +(x::<b>Bool</b>,y::<b>Bool</b>) at <a href=\"https://github.com/JuliaLang/julia/tree/182f791fab02ddbbeccc26876b7e86af165482a6/base/bool.jl#L39\" target=\"_blank\">bool.jl:39</a><li> +(y::<b>FloatingPoint</b>,x::<b>Bool</b>) at <a href=\"https://github.com/JuliaLang/julia/tree/182f791fab02ddbbeccc26876b7e86af165482a6/base/bool.jl#L49\" target=\"_blank\">bool.jl:49</a><li> +(A::<b>BitArray{N}</b>,B::<b>BitArray{N}</b>) at <a href=\"https://github.com/JuliaLang/julia/tree/182f791fab02ddbbeccc26876b7e86af165482a6/base/bitarray.jl#L852\" target=\"_blank\">bitarray.jl:852</a><li> +(A::<b>Union(SubArray{Bool,N,A<:DenseArray{T,N},I<:(Union(Int64,Range{Int64})...,)},DenseArray{Bool,N})</b>,B::<b>Union(SubArray{Bool,N,A<:DenseArray{T,N},I<:(Union(Int64,Range{Int64})...,)},DenseArray{Bool,N})</b>) at <a href=\"https://github.com/JuliaLang/julia/tree/182f791fab02ddbbeccc26876b7e86af165482a6/base/array.jl#L792\" target=\"_blank\">array.jl:792</a><li> +<i>{S,T}</i>(A::<b>Union(DenseArray{S,N},SubArray{S,N,A<:DenseArray{T,N},I<:(Union(Int64,Range{Int64})...,)})</b>,B::<b>Union(SubArray{T,N,A<:DenseArray{T,N},I<:(Union(Int64,Range{Int64})...,)},DenseArray{T,N})</b>) at <a href=\"https://github.com/JuliaLang/julia/tree/182f791fab02ddbbeccc26876b7e86af165482a6/base/array.jl#L724\" target=\"_blank\">array.jl:724</a><li> +<i>{T<:Union(Int16,Int8,Int32)}</i>(x::<b>T<:Union(Int16,Int8,Int32)</b>,y::<b>T<:Union(Int16,Int8,Int32)</b>) at <a href=\"https://github.com/JuliaLang/julia/tree/182f791fab02ddbbeccc26876b7e86af165482a6/base/int.jl#L16\" target=\"_blank\">int.jl:16</a><li> +<i>{T<:Union(Uint8,Uint32,Uint16)}</i>(x::<b>T<:Union(Uint8,Uint32,Uint16)</b>,y::<b>T<:Union(Uint8,Uint32,Uint16)</b>) at <a href=\"https://github.com/JuliaLang/julia/tree/182f791fab02ddbbeccc26876b7e86af165482a6/base/int.jl#L20\" target=\"_blank\">int.jl:20</a><li> +(x::<b>Int64</b>,y::<b>Int64</b>) at <a href=\"https://github.com/JuliaLang/julia/tree/182f791fab02ddbbeccc26876b7e86af165482a6/base/int.jl#L33\" target=\"_blank\">int.jl:33</a><li> +(x::<b>Uint64</b>,y::<b>Uint64</b>) at <a href=\"https://github.com/JuliaLang/julia/tree/182f791fab02ddbbeccc26876b7e86af165482a6/base/int.jl#L34\" target=\"_blank\">int.jl:34</a><li> +(x::<b>Int128</b>,y::<b>Int128</b>) at <a href=\"https://github.com/JuliaLang/julia/tree/182f791fab02ddbbeccc26876b7e86af165482a6/base/int.jl#L35\" target=\"_blank\">int.jl:35</a><li> +(x::<b>Uint128</b>,y::<b>Uint128</b>) at <a href=\"https://github.com/JuliaLang/julia/tree/182f791fab02ddbbeccc26876b7e86af165482a6/base/int.jl#L36\" target=\"_blank\">int.jl:36</a><li> +(x::<b>Float32</b>,y::<b>Float32</b>) at <a href=\"https://github.com/JuliaLang/julia/tree/182f791fab02ddbbeccc26876b7e86af165482a6/base/float.jl#L124\" target=\"_blank\">float.jl:124</a><li> +(x::<b>Float64</b>,y::<b>Float64</b>) at <a href=\"https://github.com/JuliaLang/julia/tree/182f791fab02ddbbeccc26876b7e86af165482a6/base/float.jl#L125\" target=\"_blank\">float.jl:125</a><li> +(z::<b>Complex{T<:Real}</b>,w::<b>Complex{T<:Real}</b>) at <a href=\"https://github.com/JuliaLang/julia/tree/182f791fab02ddbbeccc26876b7e86af165482a6/base/complex.jl#L110\" target=\"_blank\">complex.jl:110</a><li> +(x::<b>Real</b>,z::<b>Complex{T<:Real}</b>) at <a href=\"https://github.com/JuliaLang/julia/tree/182f791fab02ddbbeccc26876b7e86af165482a6/base/complex.jl#L120\" target=\"_blank\">complex.jl:120</a><li> +(z::<b>Complex{T<:Real}</b>,x::<b>Real</b>) at <a href=\"https://github.com/JuliaLang/julia/tree/182f791fab02ddbbeccc26876b7e86af165482a6/base/complex.jl#L121\" target=\"_blank\">complex.jl:121</a><li> +(x::<b>Rational{T<:Integer}</b>,y::<b>Rational{T<:Integer}</b>) at <a href=\"https://github.com/JuliaLang/julia/tree/182f791fab02ddbbeccc26876b7e86af165482a6/base/rational.jl#L117\" target=\"_blank\">rational.jl:117</a><li> +(x::<b>Char</b>,y::<b>Char</b>) at <a href=\"https://github.com/JuliaLang/julia/tree/182f791fab02ddbbeccc26876b7e86af165482a6/base/char.jl#L23\" target=\"_blank\">char.jl:23</a><li> +(x::<b>Char</b>,y::<b>Integer</b>) at <a href=\"https://github.com/JuliaLang/julia/tree/182f791fab02ddbbeccc26876b7e86af165482a6/base/char.jl#L26\" target=\"_blank\">char.jl:26</a><li> +(x::<b>Integer</b>,y::<b>Char</b>) at <a href=\"https://github.com/JuliaLang/julia/tree/182f791fab02ddbbeccc26876b7e86af165482a6/base/char.jl#L27\" target=\"_blank\">char.jl:27</a><li> +(a::<b>Float16</b>,b::<b>Float16</b>) at <a href=\"https://github.com/JuliaLang/julia/tree/182f791fab02ddbbeccc26876b7e86af165482a6/base/float16.jl#L125\" target=\"_blank\">float16.jl:125</a><li> +(x::<b>BigInt</b>,y::<b>BigInt</b>) at <a href=\"https://github.com/JuliaLang/julia/tree/182f791fab02ddbbeccc26876b7e86af165482a6/base/gmp.jl#L193\" target=\"_blank\">gmp.jl:193</a><li> +(a::<b>BigInt</b>,b::<b>BigInt</b>,c::<b>BigInt</b>) at <a href=\"https://github.com/JuliaLang/julia/tree/182f791fab02ddbbeccc26876b7e86af165482a6/base/gmp.jl#L216\" target=\"_blank\">gmp.jl:216</a><li> +(a::<b>BigInt</b>,b::<b>BigInt</b>,c::<b>BigInt</b>,d::<b>BigInt</b>) at <a href=\"https://github.com/JuliaLang/julia/tree/182f791fab02ddbbeccc26876b7e86af165482a6/base/gmp.jl#L222\" target=\"_blank\">gmp.jl:222</a><li> +(a::<b>BigInt</b>,b::<b>BigInt</b>,c::<b>BigInt</b>,d::<b>BigInt</b>,e::<b>BigInt</b>) at <a href=\"https://github.com/JuliaLang/julia/tree/182f791fab02ddbbeccc26876b7e86af165482a6/base/gmp.jl#L229\" target=\"_blank\">gmp.jl:229</a><li> +(x::<b>BigInt</b>,c::<b>Uint64</b>) at <a href=\"https://github.com/JuliaLang/julia/tree/182f791fab02ddbbeccc26876b7e86af165482a6/base/gmp.jl#L241\" target=\"_blank\">gmp.jl:241</a><li> +(c::<b>Uint64</b>,x::<b>BigInt</b>) at <a href=\"https://github.com/JuliaLang/julia/tree/182f791fab02ddbbeccc26876b7e86af165482a6/base/gmp.jl#L245\" target=\"_blank\">gmp.jl:245</a><li> +(c::<b>Union(Uint8,Uint64,Uint32,Uint16)</b>,x::<b>BigInt</b>) at <a href=\"https://github.com/JuliaLang/julia/tree/182f791fab02ddbbeccc26876b7e86af165482a6/base/gmp.jl#L246\" target=\"_blank\">gmp.jl:246</a><li> +(x::<b>BigInt</b>,c::<b>Union(Uint8,Uint64,Uint32,Uint16)</b>) at <a href=\"https://github.com/JuliaLang/julia/tree/182f791fab02ddbbeccc26876b7e86af165482a6/base/gmp.jl#L247\" target=\"_blank\">gmp.jl:247</a><li> +(x::<b>BigInt</b>,c::<b>Union(Int16,Int8,Int32,Int64)</b>) at <a href=\"https://github.com/JuliaLang/julia/tree/182f791fab02ddbbeccc26876b7e86af165482a6/base/gmp.jl#L248\" target=\"_blank\">gmp.jl:248</a><li> +(c::<b>Union(Int16,Int8,Int32,Int64)</b>,x::<b>BigInt</b>) at <a href=\"https://github.com/JuliaLang/julia/tree/182f791fab02ddbbeccc26876b7e86af165482a6/base/gmp.jl#L249\" target=\"_blank\">gmp.jl:249</a><li> +(x::<b>BigFloat</b>,c::<b>Uint64</b>) at <a href=\"https://github.com/JuliaLang/julia/tree/182f791fab02ddbbeccc26876b7e86af165482a6/base/mpfr.jl#L140\" target=\"_blank\">mpfr.jl:140</a><li> +(c::<b>Uint64</b>,x::<b>BigFloat</b>) at <a href=\"https://github.com/JuliaLang/julia/tree/182f791fab02ddbbeccc26876b7e86af165482a6/base/mpfr.jl#L144\" target=\"_blank\">mpfr.jl:144</a><li> +(c::<b>Union(Uint8,Uint64,Uint32,Uint16)</b>,x::<b>BigFloat</b>) at <a href=\"https://github.com/JuliaLang/julia/tree/182f791fab02ddbbeccc26876b7e86af165482a6/base/mpfr.jl#L145\" target=\"_blank\">mpfr.jl:145</a><li> +(x::<b>BigFloat</b>,c::<b>Union(Uint8,Uint64,Uint32,Uint16)</b>) at <a href=\"https://github.com/JuliaLang/julia/tree/182f791fab02ddbbeccc26876b7e86af165482a6/base/mpfr.jl#L146\" target=\"_blank\">mpfr.jl:146</a><li> +(x::<b>BigFloat</b>,c::<b>Int64</b>) at <a href=\"https://github.com/JuliaLang/julia/tree/182f791fab02ddbbeccc26876b7e86af165482a6/base/mpfr.jl#L150\" target=\"_blank\">mpfr.jl:150</a><li> +(c::<b>Int64</b>,x::<b>BigFloat</b>) at <a href=\"https://github.com/JuliaLang/julia/tree/182f791fab02ddbbeccc26876b7e86af165482a6/base/mpfr.jl#L154\" target=\"_blank\">mpfr.jl:154</a><li> +(x::<b>BigFloat</b>,c::<b>Union(Int16,Int8,Int32,Int64)</b>) at <a href=\"https://github.com/JuliaLang/julia/tree/182f791fab02ddbbeccc26876b7e86af165482a6/base/mpfr.jl#L155\" target=\"_blank\">mpfr.jl:155</a><li> +(c::<b>Union(Int16,Int8,Int32,Int64)</b>,x::<b>BigFloat</b>) at <a href=\"https://github.com/JuliaLang/julia/tree/182f791fab02ddbbeccc26876b7e86af165482a6/base/mpfr.jl#L156\" target=\"_blank\">mpfr.jl:156</a><li> +(x::<b>BigFloat</b>,c::<b>Float64</b>) at <a href=\"https://github.com/JuliaLang/julia/tree/182f791fab02ddbbeccc26876b7e86af165482a6/base/mpfr.jl#L160\" target=\"_blank\">mpfr.jl:160</a><li> +(c::<b>Float64</b>,x::<b>BigFloat</b>) at <a href=\"https://github.com/JuliaLang/julia/tree/182f791fab02ddbbeccc26876b7e86af165482a6/base/mpfr.jl#L164\" target=\"_blank\">mpfr.jl:164</a><li> +(c::<b>Float32</b>,x::<b>BigFloat</b>) at <a href=\"https://github.com/JuliaLang/julia/tree/182f791fab02ddbbeccc26876b7e86af165482a6/base/mpfr.jl#L165\" target=\"_blank\">mpfr.jl:165</a><li> +(x::<b>BigFloat</b>,c::<b>Float32</b>) at <a href=\"https://github.com/JuliaLang/julia/tree/182f791fab02ddbbeccc26876b7e86af165482a6/base/mpfr.jl#L166\" target=\"_blank\">mpfr.jl:166</a><li> +(x::<b>BigFloat</b>,c::<b>BigInt</b>) at <a href=\"https://github.com/JuliaLang/julia/tree/182f791fab02ddbbeccc26876b7e86af165482a6/base/mpfr.jl#L170\" target=\"_blank\">mpfr.jl:170</a><li> +(c::<b>BigInt</b>,x::<b>BigFloat</b>) at <a href=\"https://github.com/JuliaLang/julia/tree/182f791fab02ddbbeccc26876b7e86af165482a6/base/mpfr.jl#L174\" target=\"_blank\">mpfr.jl:174</a><li> +(x::<b>BigFloat</b>,y::<b>BigFloat</b>) at <a href=\"https://github.com/JuliaLang/julia/tree/182f791fab02ddbbeccc26876b7e86af165482a6/base/mpfr.jl#L321\" target=\"_blank\">mpfr.jl:321</a><li> +(a::<b>BigFloat</b>,b::<b>BigFloat</b>,c::<b>BigFloat</b>) at <a href=\"https://github.com/JuliaLang/julia/tree/182f791fab02ddbbeccc26876b7e86af165482a6/base/mpfr.jl#L332\" target=\"_blank\">mpfr.jl:332</a><li> +(a::<b>BigFloat</b>,b::<b>BigFloat</b>,c::<b>BigFloat</b>,d::<b>BigFloat</b>) at <a href=\"https://github.com/JuliaLang/julia/tree/182f791fab02ddbbeccc26876b7e86af165482a6/base/mpfr.jl#L338\" target=\"_blank\">mpfr.jl:338</a><li> +(a::<b>BigFloat</b>,b::<b>BigFloat</b>,c::<b>BigFloat</b>,d::<b>BigFloat</b>,e::<b>BigFloat</b>) at <a href=\"https://github.com/JuliaLang/julia/tree/182f791fab02ddbbeccc26876b7e86af165482a6/base/mpfr.jl#L345\" target=\"_blank\">mpfr.jl:345</a><li> +(x::<b>MathConst{sym}</b>,y::<b>MathConst{sym}</b>) at <a href=\"https://github.com/JuliaLang/julia/tree/182f791fab02ddbbeccc26876b7e86af165482a6/base/constants.jl#L23\" target=\"_blank\">constants.jl:23</a><li> +<i>{T<:Number}</i>(x::<b>T<:Number</b>,y::<b>T<:Number</b>) at <a href=\"https://github.com/JuliaLang/julia/tree/182f791fab02ddbbeccc26876b7e86af165482a6/base/promotion.jl#L188\" target=\"_blank\">promotion.jl:188</a><li> +<i>{T<:FloatingPoint}</i>(x::<b>Bool</b>,y::<b>T<:FloatingPoint</b>) at <a href=\"https://github.com/JuliaLang/julia/tree/182f791fab02ddbbeccc26876b7e86af165482a6/base/bool.jl#L46\" target=\"_blank\">bool.jl:46</a><li> +(x::<b>Number</b>,y::<b>Number</b>) at <a href=\"https://github.com/JuliaLang/julia/tree/182f791fab02ddbbeccc26876b7e86af165482a6/base/promotion.jl#L158\" target=\"_blank\">promotion.jl:158</a><li> +(x::<b>Real</b>,r::<b>UnitRange{T<:Real}</b>) at <a href=\"https://github.com/JuliaLang/julia/tree/182f791fab02ddbbeccc26876b7e86af165482a6/base/range.jl#L424\" target=\"_blank\">range.jl:424</a><li> +(x::<b>Real</b>,r::<b>FloatRange{T<:FloatingPoint}</b>) at <a href=\"https://github.com/JuliaLang/julia/tree/182f791fab02ddbbeccc26876b7e86af165482a6/base/range.jl#L427\" target=\"_blank\">range.jl:427</a><li> +(x::<b>Real</b>,r::<b>Range{T}</b>) at <a href=\"https://github.com/JuliaLang/julia/tree/182f791fab02ddbbeccc26876b7e86af165482a6/base/range.jl#L425\" target=\"_blank\">range.jl:425</a><li> +(r::<b>Range{T}</b>,x::<b>Real</b>) at <a href=\"https://github.com/JuliaLang/julia/tree/182f791fab02ddbbeccc26876b7e86af165482a6/base/range.jl#L428\" target=\"_blank\">range.jl:428</a><li> +(x::<b>Integer</b>,y::<b>Ptr{T}</b>) at <a href=\"https://github.com/JuliaLang/julia/tree/182f791fab02ddbbeccc26876b7e86af165482a6/base/pointer.jl#L70\" target=\"_blank\">pointer.jl:70</a><li> +(x::<b>Bool</b>,A::<b>Array{Bool,N}</b>) at <a href=\"https://github.com/JuliaLang/julia/tree/182f791fab02ddbbeccc26876b7e86af165482a6/base/deprecated.jl#L26\" target=\"_blank\">deprecated.jl:26</a><li> +(x::<b>Number</b>) at <a href=\"https://github.com/JuliaLang/julia/tree/182f791fab02ddbbeccc26876b7e86af165482a6/base/operators.jl#L71\" target=\"_blank\">operators.jl:71</a><li> +(r1::<b>OrdinalRange{T,S}</b>,r2::<b>OrdinalRange{T,S}</b>) at <a href=\"https://github.com/JuliaLang/julia/tree/182f791fab02ddbbeccc26876b7e86af165482a6/base/operators.jl#L320\" target=\"_blank\">operators.jl:320</a><li> +<i>{T<:FloatingPoint}</i>(r1::<b>FloatRange{T<:FloatingPoint}</b>,r2::<b>FloatRange{T<:FloatingPoint}</b>) at <a href=\"https://github.com/JuliaLang/julia/tree/182f791fab02ddbbeccc26876b7e86af165482a6/base/operators.jl#L326\" target=\"_blank\">operators.jl:326</a><li> +(r1::<b>FloatRange{T<:FloatingPoint}</b>,r2::<b>FloatRange{T<:FloatingPoint}</b>) at <a href=\"https://github.com/JuliaLang/julia/tree/182f791fab02ddbbeccc26876b7e86af165482a6/base/operators.jl#L343\" target=\"_blank\">operators.jl:343</a><li> +(r1::<b>FloatRange{T<:FloatingPoint}</b>,r2::<b>OrdinalRange{T,S}</b>) at <a href=\"https://github.com/JuliaLang/julia/tree/182f791fab02ddbbeccc26876b7e86af165482a6/base/operators.jl#L344\" target=\"_blank\">operators.jl:344</a><li> +(r1::<b>OrdinalRange{T,S}</b>,r2::<b>FloatRange{T<:FloatingPoint}</b>) at <a href=\"https://github.com/JuliaLang/julia/tree/182f791fab02ddbbeccc26876b7e86af165482a6/base/operators.jl#L345\" target=\"_blank\">operators.jl:345</a><li> +(x::<b>Ptr{T}</b>,y::<b>Integer</b>) at <a href=\"https://github.com/JuliaLang/julia/tree/182f791fab02ddbbeccc26876b7e86af165482a6/base/pointer.jl#L68\" target=\"_blank\">pointer.jl:68</a><li> +<i>{S,T<:Real}</i>(A::<b>Union(DenseArray{S,N},SubArray{S,N,A<:DenseArray{T,N},I<:(Union(Int64,Range{Int64})...,)})</b>,B::<b>Range{T<:Real}</b>) at <a href=\"https://github.com/JuliaLang/julia/tree/182f791fab02ddbbeccc26876b7e86af165482a6/base/array.jl#L732\" target=\"_blank\">array.jl:732</a><li> +<i>{S<:Real,T}</i>(A::<b>Range{S<:Real}</b>,B::<b>Union(SubArray{T,N,A<:DenseArray{T,N},I<:(Union(Int64,Range{Int64})...,)},DenseArray{T,N})</b>) at <a href=\"https://github.com/JuliaLang/julia/tree/182f791fab02ddbbeccc26876b7e86af165482a6/base/array.jl#L741\" target=\"_blank\">array.jl:741</a><li> +<i>{Tv,Ti}</i>(A::<b>SparseMatrixCSC{Tv,Ti}</b>,B::<b>SparseMatrixCSC{Tv,Ti}</b>) at <a href=\"https://github.com/JuliaLang/julia/tree/182f791fab02ddbbeccc26876b7e86af165482a6/base/sparse/sparsematrix.jl#L514\" target=\"_blank\">sparse/sparsematrix.jl:514</a><li> +<i>{TvA,TiA,TvB,TiB}</i>(A::<b>SparseMatrixCSC{TvA,TiA}</b>,B::<b>SparseMatrixCSC{TvB,TiB}</b>) at <a href=\"https://github.com/JuliaLang/julia/tree/182f791fab02ddbbeccc26876b7e86af165482a6/base/sparse/sparsematrix.jl#L506\" target=\"_blank\">sparse/sparsematrix.jl:506</a><li> +(A::<b>SparseMatrixCSC{Tv,Ti<:Integer}</b>,B::<b>Union(Number,Array{T,N})</b>) at <a href=\"https://github.com/JuliaLang/julia/tree/182f791fab02ddbbeccc26876b7e86af165482a6/base/sparse/sparsematrix.jl#L604\" target=\"_blank\">sparse/sparsematrix.jl:604</a><li> +(A::<b>Union(Number,Array{T,N})</b>,B::<b>SparseMatrixCSC{Tv,Ti<:Integer}</b>) at <a href=\"https://github.com/JuliaLang/julia/tree/182f791fab02ddbbeccc26876b7e86af165482a6/base/sparse/sparsematrix.jl#L605\" target=\"_blank\">sparse/sparsematrix.jl:605</a><li> +(A::<b>SymTridiagonal{T}</b>,B::<b>SymTridiagonal{T}</b>) at <a href=\"https://github.com/JuliaLang/julia/tree/182f791fab02ddbbeccc26876b7e86af165482a6/base/linalg/tridiag.jl#L45\" target=\"_blank\">linalg/tridiag.jl:45</a><li> +(A::<b>Tridiagonal{T}</b>,B::<b>Tridiagonal{T}</b>) at <a href=\"https://github.com/JuliaLang/julia/tree/182f791fab02ddbbeccc26876b7e86af165482a6/base/linalg/tridiag.jl#L207\" target=\"_blank\">linalg/tridiag.jl:207</a><li> +(A::<b>Tridiagonal{T}</b>,B::<b>SymTridiagonal{T}</b>) at <a href=\"https://github.com/JuliaLang/julia/tree/182f791fab02ddbbeccc26876b7e86af165482a6/base/linalg/special.jl#L98\" target=\"_blank\">linalg/special.jl:98</a><li> +(A::<b>SymTridiagonal{T}</b>,B::<b>Tridiagonal{T}</b>) at <a href=\"https://github.com/JuliaLang/julia/tree/182f791fab02ddbbeccc26876b7e86af165482a6/base/linalg/special.jl#L97\" target=\"_blank\">linalg/special.jl:97</a><li> +(Da::<b>Diagonal{T}</b>,Db::<b>Diagonal{T}</b>) at <a href=\"https://github.com/JuliaLang/julia/tree/182f791fab02ddbbeccc26876b7e86af165482a6/base/linalg/diagonal.jl#L38\" target=\"_blank\">linalg/diagonal.jl:38</a><li> +(A::<b>Bidiagonal{T}</b>,B::<b>Bidiagonal{T}</b>) at <a href=\"https://github.com/JuliaLang/julia/tree/182f791fab02ddbbeccc26876b7e86af165482a6/base/linalg/bidiag.jl#L92\" target=\"_blank\">linalg/bidiag.jl:92</a><li> +<i>{T}</i>(B::<b>BitArray{2}</b>,J::<b>UniformScaling{T}</b>) at <a href=\"https://github.com/JuliaLang/julia/tree/182f791fab02ddbbeccc26876b7e86af165482a6/base/linalg/uniformscaling.jl#L26\" target=\"_blank\">linalg/uniformscaling.jl:26</a><li> +(A::<b>Diagonal{T}</b>,B::<b>Bidiagonal{T}</b>) at <a href=\"https://github.com/JuliaLang/julia/tree/182f791fab02ddbbeccc26876b7e86af165482a6/base/linalg/special.jl#L88\" target=\"_blank\">linalg/special.jl:88</a><li> +(A::<b>Bidiagonal{T}</b>,B::<b>Diagonal{T}</b>) at <a href=\"https://github.com/JuliaLang/julia/tree/182f791fab02ddbbeccc26876b7e86af165482a6/base/linalg/special.jl#L89\" target=\"_blank\">linalg/special.jl:89</a><li> +(A::<b>Diagonal{T}</b>,B::<b>Tridiagonal{T}</b>) at <a href=\"https://github.com/JuliaLang/julia/tree/182f791fab02ddbbeccc26876b7e86af165482a6/base/linalg/special.jl#L88\" target=\"_blank\">linalg/special.jl:88</a><li> +(A::<b>Tridiagonal{T}</b>,B::<b>Diagonal{T}</b>) at <a href=\"https://github.com/JuliaLang/julia/tree/182f791fab02ddbbeccc26876b7e86af165482a6/base/linalg/special.jl#L89\" target=\"_blank\">linalg/special.jl:89</a><li> +(A::<b>Diagonal{T}</b>,B::<b>Triangular{T<:Number}</b>) at <a href=\"https://github.com/JuliaLang/julia/tree/182f791fab02ddbbeccc26876b7e86af165482a6/base/linalg/special.jl#L88\" target=\"_blank\">linalg/special.jl:88</a><li> +(A::<b>Triangular{T<:Number}</b>,B::<b>Diagonal{T}</b>) at <a href=\"https://github.com/JuliaLang/julia/tree/182f791fab02ddbbeccc26876b7e86af165482a6/base/linalg/special.jl#L89\" target=\"_blank\">linalg/special.jl:89</a><li> +(A::<b>Diagonal{T}</b>,B::<b>Array{T,2}</b>) at <a href=\"https://github.com/JuliaLang/julia/tree/182f791fab02ddbbeccc26876b7e86af165482a6/base/linalg/special.jl#L88\" target=\"_blank\">linalg/special.jl:88</a><li> +(A::<b>Array{T,2}</b>,B::<b>Diagonal{T}</b>) at <a href=\"https://github.com/JuliaLang/julia/tree/182f791fab02ddbbeccc26876b7e86af165482a6/base/linalg/special.jl#L89\" target=\"_blank\">linalg/special.jl:89</a><li> +(A::<b>Bidiagonal{T}</b>,B::<b>Tridiagonal{T}</b>) at <a href=\"https://github.com/JuliaLang/julia/tree/182f791fab02ddbbeccc26876b7e86af165482a6/base/linalg/special.jl#L88\" target=\"_blank\">linalg/special.jl:88</a><li> +(A::<b>Tridiagonal{T}</b>,B::<b>Bidiagonal{T}</b>) at <a href=\"https://github.com/JuliaLang/julia/tree/182f791fab02ddbbeccc26876b7e86af165482a6/base/linalg/special.jl#L89\" target=\"_blank\">linalg/special.jl:89</a><li> +(A::<b>Bidiagonal{T}</b>,B::<b>Triangular{T<:Number}</b>) at <a href=\"https://github.com/JuliaLang/julia/tree/182f791fab02ddbbeccc26876b7e86af165482a6/base/linalg/special.jl#L88\" target=\"_blank\">linalg/special.jl:88</a><li> +(A::<b>Triangular{T<:Number}</b>,B::<b>Bidiagonal{T}</b>) at <a href=\"https://github.com/JuliaLang/julia/tree/182f791fab02ddbbeccc26876b7e86af165482a6/base/linalg/special.jl#L89\" target=\"_blank\">linalg/special.jl:89</a><li> +(A::<b>Bidiagonal{T}</b>,B::<b>Array{T,2}</b>) at <a href=\"https://github.com/JuliaLang/julia/tree/182f791fab02ddbbeccc26876b7e86af165482a6/base/linalg/special.jl#L88\" target=\"_blank\">linalg/special.jl:88</a><li> +(A::<b>Array{T,2}</b>,B::<b>Bidiagonal{T}</b>) at <a href=\"https://github.com/JuliaLang/julia/tree/182f791fab02ddbbeccc26876b7e86af165482a6/base/linalg/special.jl#L89\" target=\"_blank\">linalg/special.jl:89</a><li> +(A::<b>Tridiagonal{T}</b>,B::<b>Triangular{T<:Number}</b>) at <a href=\"https://github.com/JuliaLang/julia/tree/182f791fab02ddbbeccc26876b7e86af165482a6/base/linalg/special.jl#L88\" target=\"_blank\">linalg/special.jl:88</a><li> +(A::<b>Triangular{T<:Number}</b>,B::<b>Tridiagonal{T}</b>) at <a href=\"https://github.com/JuliaLang/julia/tree/182f791fab02ddbbeccc26876b7e86af165482a6/base/linalg/special.jl#L89\" target=\"_blank\">linalg/special.jl:89</a><li> +(A::<b>Tridiagonal{T}</b>,B::<b>Array{T,2}</b>) at <a href=\"https://github.com/JuliaLang/julia/tree/182f791fab02ddbbeccc26876b7e86af165482a6/base/linalg/special.jl#L88\" target=\"_blank\">linalg/special.jl:88</a><li> +(A::<b>Array{T,2}</b>,B::<b>Tridiagonal{T}</b>) at <a href=\"https://github.com/JuliaLang/julia/tree/182f791fab02ddbbeccc26876b7e86af165482a6/base/linalg/special.jl#L89\" target=\"_blank\">linalg/special.jl:89</a><li> +(A::<b>Triangular{T<:Number}</b>,B::<b>Array{T,2}</b>) at <a href=\"https://github.com/JuliaLang/julia/tree/182f791fab02ddbbeccc26876b7e86af165482a6/base/linalg/special.jl#L88\" target=\"_blank\">linalg/special.jl:88</a><li> +(A::<b>Array{T,2}</b>,B::<b>Triangular{T<:Number}</b>) at <a href=\"https://github.com/JuliaLang/julia/tree/182f791fab02ddbbeccc26876b7e86af165482a6/base/linalg/special.jl#L89\" target=\"_blank\">linalg/special.jl:89</a><li> +(A::<b>SymTridiagonal{T}</b>,B::<b>Triangular{T<:Number}</b>) at <a href=\"https://github.com/JuliaLang/julia/tree/182f791fab02ddbbeccc26876b7e86af165482a6/base/linalg/special.jl#L97\" target=\"_blank\">linalg/special.jl:97</a><li> +(A::<b>Triangular{T<:Number}</b>,B::<b>SymTridiagonal{T}</b>) at <a href=\"https://github.com/JuliaLang/julia/tree/182f791fab02ddbbeccc26876b7e86af165482a6/base/linalg/special.jl#L98\" target=\"_blank\">linalg/special.jl:98</a><li> +(A::<b>SymTridiagonal{T}</b>,B::<b>Array{T,2}</b>) at <a href=\"https://github.com/JuliaLang/julia/tree/182f791fab02ddbbeccc26876b7e86af165482a6/base/linalg/special.jl#L97\" target=\"_blank\">linalg/special.jl:97</a><li> +(A::<b>Array{T,2}</b>,B::<b>SymTridiagonal{T}</b>) at <a href=\"https://github.com/JuliaLang/julia/tree/182f791fab02ddbbeccc26876b7e86af165482a6/base/linalg/special.jl#L98\" target=\"_blank\">linalg/special.jl:98</a><li> +(A::<b>Diagonal{T}</b>,B::<b>SymTridiagonal{T}</b>) at <a href=\"https://github.com/JuliaLang/julia/tree/182f791fab02ddbbeccc26876b7e86af165482a6/base/linalg/special.jl#L106\" target=\"_blank\">linalg/special.jl:106</a><li> +(A::<b>SymTridiagonal{T}</b>,B::<b>Diagonal{T}</b>) at <a href=\"https://github.com/JuliaLang/julia/tree/182f791fab02ddbbeccc26876b7e86af165482a6/base/linalg/special.jl#L107\" target=\"_blank\">linalg/special.jl:107</a><li> +(A::<b>Bidiagonal{T}</b>,B::<b>SymTridiagonal{T}</b>) at <a href=\"https://github.com/JuliaLang/julia/tree/182f791fab02ddbbeccc26876b7e86af165482a6/base/linalg/special.jl#L106\" target=\"_blank\">linalg/special.jl:106</a><li> +(A::<b>SymTridiagonal{T}</b>,B::<b>Bidiagonal{T}</b>) at <a href=\"https://github.com/JuliaLang/julia/tree/182f791fab02ddbbeccc26876b7e86af165482a6/base/linalg/special.jl#L107\" target=\"_blank\">linalg/special.jl:107</a><li> +(A::<b>Array{Bool,N}</b>,x::<b>Bool</b>) at <a href=\"https://github.com/JuliaLang/julia/tree/182f791fab02ddbbeccc26876b7e86af165482a6/base/deprecated.jl#L26\" target=\"_blank\">deprecated.jl:26</a><li> +(A::<b>Array{T,N}</b>,x::<b>Number</b>) at <a href=\"https://github.com/JuliaLang/julia/tree/182f791fab02ddbbeccc26876b7e86af165482a6/base/deprecated.jl#L26\" target=\"_blank\">deprecated.jl:26</a><li> +<i>{T<:Number}</i>(x::<b>AbstractArray{T<:Number,N}</b>) at <a href=\"https://github.com/JuliaLang/julia/tree/182f791fab02ddbbeccc26876b7e86af165482a6/base/abstractarray.jl#L346\" target=\"_blank\">abstractarray.jl:346</a><li> +(J1::<b>UniformScaling{T<:Number}</b>,J2::<b>UniformScaling{T<:Number}</b>) at <a href=\"https://github.com/JuliaLang/julia/tree/182f791fab02ddbbeccc26876b7e86af165482a6/base/linalg/uniformscaling.jl#L25\" target=\"_blank\">linalg/uniformscaling.jl:25</a><li> +(J::<b>UniformScaling{T<:Number}</b>,B::<b>BitArray{2}</b>) at <a href=\"https://github.com/JuliaLang/julia/tree/182f791fab02ddbbeccc26876b7e86af165482a6/base/linalg/uniformscaling.jl#L27\" target=\"_blank\">linalg/uniformscaling.jl:27</a><li> +(J::<b>UniformScaling{T<:Number}</b>,A::<b>AbstractArray{T,2}</b>) at <a href=\"https://github.com/JuliaLang/julia/tree/182f791fab02ddbbeccc26876b7e86af165482a6/base/linalg/uniformscaling.jl#L28\" target=\"_blank\">linalg/uniformscaling.jl:28</a><li> +(J::<b>UniformScaling{T<:Number}</b>,x::<b>Number</b>) at <a href=\"https://github.com/JuliaLang/julia/tree/182f791fab02ddbbeccc26876b7e86af165482a6/base/linalg/uniformscaling.jl#L29\" target=\"_blank\">linalg/uniformscaling.jl:29</a><li> +(x::<b>Number</b>,J::<b>UniformScaling{T<:Number}</b>) at <a href=\"https://github.com/JuliaLang/julia/tree/182f791fab02ddbbeccc26876b7e86af165482a6/base/linalg/uniformscaling.jl#L30\" target=\"_blank\">linalg/uniformscaling.jl:30</a><li> +<i>{TA,TJ}</i>(A::<b>AbstractArray{TA,2}</b>,J::<b>UniformScaling{TJ}</b>) at <a href=\"https://github.com/JuliaLang/julia/tree/182f791fab02ddbbeccc26876b7e86af165482a6/base/linalg/uniformscaling.jl#L33\" target=\"_blank\">linalg/uniformscaling.jl:33</a><li> +(x::<b>Number</b>,A::<b>Array{T,N}</b>) at <a href=\"https://github.com/JuliaLang/julia/tree/182f791fab02ddbbeccc26876b7e86af165482a6/base/deprecated.jl#L26\" target=\"_blank\">deprecated.jl:26</a><li> +<i>{T}</i>(a::<b>HierarchicalValue{T}</b>,b::<b>HierarchicalValue{T}</b>) at <a href=\"https://github.com/JuliaLang/julia/tree/182f791fab02ddbbeccc26876b7e86af165482a6/base/pkg/resolve/versionweight.jl#L19\" target=\"_blank\">pkg/resolve/versionweight.jl:19</a><li> +(a::<b>VWPreBuildItem</b>,b::<b>VWPreBuildItem</b>) at <a href=\"https://github.com/JuliaLang/julia/tree/182f791fab02ddbbeccc26876b7e86af165482a6/base/pkg/resolve/versionweight.jl#L82\" target=\"_blank\">pkg/resolve/versionweight.jl:82</a><li> +(a::<b>VWPreBuild</b>,b::<b>VWPreBuild</b>) at <a href=\"https://github.com/JuliaLang/julia/tree/182f791fab02ddbbeccc26876b7e86af165482a6/base/pkg/resolve/versionweight.jl#L120\" target=\"_blank\">pkg/resolve/versionweight.jl:120</a><li> +(a::<b>VersionWeight</b>,b::<b>VersionWeight</b>) at <a href=\"https://github.com/JuliaLang/julia/tree/182f791fab02ddbbeccc26876b7e86af165482a6/base/pkg/resolve/versionweight.jl#L164\" target=\"_blank\">pkg/resolve/versionweight.jl:164</a><li> +(a::<b>FieldValue</b>,b::<b>FieldValue</b>) at <a href=\"https://github.com/JuliaLang/julia/tree/182f791fab02ddbbeccc26876b7e86af165482a6/base/pkg/resolve/fieldvalue.jl#L41\" target=\"_blank\">pkg/resolve/fieldvalue.jl:41</a><li> +(a::<b>Vec2</b>,b::<b>Vec2</b>) at <a href=\"https://github.com/JuliaLang/julia/tree/182f791fab02ddbbeccc26876b7e86af165482a6/base/graphics.jl#L60\" target=\"_blank\">graphics.jl:60</a><li> +(bb1::<b>BoundingBox</b>,bb2::<b>BoundingBox</b>) at <a href=\"https://github.com/JuliaLang/julia/tree/182f791fab02ddbbeccc26876b7e86af165482a6/base/graphics.jl#L123\" target=\"_blank\">graphics.jl:123</a><li> +(v1::<b>Vector2D</b>,v2::<b>Vector2D</b>) at In[4]:1<li> +(a,b,c) at <a href=\"https://github.com/JuliaLang/julia/tree/182f791fab02ddbbeccc26876b7e86af165482a6/base/operators.jl#L82\" target=\"_blank\">operators.jl:82</a><li> +(a,b,c,xs...) at <a href=\"https://github.com/JuliaLang/julia/tree/182f791fab02ddbbeccc26876b7e86af165482a6/base/operators.jl#L83\" target=\"_blank\">operators.jl:83</a></ul>"
      ],
      "text/plain": [
       "# 128 methods for generic function \"+\":\n",
       "+(x::Bool) at bool.jl:36\n",
       "+(x::Bool,y::Bool) at bool.jl:39\n",
       "+(y::FloatingPoint,x::Bool) at bool.jl:49\n",
       "+(A::BitArray{N},B::BitArray{N}) at bitarray.jl:852\n",
       "+(A::Union(SubArray{Bool,N,A<:DenseArray{T,N},I<:(Union(Int64,Range{Int64})...,)},DenseArray{Bool,N}),B::Union(SubArray{Bool,N,A<:DenseArray{T,N},I<:(Union(Int64,Range{Int64})...,)},DenseArray{Bool,N})) at array.jl:792\n",
       "+{S,T}(A::Union(DenseArray{S,N},SubArray{S,N,A<:DenseArray{T,N},I<:(Union(Int64,Range{Int64})...,)}),B::Union(SubArray{T,N,A<:DenseArray{T,N},I<:(Union(Int64,Range{Int64})...,)},DenseArray{T,N})) at array.jl:724\n",
       "+{T<:Union(Int16,Int8,Int32)}(x::T<:Union(Int16,Int8,Int32),y::T<:Union(Int16,Int8,Int32)) at int.jl:16\n",
       "+{T<:Union(Uint8,Uint32,Uint16)}(x::T<:Union(Uint8,Uint32,Uint16),y::T<:Union(Uint8,Uint32,Uint16)) at int.jl:20\n",
       "+(x::Int64,y::Int64) at int.jl:33\n",
       "+(x::Uint64,y::Uint64) at int.jl:34\n",
       "+(x::Int128,y::Int128) at int.jl:35\n",
       "+(x::Uint128,y::Uint128) at int.jl:36\n",
       "+(x::Float32,y::Float32) at float.jl:124\n",
       "+(x::Float64,y::Float64) at float.jl:125\n",
       "+(z::Complex{T<:Real},w::Complex{T<:Real}) at complex.jl:110\n",
       "+(x::Real,z::Complex{T<:Real}) at complex.jl:120\n",
       "+(z::Complex{T<:Real},x::Real) at complex.jl:121\n",
       "+(x::Rational{T<:Integer},y::Rational{T<:Integer}) at rational.jl:117\n",
       "+(x::Char,y::Char) at char.jl:23\n",
       "+(x::Char,y::Integer) at char.jl:26\n",
       "+(x::Integer,y::Char) at char.jl:27\n",
       "+(a::Float16,b::Float16) at float16.jl:125\n",
       "+(x::BigInt,y::BigInt) at gmp.jl:193\n",
       "+(a::BigInt,b::BigInt,c::BigInt) at gmp.jl:216\n",
       "+(a::BigInt,b::BigInt,c::BigInt,d::BigInt) at gmp.jl:222\n",
       "+(a::BigInt,b::BigInt,c::BigInt,d::BigInt,e::BigInt) at gmp.jl:229\n",
       "+(x::BigInt,c::Uint64) at gmp.jl:241\n",
       "+(c::Uint64,x::BigInt) at gmp.jl:245\n",
       "+(c::Union(Uint8,Uint64,Uint32,Uint16),x::BigInt) at gmp.jl:246\n",
       "+(x::BigInt,c::Union(Uint8,Uint64,Uint32,Uint16)) at gmp.jl:247\n",
       "+(x::BigInt,c::Union(Int16,Int8,Int32,Int64)) at gmp.jl:248\n",
       "+(c::Union(Int16,Int8,Int32,Int64),x::BigInt) at gmp.jl:249\n",
       "+(x::BigFloat,c::Uint64) at mpfr.jl:140\n",
       "+(c::Uint64,x::BigFloat) at mpfr.jl:144\n",
       "+(c::Union(Uint8,Uint64,Uint32,Uint16),x::BigFloat) at mpfr.jl:145\n",
       "+(x::BigFloat,c::Union(Uint8,Uint64,Uint32,Uint16)) at mpfr.jl:146\n",
       "+(x::BigFloat,c::Int64) at mpfr.jl:150\n",
       "+(c::Int64,x::BigFloat) at mpfr.jl:154\n",
       "+(x::BigFloat,c::Union(Int16,Int8,Int32,Int64)) at mpfr.jl:155\n",
       "+(c::Union(Int16,Int8,Int32,Int64),x::BigFloat) at mpfr.jl:156\n",
       "+(x::BigFloat,c::Float64) at mpfr.jl:160\n",
       "+(c::Float64,x::BigFloat) at mpfr.jl:164\n",
       "+(c::Float32,x::BigFloat) at mpfr.jl:165\n",
       "+(x::BigFloat,c::Float32) at mpfr.jl:166\n",
       "+(x::BigFloat,c::BigInt) at mpfr.jl:170\n",
       "+(c::BigInt,x::BigFloat) at mpfr.jl:174\n",
       "+(x::BigFloat,y::BigFloat) at mpfr.jl:321\n",
       "+(a::BigFloat,b::BigFloat,c::BigFloat) at mpfr.jl:332\n",
       "+(a::BigFloat,b::BigFloat,c::BigFloat,d::BigFloat) at mpfr.jl:338\n",
       "+(a::BigFloat,b::BigFloat,c::BigFloat,d::BigFloat,e::BigFloat) at mpfr.jl:345\n",
       "+(x::MathConst{sym},y::MathConst{sym}) at constants.jl:23\n",
       "+{T<:Number}(x::T<:Number,y::T<:Number) at promotion.jl:188\n",
       "+{T<:FloatingPoint}(x::Bool,y::T<:FloatingPoint) at bool.jl:46\n",
       "+(x::Number,y::Number) at promotion.jl:158\n",
       "+(x::Real,r::UnitRange{T<:Real}) at range.jl:424\n",
       "+(x::Real,r::FloatRange{T<:FloatingPoint}) at range.jl:427\n",
       "+(x::Real,r::Range{T}) at range.jl:425\n",
       "+(r::Range{T},x::Real) at range.jl:428\n",
       "+(x::Integer,y::Ptr{T}) at pointer.jl:70\n",
       "+(x::Bool,A::Array{Bool,N}) at deprecated.jl:26\n",
       "+(x::Number) at operators.jl:71\n",
       "+(r1::OrdinalRange{T,S},r2::OrdinalRange{T,S}) at operators.jl:320\n",
       "+{T<:FloatingPoint}(r1::FloatRange{T<:FloatingPoint},r2::FloatRange{T<:FloatingPoint}) at operators.jl:326\n",
       "+(r1::FloatRange{T<:FloatingPoint},r2::FloatRange{T<:FloatingPoint}) at operators.jl:343\n",
       "+(r1::FloatRange{T<:FloatingPoint},r2::OrdinalRange{T,S}) at operators.jl:344\n",
       "+(r1::OrdinalRange{T,S},r2::FloatRange{T<:FloatingPoint}) at operators.jl:345\n",
       "+(x::Ptr{T},y::Integer) at pointer.jl:68\n",
       "+{S,T<:Real}(A::Union(DenseArray{S,N},SubArray{S,N,A<:DenseArray{T,N},I<:(Union(Int64,Range{Int64})...,)}),B::Range{T<:Real}) at array.jl:732\n",
       "+{S<:Real,T}(A::Range{S<:Real},B::Union(SubArray{T,N,A<:DenseArray{T,N},I<:(Union(Int64,Range{Int64})...,)},DenseArray{T,N})) at array.jl:741\n",
       "+{Tv,Ti}(A::SparseMatrixCSC{Tv,Ti},B::SparseMatrixCSC{Tv,Ti}) at sparse/sparsematrix.jl:514\n",
       "+{TvA,TiA,TvB,TiB}(A::SparseMatrixCSC{TvA,TiA},B::SparseMatrixCSC{TvB,TiB}) at sparse/sparsematrix.jl:506\n",
       "+(A::SparseMatrixCSC{Tv,Ti<:Integer},B::Union(Number,Array{T,N})) at sparse/sparsematrix.jl:604\n",
       "+(A::Union(Number,Array{T,N}),B::SparseMatrixCSC{Tv,Ti<:Integer}) at sparse/sparsematrix.jl:605\n",
       "+(A::SymTridiagonal{T},B::SymTridiagonal{T}) at linalg/tridiag.jl:45\n",
       "+(A::Tridiagonal{T},B::Tridiagonal{T}) at linalg/tridiag.jl:207\n",
       "+(A::Tridiagonal{T},B::SymTridiagonal{T}) at linalg/special.jl:98\n",
       "+(A::SymTridiagonal{T},B::Tridiagonal{T}) at linalg/special.jl:97\n",
       "+(Da::Diagonal{T},Db::Diagonal{T}) at linalg/diagonal.jl:38\n",
       "+(A::Bidiagonal{T},B::Bidiagonal{T}) at linalg/bidiag.jl:92\n",
       "+{T}(B::BitArray{2},J::UniformScaling{T}) at linalg/uniformscaling.jl:26\n",
       "+(A::Diagonal{T},B::Bidiagonal{T}) at linalg/special.jl:88\n",
       "+(A::Bidiagonal{T},B::Diagonal{T}) at linalg/special.jl:89\n",
       "+(A::Diagonal{T},B::Tridiagonal{T}) at linalg/special.jl:88\n",
       "+(A::Tridiagonal{T},B::Diagonal{T}) at linalg/special.jl:89\n",
       "+(A::Diagonal{T},B::Triangular{T<:Number}) at linalg/special.jl:88\n",
       "+(A::Triangular{T<:Number},B::Diagonal{T}) at linalg/special.jl:89\n",
       "+(A::Diagonal{T},B::Array{T,2}) at linalg/special.jl:88\n",
       "+(A::Array{T,2},B::Diagonal{T}) at linalg/special.jl:89\n",
       "+(A::Bidiagonal{T},B::Tridiagonal{T}) at linalg/special.jl:88\n",
       "+(A::Tridiagonal{T},B::Bidiagonal{T}) at linalg/special.jl:89\n",
       "+(A::Bidiagonal{T},B::Triangular{T<:Number}) at linalg/special.jl:88\n",
       "+(A::Triangular{T<:Number},B::Bidiagonal{T}) at linalg/special.jl:89\n",
       "+(A::Bidiagonal{T},B::Array{T,2}) at linalg/special.jl:88\n",
       "+(A::Array{T,2},B::Bidiagonal{T}) at linalg/special.jl:89\n",
       "+(A::Tridiagonal{T},B::Triangular{T<:Number}) at linalg/special.jl:88\n",
       "+(A::Triangular{T<:Number},B::Tridiagonal{T}) at linalg/special.jl:89\n",
       "+(A::Tridiagonal{T},B::Array{T,2}) at linalg/special.jl:88\n",
       "+(A::Array{T,2},B::Tridiagonal{T}) at linalg/special.jl:89\n",
       "+(A::Triangular{T<:Number},B::Array{T,2}) at linalg/special.jl:88\n",
       "+(A::Array{T,2},B::Triangular{T<:Number}) at linalg/special.jl:89\n",
       "+(A::SymTridiagonal{T},B::Triangular{T<:Number}) at linalg/special.jl:97\n",
       "+(A::Triangular{T<:Number},B::SymTridiagonal{T}) at linalg/special.jl:98\n",
       "+(A::SymTridiagonal{T},B::Array{T,2}) at linalg/special.jl:97\n",
       "+(A::Array{T,2},B::SymTridiagonal{T}) at linalg/special.jl:98\n",
       "+(A::Diagonal{T},B::SymTridiagonal{T}) at linalg/special.jl:106\n",
       "+(A::SymTridiagonal{T},B::Diagonal{T}) at linalg/special.jl:107\n",
       "+(A::Bidiagonal{T},B::SymTridiagonal{T}) at linalg/special.jl:106\n",
       "+(A::SymTridiagonal{T},B::Bidiagonal{T}) at linalg/special.jl:107\n",
       "+(A::Array{Bool,N},x::Bool) at deprecated.jl:26\n",
       "+(A::Array{T,N},x::Number) at deprecated.jl:26\n",
       "+{T<:Number}(x::AbstractArray{T<:Number,N}) at abstractarray.jl:346\n",
       "+(J1::UniformScaling{T<:Number},J2::UniformScaling{T<:Number}) at linalg/uniformscaling.jl:25\n",
       "+(J::UniformScaling{T<:Number},B::BitArray{2}) at linalg/uniformscaling.jl:27\n",
       "+(J::UniformScaling{T<:Number},A::AbstractArray{T,2}) at linalg/uniformscaling.jl:28\n",
       "+(J::UniformScaling{T<:Number},x::Number) at linalg/uniformscaling.jl:29\n",
       "+(x::Number,J::UniformScaling{T<:Number}) at linalg/uniformscaling.jl:30\n",
       "+{TA,TJ}(A::AbstractArray{TA,2},J::UniformScaling{TJ}) at linalg/uniformscaling.jl:33\n",
       "+(x::Number,A::Array{T,N}) at deprecated.jl:26\n",
       "+{T}(a::HierarchicalValue{T},b::HierarchicalValue{T}) at pkg/resolve/versionweight.jl:19\n",
       "+(a::VWPreBuildItem,b::VWPreBuildItem) at pkg/resolve/versionweight.jl:82\n",
       "+(a::VWPreBuild,b::VWPreBuild) at pkg/resolve/versionweight.jl:120\n",
       "+(a::VersionWeight,b::VersionWeight) at pkg/resolve/versionweight.jl:164\n",
       "+(a::FieldValue,b::FieldValue) at pkg/resolve/fieldvalue.jl:41\n",
       "+(a::Vec2,b::Vec2) at graphics.jl:60\n",
       "+(bb1::BoundingBox,bb2::BoundingBox) at graphics.jl:123\n",
       "+(v1::Vector2D,v2::Vector2D) at In[4]:1\n",
       "+(a,b,c) at operators.jl:82\n",
       "+(a,b,c,xs...) at operators.jl:83"
      ]
     },
     "execution_count": 5,
     "metadata": {},
     "output_type": "execute_result"
    }
   ],
   "source": [
    "methods(+)"
   ]
  },
  {
   "cell_type": "code",
   "execution_count": 7,
   "metadata": {
    "collapsed": false
   },
   "outputs": [
    {
     "data": {
      "text/plain": [
       "[8.0, 10.0]"
      ]
     },
     "execution_count": 7,
     "metadata": {},
     "output_type": "execute_result"
    }
   ],
   "source": [
    "x = Vector2D(3, 4)\n",
    "y = Vector2D(5, 6)\n",
    "\n",
    "x + y"
   ]
  },
  {
   "cell_type": "markdown",
   "metadata": {},
   "source": [
    "## Parametrised types"
   ]
  },
  {
   "cell_type": "markdown",
   "metadata": {},
   "source": [
    "Types may have a parameter, for example:"
   ]
  },
  {
   "cell_type": "code",
   "execution_count": 1,
   "metadata": {
    "collapsed": false
   },
   "outputs": [],
   "source": [
    "immutable Vector2D{T <: Real}\n",
    "    x::T\n",
    "    y::T\n",
    "end "
   ]
  },
  {
   "cell_type": "markdown",
   "metadata": {},
   "source": [
    "`T` is a type parameter.\n",
    "The expression `T <: Real` means that `T` must be a subtype of the abstract type `Real`.\n",
    "We can investigate the type hierarchy with the `super` function:"
   ]
  },
  {
   "cell_type": "code",
   "execution_count": 4,
   "metadata": {
    "collapsed": false
   },
   "outputs": [
    {
     "data": {
      "text/plain": [
       "Integer"
      ]
     },
     "execution_count": 4,
     "metadata": {},
     "output_type": "execute_result"
    }
   ],
   "source": [
    "Integer"
   ]
  },
  {
   "cell_type": "code",
   "execution_count": 5,
   "metadata": {
    "collapsed": false
   },
   "outputs": [
    {
     "data": {
      "text/plain": [
       "Real"
      ]
     },
     "execution_count": 5,
     "metadata": {},
     "output_type": "execute_result"
    }
   ],
   "source": [
    "super(Integer)"
   ]
  },
  {
   "cell_type": "code",
   "execution_count": 6,
   "metadata": {
    "collapsed": false
   },
   "outputs": [
    {
     "data": {
      "text/plain": [
       "Number"
      ]
     },
     "execution_count": 6,
     "metadata": {},
     "output_type": "execute_result"
    }
   ],
   "source": [
    "super(Real)"
   ]
  },
  {
   "cell_type": "code",
   "execution_count": 7,
   "metadata": {
    "collapsed": false
   },
   "outputs": [
    {
     "data": {
      "text/plain": [
       "Any"
      ]
     },
     "execution_count": 7,
     "metadata": {},
     "output_type": "execute_result"
    }
   ],
   "source": [
    "super(Number)"
   ]
  },
  {
   "cell_type": "code",
   "execution_count": 2,
   "metadata": {
    "collapsed": false
   },
   "outputs": [
    {
     "data": {
      "text/plain": [
       "Vector2D{Float64}(3.0,4.0)"
      ]
     },
     "execution_count": 2,
     "metadata": {},
     "output_type": "execute_result"
    }
   ],
   "source": [
    "v = Vector2D(3., 4.)"
   ]
  },
  {
   "cell_type": "code",
   "execution_count": 3,
   "metadata": {
    "collapsed": false
   },
   "outputs": [
    {
     "ename": "LoadError",
     "evalue": "no method Vector2D{T<:Real}(Int64, Float64)\nwhile loading In[3], in expression starting on line 1",
     "output_type": "error",
     "traceback": [
      "no method Vector2D{T<:Real}(Int64, Float64)\nwhile loading In[3], in expression starting on line 1"
     ]
    }
   ],
   "source": [
    "v = Vector2D(3, 4.)"
   ]
  },
  {
   "cell_type": "code",
   "execution_count": 4,
   "metadata": {
    "collapsed": false
   },
   "outputs": [
    {
     "data": {
      "text/plain": [
       "Vector2D{Rational{Int64}}(3//4,5//6)"
      ]
     },
     "execution_count": 4,
     "metadata": {},
     "output_type": "execute_result"
    }
   ],
   "source": [
    "v = Vector2D(3//4, 5//6)"
   ]
  },
  {
   "cell_type": "code",
   "execution_count": 6,
   "metadata": {
    "collapsed": false
   },
   "outputs": [
    {
     "data": {
      "text/plain": [
       "show (generic function with 91 methods)"
      ]
     },
     "execution_count": 6,
     "metadata": {},
     "output_type": "execute_result"
    }
   ],
   "source": [
    "show{T}(io::IO, v::Vector2D{T}) = print(io, \"[$(v.x), $(v.y)]\")"
   ]
  },
  {
   "cell_type": "code",
   "execution_count": 7,
   "metadata": {
    "collapsed": false
   },
   "outputs": [
    {
     "data": {
      "text/plain": [
       "[3//4, 5//6]"
      ]
     },
     "execution_count": 7,
     "metadata": {},
     "output_type": "execute_result"
    }
   ],
   "source": [
    "v"
   ]
  },
  {
   "cell_type": "markdown",
   "metadata": {},
   "source": [
    "Here, the types of the two arguments were different, so there is no match for the type signature.\n"
   ]
  },
  {
   "cell_type": "markdown",
   "metadata": {},
   "source": [
    "We can define *outer constructors*, defined outside the type definition itself, which allow other ways of constructing the object:"
   ]
  },
  {
   "cell_type": "code",
   "execution_count": 8,
   "metadata": {
    "collapsed": false
   },
   "outputs": [
    {
     "data": {
      "text/plain": [
       "Vector2D{T<:Real} (constructor with 2 methods)"
      ]
     },
     "execution_count": 8,
     "metadata": {},
     "output_type": "execute_result"
    }
   ],
   "source": [
    "Vector2D{T}(x::T) = Vector2D(x, x)"
   ]
  },
  {
   "cell_type": "code",
   "execution_count": 9,
   "metadata": {
    "collapsed": false
   },
   "outputs": [
    {
     "data": {
      "text/plain": [
       "Vector2D{Int64}(3,3)"
      ]
     },
     "execution_count": 9,
     "metadata": {},
     "output_type": "execute_result"
    }
   ],
   "source": [
    "Vector2D(3)"
   ]
  },
  {
   "cell_type": "markdown",
   "metadata": {},
   "source": [
    "## Example: a simple type for a collection of particles"
   ]
  },
  {
   "cell_type": "markdown",
   "metadata": {},
   "source": [
    "Let's define a particle:"
   ]
  },
  {
   "cell_type": "code",
   "execution_count": 8,
   "metadata": {
    "collapsed": false
   },
   "outputs": [
    {
     "data": {
      "text/plain": [
       "move (generic function with 1 method)"
      ]
     },
     "execution_count": 8,
     "metadata": {},
     "output_type": "execute_result"
    }
   ],
   "source": [
    "type Particle\n",
    "    position::Vector2D{Float64}\n",
    "    velocity::Vector2D{Float64}\n",
    "end\n",
    "\n",
    "move(p::Particle, dt::Real) = p.position += p.velocity * dt"
   ]
  },
  {
   "cell_type": "code",
   "execution_count": 9,
   "metadata": {
    "collapsed": false
   },
   "outputs": [
    {
     "data": {
      "text/plain": [
       "show (generic function with 92 methods)"
      ]
     },
     "execution_count": 9,
     "metadata": {},
     "output_type": "execute_result"
    }
   ],
   "source": [
    "show(io::IO, p::Particle) = print(io, \"pos: $(p.position); vel: $(p.velocity)\")"
   ]
  },
  {
   "cell_type": "code",
   "execution_count": 11,
   "metadata": {
    "collapsed": false
   },
   "outputs": [
    {
     "data": {
      "text/plain": [
       "pos: [0.0, 0.0]; vel: [1.0, 1.0]"
      ]
     },
     "execution_count": 11,
     "metadata": {},
     "output_type": "execute_result"
    }
   ],
   "source": [
    "p = Particle(Vector2D(0.,0.), Vector2D(1.,1.))"
   ]
  },
  {
   "cell_type": "code",
   "execution_count": 13,
   "metadata": {
    "collapsed": false
   },
   "outputs": [
    {
     "data": {
      "text/plain": [
       "* (generic function with 127 methods)"
      ]
     },
     "execution_count": 13,
     "metadata": {},
     "output_type": "execute_result"
    }
   ],
   "source": [
    "+{T}(v1::Vector2D{T}, v2::Vector2D{T}) = Vector2D{T}(v1.x+v2.x, v1.y+v2.y)\n",
    "\n",
    "*{T}(v::Vector2D{T}, lamb::Number)  = Vector2D{T}(lamb*v.x, lamb*v.y)"
   ]
  },
  {
   "cell_type": "code",
   "execution_count": 14,
   "metadata": {
    "collapsed": false
   },
   "outputs": [
    {
     "data": {
      "text/plain": [
       "[0.1, 0.1]"
      ]
     },
     "execution_count": 14,
     "metadata": {},
     "output_type": "execute_result"
    }
   ],
   "source": [
    "move(p, 0.1)"
   ]
  },
  {
   "cell_type": "code",
   "execution_count": 8,
   "metadata": {
    "collapsed": false
   },
   "outputs": [
    {
     "data": {
      "text/plain": [
       "Particle(Vector2D(0.1,0.1),Vector2D(1.0,1.0))"
      ]
     },
     "execution_count": 8,
     "metadata": {},
     "output_type": "execute_result"
    }
   ],
   "source": [
    "p"
   ]
  },
  {
   "cell_type": "markdown",
   "metadata": {},
   "source": [
    "Now we can define a gas as a collection of particle:"
   ]
  },
  {
   "cell_type": "code",
   "execution_count": 15,
   "metadata": {
    "collapsed": false
   },
   "outputs": [
    {
     "data": {
      "text/plain": [
       "Int64"
      ]
     },
     "execution_count": 15,
     "metadata": {},
     "output_type": "execute_result"
    }
   ],
   "source": [
    "Int"
   ]
  },
  {
   "cell_type": "code",
   "execution_count": 16,
   "metadata": {
    "collapsed": false
   },
   "outputs": [],
   "source": [
    "type Gas\n",
    "    particles::Vector{Particle}  # Array{Particle, 1}\n",
    "    \n",
    "    function Gas(N::Integer)\n",
    "        parts = [Particle(Vector2D(rand(2)...), Vector2D(rand(2)...)) for i in 1:N]\n",
    "        new(parts)\n",
    "    end\n",
    "end"
   ]
  },
  {
   "cell_type": "code",
   "execution_count": 17,
   "metadata": {
    "collapsed": false
   },
   "outputs": [
    {
     "data": {
      "text/plain": [
       "show (generic function with 93 methods)"
      ]
     },
     "execution_count": 17,
     "metadata": {},
     "output_type": "execute_result"
    }
   ],
   "source": [
    "show(io::IO, g::Gas) = for i in 1:length(g.particles); \\\n",
    "    println(io, \"Particle $i: $(g.particles[i])\"); end"
   ]
  },
  {
   "cell_type": "code",
   "execution_count": 18,
   "metadata": {
    "collapsed": false
   },
   "outputs": [
    {
     "data": {
      "text/plain": [
       "Particle 1: pos: [0.8401571871406985, 0.18856970525763184]; vel: [0.4596812641022978, 0.5784262750724491]\n",
       "Particle 2: pos: [0.31451484655671647, 0.10567720577699169]; vel: [0.6793346556536703, 0.7043142026390625]\n",
       "Particle 3: pos: [0.2837859636931628, 0.5789334209946704]; vel: [0.6970907948612055, 0.9252322283977674]\n",
       "Particle 4: pos: [0.4880527858855739, 0.6011994939455119]; vel: [0.27086791922118336, 0.7983654060058591]\n",
       "Particle 5: pos: [0.40422329467131, 0.4167640334568994]; vel: [0.17875915401147457, 0.8245688498769441]\n",
       "Particle 6: pos: [0.11205564713828187, 0.31206386913314965]; vel: [0.9344556687726897, 0.10661012636906952]\n",
       "Particle 7: pos: [0.758378072195554, 0.296551074205055]; vel: [0.24019765986222263, 0.19659517334941445]\n",
       "Particle 8: pos: [0.19922196169683493, 0.5900826738906546]; vel: [0.2936470240291018, 0.6600190957249954]\n",
       "Particle 9: pos: [0.13252747366692819, 0.7307090616735368]; vel: [0.9020558731460289, 0.8512875803383082]\n",
       "Particle 10: pos: [0.3379179889713879, 0.06402477243763549]; vel: [0.6014263963042701, 0.22639908858998958]\n"
      ]
     },
     "execution_count": 18,
     "metadata": {},
     "output_type": "execute_result"
    }
   ],
   "source": [
    "g = Gas(10)"
   ]
  },
  {
   "cell_type": "code",
   "execution_count": 41,
   "metadata": {
    "collapsed": false
   },
   "outputs": [
    {
     "data": {
      "text/plain": [
       "Particle 1: pos: [0.730880319692343, 0.2796501535129359]; vel: [0.011193267298662768, 0.1896808129627281]\n",
       "Particle 2: pos: [1.16039593789992, 0.9441692275849607]; vel: [0.263429151377901, 0.8468877504970715]\n",
       "Particle 3: pos: [1.6666067582365627, 0.3961299078605012]; vel: [0.7700748108540991, 0.2196494577690271]\n",
       "Particle 4: pos: [0.9701729190049899, 0.7843895045657923]; vel: [0.25339292712850914, 0.35521212198092544]\n",
       "Particle 5: pos: [0.6973622153663408, 1.0810152148402645]; vel: [0.4550143749133051, 0.6443745244169132]\n",
       "Particle 6: pos: [0.7266153528207528, 0.22939062897384166]; vel: [0.23270614878986695, 0.2170317822421448]\n",
       "Particle 7: pos: [0.3522289676319774, 1.8952100652781094]; vel: [0.2328368405667145, 0.9154546952395797]\n",
       "Particle 8: pos: [0.6517052073532643, 0.7954128199341437]; vel: [0.6212587027599834, 0.40434264420206345]\n",
       "Particle 9: pos: [1.461020849277742, 1.0270123116841756]; vel: [0.7485545114358987, 0.23357706552863133]\n",
       "Particle 10: pos: [1.3454456302874394, 0.9754278188746057]; vel: [0.7429592498565307, 0.12339036567006523]\n"
      ]
     },
     "execution_count": 41,
     "metadata": {},
     "output_type": "execute_result"
    }
   ],
   "source": [
    "move(g, 1)\n",
    "g"
   ]
  },
  {
   "cell_type": "code",
   "execution_count": 36,
   "metadata": {
    "collapsed": false
   },
   "outputs": [
    {
     "data": {
      "text/plain": [
       "move (generic function with 2 methods)"
      ]
     },
     "execution_count": 36,
     "metadata": {},
     "output_type": "execute_result"
    }
   ],
   "source": [
    "function move(g::Gas, dt::Number)\n",
    "    for particle in g.particles\n",
    "        move(particle, dt)\n",
    "    end\n",
    "end"
   ]
  },
  {
   "cell_type": "code",
   "execution_count": 99,
   "metadata": {
    "collapsed": false
   },
   "outputs": [
    {
     "name": "stdout",
     "output_type": "stream",
     "text": [
      "[Particle(Vector2D(0.4100545643085276,0.7676363902728662),Vector2D(0.24938626268837427,0.9825967553493955)),Particle(Vector2D(0.2102452108859496,0.889693333563705),Vector2D(0.21287583861363224,0.8068570118314959)),Particle(Vector2D(0.19724340554018993,0.7904963971058772),Vector2D(0.536265203822587,0.9037289864895577)),Particle(Vector2D(0.25780964395756567,0.36770118129693063),Vector2D(0.8062880526148144,0.26950033650622607)),Particle(Vector2D(0.674431498602819,0.6854905990848916),Vector2D(0.7982268753553292,0.9381682737272479)),Particle(Vector2D(0.3107654997497411,0.00916652369829607),Vector2D(0.6903239459974226,0.3335712930840613)),Particle(Vector2D(0.8337757015793896,0.4019794592055861),Vector2D(0.8398063168102692,0.409628854228981)),Particle(Vector2D(0.8886642578985902,0.2662466340462406),Vector2D(0.36997149382773076,0.012723333186220875)),Particle(Vector2D(0.2980807091871105,0.4647730476022649),Vector2D(0.4908256919109293,0.1966075391583828)),Particle(Vector2D(0.9310095003592627,0.7354528651044734),Vector2D(0.9694676029513127,0.7690493773372564))]\n"
     ]
    }
   ],
   "source": [
    "move(g, 1)"
   ]
  },
  {
   "cell_type": "code",
   "execution_count": 100,
   "metadata": {
    "collapsed": false
   },
   "outputs": [
    {
     "name": "stdout",
     "output_type": "stream",
     "text": [
      "Particle("
     ]
    },
    {
     "data": {
      "text/plain": []
     },
     "execution_count": 100,
     "metadata": {},
     "output_type": "execute_result"
    },
    {
     "name": "stdout",
     "output_type": "stream",
     "text": [
      "Vector2D(0.6594408269969019,1.7502331456222617),Vector2D(0.24938626268837427,0.9825967553493955))\n",
      "Particle(Vector2D(0.42312104949958185,1.6965503453952009),Vector2D(0.21287583861363224,0.8068570118314959))\n",
      "Particle(Vector2D(0.733508609362777,1.6942253835954348),Vector2D(0.536265203822587,0.9037289864895577))\n",
      "Particle(Vector2D(1.06409769657238,0.6372015178031567),Vector2D(0.8062880526148144,0.26950033650622607))\n",
      "Particle(Vector2D(1.4726583739581482,1.6236588728121395),Vector2D(0.7982268753553292,0.9381682737272479))\n",
      "Particle(Vector2D(1.0010894457471637,0.3427378167823574),Vector2D(0.6903239459974226,0.3335712930840613))\n",
      "Particle(Vector2D(1.6735820183896588,0.8116083134345671),Vector2D(0.8398063168102692,0.409628854228981))\n",
      "Particle(Vector2D(1.258635751726321,0.2789699672324615),Vector2D(0.36997149382773076,0.012723333186220875))\n",
      "Particle(Vector2D(0.7889064010980398,0.6613805867606477),Vector2D(0.4908256919109293,0.1966075391583828))\n",
      "Particle(Vector2D(1.9004771033105754,1.5045022424417298),Vector2D(0.9694676029513127,0.7690493773372564))\n"
     ]
    }
   ],
   "source": [
    "g"
   ]
  },
  {
   "cell_type": "markdown",
   "metadata": {},
   "source": [
    "## Matrix multplication"
   ]
  },
  {
   "cell_type": "code",
   "execution_count": 23,
   "metadata": {
    "collapsed": false
   },
   "outputs": [
    {
     "data": {
      "text/plain": [
       "2x2 Array{Int64,2}:\n",
       " 1  1\n",
       " 0  1"
      ]
     },
     "execution_count": 23,
     "metadata": {},
     "output_type": "execute_result"
    }
   ],
   "source": [
    "M = [1 1; 0 1]"
   ]
  },
  {
   "cell_type": "code",
   "execution_count": 24,
   "metadata": {
    "collapsed": false
   },
   "outputs": [
    {
     "data": {
      "text/plain": [
       "2x2 Array{Int64,2}:\n",
       " 1  2\n",
       " 0  1"
      ]
     },
     "execution_count": 24,
     "metadata": {},
     "output_type": "execute_result"
    }
   ],
   "source": [
    "M * M"
   ]
  },
  {
   "cell_type": "code",
   "execution_count": 25,
   "metadata": {
    "collapsed": false
   },
   "outputs": [
    {
     "data": {
      "text/plain": [
       "2x2 Array{Int64,2}:\n",
       " 1  10\n",
       " 0   1"
      ]
     },
     "execution_count": 25,
     "metadata": {},
     "output_type": "execute_result"
    }
   ],
   "source": [
    "M^10"
   ]
  },
  {
   "cell_type": "code",
   "execution_count": 27,
   "metadata": {
    "collapsed": false
   },
   "outputs": [
    {
     "data": {
      "text/plain": [
       "2x2 Array{Float64,2}:\n",
       " 1.0  -1.0\n",
       " 0.0   1.0"
      ]
     },
     "execution_count": 27,
     "metadata": {},
     "output_type": "execute_result"
    }
   ],
   "source": [
    "M^(-1)"
   ]
  },
  {
   "cell_type": "code",
   "execution_count": 29,
   "metadata": {
    "collapsed": false
   },
   "outputs": [
    {
     "data": {
      "text/plain": [
       "2x2 Array{Float64,2}:\n",
       " 1.0  -1.0\n",
       " 0.0   1.0"
      ]
     },
     "execution_count": 29,
     "metadata": {},
     "output_type": "execute_result"
    }
   ],
   "source": [
    "inv(M)"
   ]
  },
  {
   "cell_type": "code",
   "execution_count": 30,
   "metadata": {
    "collapsed": false
   },
   "outputs": [
    {
     "data": {
      "text/plain": [
       "1"
      ]
     },
     "execution_count": 30,
     "metadata": {},
     "output_type": "execute_result"
    }
   ],
   "source": [
    "det(M)"
   ]
  },
  {
   "cell_type": "code",
   "execution_count": 31,
   "metadata": {
    "collapsed": false
   },
   "outputs": [
    {
     "data": {
      "text/plain": [
       "1.618033988749895"
      ]
     },
     "execution_count": 31,
     "metadata": {},
     "output_type": "execute_result"
    }
   ],
   "source": [
    "norm(M)"
   ]
  },
  {
   "cell_type": "code",
   "execution_count": 32,
   "metadata": {
    "collapsed": false
   },
   "outputs": [
    {
     "name": "stdout",
     "output_type": "stream",
     "text": [
      "Base.norm(A[, p])\n",
      "\n",
      "   Compute the \"p\"-norm of a vector or the operator norm of a matrix\n",
      "   \"A\", defaulting to the \"p=2\"-norm.\n",
      "\n",
      "   For vectors, \"p\" can assume any numeric value (even though not\n",
      "   all values produce a mathematically valid vector norm). In\n",
      "   particular, \"norm(A, Inf)\" returns the largest value in\n",
      "   \"abs(A)\", whereas \"norm(A, -Inf)\" returns the smallest.\n",
      "\n",
      "   For matrices, valid values of \"p\" are \"1\", \"2\", or \"Inf\".\n",
      "   (Note that for sparse matrices, \"p=2\" is currently not\n",
      "   implemented.) Use \"vecnorm()\" to compute the Frobenius norm.\n"
     ]
    }
   ],
   "source": [
    "?norm"
   ]
  },
  {
   "cell_type": "code",
   "execution_count": 34,
   "metadata": {
    "collapsed": false
   },
   "outputs": [
    {
     "data": {
      "text/plain": [
       "([1.0,1.0],\n",
       "2x2 Array{Float64,2}:\n",
       " 1.0  -1.0        \n",
       " 0.0   2.22045e-16)"
      ]
     },
     "execution_count": 34,
     "metadata": {},
     "output_type": "execute_result"
    }
   ],
   "source": [
    "lamb, vv = eig(M)"
   ]
  },
  {
   "cell_type": "code",
   "execution_count": 23,
   "metadata": {
    "collapsed": false
   },
   "outputs": [
    {
     "data": {
      "text/html": [
       "3 methods for generic function <b>Symmetric</b>:<ul><li> Symmetric<i>{T}</i>(S::<b>Array{T,2}</b>,uplo::<b>Char</b>)<li> Symmetric(A::<b>Array{T,2}</b>) at <a href=\"https://github.com/JuliaLang/julia/tree/7e7462150f72721caf0e6bd6e7e7e500d1efb187/base/linalg/symmetric.jl#L6\" target=\"_blank\">linalg/symmetric.jl:6</a><li> Symmetric(A::<b>Array{T,2}</b>,uplo::<b>Symbol</b>) at <a href=\"https://github.com/JuliaLang/julia/tree/7e7462150f72721caf0e6bd6e7e7e500d1efb187/base/linalg/symmetric.jl#L6\" target=\"_blank\">linalg/symmetric.jl:6</a></ul>"
      ],
      "text/plain": [
       "# 3 methods for generic function \"Symmetric\":\n",
       "Symmetric{T}(S::Array{T,2},uplo::Char)\n",
       "Symmetric(A::Array{T,2}) at linalg/symmetric.jl:6\n",
       "Symmetric(A::Array{T,2},uplo::Symbol) at linalg/symmetric.jl:6"
      ]
     },
     "execution_count": 23,
     "metadata": {},
     "output_type": "execute_result"
    }
   ],
   "source": [
    "methods(Symmetric)"
   ]
  },
  {
   "cell_type": "markdown",
   "metadata": {},
   "source": [
    "## Eigenvalues of a random matrix"
   ]
  },
  {
   "cell_type": "markdown",
   "metadata": {},
   "source": [
    "----\n",
    "**Exercise**: Generate a random matrix of $1000 \\times 1000$ gaussian random variates. \n",
    "Calculate its eigenvalues and plot them. Calculate the differences between consecutive eigenvalues and plot a histogram of them.\n",
    "\n",
    "----"
   ]
  },
  {
   "cell_type": "code",
   "execution_count": 15,
   "metadata": {
    "collapsed": false
   },
   "outputs": [],
   "source": [
    "N = 1000\n",
    "M = randn(N, N)\n",
    "M = Symmetric(M);"
   ]
  },
  {
   "cell_type": "code",
   "execution_count": 16,
   "metadata": {
    "collapsed": false
   },
   "outputs": [
    {
     "data": {
      "text/plain": [
       "Symmetric{Float64} (constructor with 2 methods)"
      ]
     },
     "execution_count": 16,
     "metadata": {},
     "output_type": "execute_result"
    }
   ],
   "source": [
    "typeof(M)"
   ]
  },
  {
   "cell_type": "code",
   "execution_count": 20,
   "metadata": {
    "collapsed": false
   },
   "outputs": [
    {
     "data": {
      "text/html": [
       "dot(x::<b>AbstractArray{T,1}</b>,y::<b>AbstractArray{T,1}</b>) at <a href=\"https://github.com/JuliaLang/julia/tree/7e7462150f72721caf0e6bd6e7e7e500d1efb187/base/linalg/matmul.jl#L49\" target=\"_blank\">linalg/matmul.jl:49</a>"
      ],
      "text/plain": [
       "dot(x::AbstractArray{T,1},y::AbstractArray{T,1}) at linalg/matmul.jl:49"
      ]
     },
     "execution_count": 20,
     "metadata": {},
     "output_type": "execute_result"
    }
   ],
   "source": [
    "@which dot([3], [4])"
   ]
  },
  {
   "cell_type": "code",
   "execution_count": 19,
   "metadata": {
    "collapsed": false
   },
   "outputs": [
    {
     "name": "stderr",
     "output_type": "stream",
     "text": [
      "INFO: Loading help data...\n"
     ]
    },
    {
     "name": "stdout",
     "output_type": "stream",
     "text": [
      "Base.dot(x, y)\n",
      "\n",
      "   Compute the dot product. For complex vectors, the first vector is\n",
      "   conjugated.\n",
      "\n",
      "Base.LinAlg.BLAS.dot(n, X, incx, Y, incy)\n",
      "\n",
      "   Dot product of two vectors consisting of \"n\" elements of array\n",
      "   \"X\" with stride \"incx\" and \"n\" elements of array \"Y\" with\n",
      "   stride \"incy\".\n"
     ]
    }
   ],
   "source": [
    "help(\"dot\")"
   ]
  },
  {
   "cell_type": "code",
   "execution_count": 17,
   "metadata": {
    "collapsed": false
   },
   "outputs": [
    {
     "name": "stdout",
     "output_type": "stream",
     "text": [
      "elapsed time: 0.495310114 seconds (24377616 bytes allocated)\n"
     ]
    }
   ],
   "source": [
    "@time lamb, vv = eig(M);"
   ]
  },
  {
   "cell_type": "code",
   "execution_count": 13,
   "metadata": {
    "collapsed": false
   },
   "outputs": [
    {
     "name": "stderr",
     "output_type": "stream",
     "text": [
      "INFO: Loading help data...\n"
     ]
    }
   ],
   "source": [
    "using PyPlot"
   ]
  },
  {
   "cell_type": "code",
   "execution_count": 18,
   "metadata": {
    "collapsed": false
   },
   "outputs": [
    {
     "data": {
      "image/png": "[encoded data removed]",
      "text/plain": [
       "Figure(PyObject <matplotlib.figure.Figure object at 0x11316eed0>)"
      ]
     },
     "metadata": {},
     "output_type": "display_data"
    },
    {
     "data": {
      "text/plain": [
       "1-element Array{Any,1}:\n",
       " PyObject <matplotlib.lines.Line2D object at 0x10a503250>"
      ]
     },
     "execution_count": 18,
     "metadata": {},
     "output_type": "execute_result"
    }
   ],
   "source": [
    "plot(lamb, \"o-\")"
   ]
  },
  {
   "cell_type": "code",
   "execution_count": 50,
   "metadata": {
    "collapsed": false
   },
   "outputs": [
    {
     "data": {
      "image/png": "[encoded data removed]",
      "text/plain": [
       "Figure(PyObject <matplotlib.figure.Figure object at 0x126ad2510>)"
      ]
     },
     "metadata": {},
     "output_type": "display_data"
    },
    {
     "data": {
      "text/plain": [
       "1-element Array{Any,1}:\n",
       " PyObject <matplotlib.lines.Line2D object at 0x12739cad0>"
      ]
     },
     "execution_count": 50,
     "metadata": {},
     "output_type": "execute_result"
    }
   ],
   "source": [
    "PyPlot.figure(figsize=(8,4))\n",
    "plot(lamb, \"o-\")"
   ]
  },
  {
   "cell_type": "code",
   "execution_count": 22,
   "metadata": {
    "collapsed": false
   },
   "outputs": [],
   "source": [
    "differences = diff(lamb);"
   ]
  },
  {
   "cell_type": "code",
   "execution_count": 23,
   "metadata": {
    "collapsed": false
   },
   "outputs": [
    {
     "data": {
      "image/png": "[encoded data removed]",
      "text/plain": [
       "Figure(PyObject <matplotlib.figure.Figure object at 0x10a4f11d0>)"
      ]
     },
     "metadata": {},
     "output_type": "display_data"
    },
    {
     "data": {
      "text/plain": [
       "1-element Array{Any,1}:\n",
       " PyObject <matplotlib.lines.Line2D object at 0x1039fe650>"
      ]
     },
     "execution_count": 23,
     "metadata": {},
     "output_type": "execute_result"
    }
   ],
   "source": [
    "plot(differences, \"o-\")"
   ]
  },
  {
   "cell_type": "code",
   "execution_count": 53,
   "metadata": {
    "collapsed": false
   },
   "outputs": [
    {
     "data": {
      "text/plain": [
       "(0.0:0.002:0.14400000000000002,[23,67,129,145,186,148,169,163,133,136  …  0,0,0,0,0,0,0,0,0,1])"
      ]
     },
     "execution_count": 53,
     "metadata": {},
     "output_type": "execute_result"
    }
   ],
   "source": [
    "h = hist(d, 100)"
   ]
  },
  {
   "cell_type": "code",
   "execution_count": 59,
   "metadata": {
    "collapsed": false
   },
   "outputs": [
    {
     "data": {
      "image/png": "[encoded data removed]",
      "text/plain": [
       "Figure(PyObject <matplotlib.figure.Figure object at 0x1279dd350>)"
      ]
     },
     "metadata": {},
     "output_type": "display_data"
    },
    {
     "data": {
      "text/plain": [
       "1-element Array{Any,1}:\n",
       " PyObject <matplotlib.lines.Line2D object at 0x127a18350>"
      ]
     },
     "execution_count": 59,
     "metadata": {},
     "output_type": "execute_result"
    }
   ],
   "source": [
    "plot(collect(h[1][1:end-1]), h[2])"
   ]
  },
  {
   "cell_type": "markdown",
   "metadata": {},
   "source": [
    "requires vs include vs using vs import\n"
   ]
  },
  {
   "cell_type": "code",
   "execution_count": 70,
   "metadata": {
    "collapsed": false
   },
   "outputs": [
    {
     "data": {
      "text/plain": [
       "10-element Array{Particle,1}:\n",
       " Particle(Vector2D(1.1970706607995785,0.9626230979634414),Vector2D(0.860883456513649,0.6912433760368852))    \n",
       " Particle(Vector2D(1.053173102651149,0.1511931905677396),Vector2D(0.8340780458653039,0.25711513963745936))   \n",
       " Particle(Vector2D(0.23418507182780868,0.1636419234893668),Vector2D(0.5955322025693717,0.24991956880512323)) \n",
       " Particle(Vector2D(0.42255575858509486,0.5273931990785453),Vector2D(0.2006799940853723,0.6328159954800312))  \n",
       " Particle(Vector2D(0.3068915889399675,0.13605825532312857),Vector2D(0.43637626808391783,0.18840541521552945))\n",
       " Particle(Vector2D(1.261065364493417,0.7019570824715238),Vector2D(0.8829407354236436,0.8559843409264631))    \n",
       " Particle(Vector2D(0.19304010783643638,0.6135945878339716),Vector2D(0.5699319437166632,0.633292636020014))   \n",
       " Particle(Vector2D(0.6975851395549426,0.35822475426018596),Vector2D(0.9632833403270651,0.6328280131492559))  \n",
       " Particle(Vector2D(1.1112601539035263,0.5851179879294491),Vector2D(0.9151617509797421,0.664341462715691))    \n",
       " Particle(Vector2D(0.3128717288502572,1.2580516751593864),Vector2D(0.37515387127035216,0.9028796885418442))  "
      ]
     },
     "execution_count": 70,
     "metadata": {},
     "output_type": "execute_result"
    }
   ],
   "source": [
    "g.particles"
   ]
  },
  {
   "cell_type": "code",
   "execution_count": 71,
   "metadata": {
    "collapsed": false
   },
   "outputs": [
    {
     "data": {
      "text/plain": [
       "10-element Array{Particle,1}:\n",
       " Particle(Vector2D(2.057954117313227,1.6538664740003266),Vector2D(0.860883456513649,0.6912433760368852))   \n",
       " Particle(Vector2D(1.887251148516453,0.40830833020519897),Vector2D(0.8340780458653039,0.25711513963745936))\n",
       " Particle(Vector2D(0.8297172743971803,0.41356149229449),Vector2D(0.5955322025693717,0.24991956880512323))  \n",
       " Particle(Vector2D(0.6232357526704672,1.1602091945585764),Vector2D(0.2006799940853723,0.6328159954800312)) \n",
       " Particle(Vector2D(0.7432678570238853,0.324463670538658),Vector2D(0.43637626808391783,0.18840541521552945))\n",
       " Particle(Vector2D(2.1440060999170605,1.557941423397987),Vector2D(0.8829407354236436,0.8559843409264631))  \n",
       " Particle(Vector2D(0.7629720515530996,1.2468872238539856),Vector2D(0.5699319437166632,0.633292636020014))  \n",
       " Particle(Vector2D(1.6608684798820077,0.9910527674094418),Vector2D(0.9632833403270651,0.6328280131492559)) \n",
       " Particle(Vector2D(2.0264219048832683,1.2494594506451402),Vector2D(0.9151617509797421,0.664341462715691))  \n",
       " Particle(Vector2D(0.6880256001206093,2.1609313637012306),Vector2D(0.37515387127035216,0.9028796885418442))"
      ]
     },
     "execution_count": 71,
     "metadata": {},
     "output_type": "execute_result"
    }
   ],
   "source": [
    "for particle in g.particles\n",
    "    move(particle, 1)\n",
    "end\n",
    "\n",
    "g.particles"
   ]
  }
 ],
 "metadata": {
  "kernelspec": {
   "display_name": "Julia 0.3.9",
   "language": "julia",
   "name": "julia-0.3"
  },
  "language_info": {
   "name": "julia",
   "version": "0.3.9"
  }
 },
 "nbformat": 4,
 "nbformat_minor": 0
}
